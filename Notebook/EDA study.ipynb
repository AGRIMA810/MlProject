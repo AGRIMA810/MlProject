{
 "cells": [
  {
   "attachments": {},
   "cell_type": "markdown",
   "metadata": {},
   "source": [
    "Life Cycle of Machine learning Project \n",
    "- understanding problem statement \n",
    "- data collection \n",
    "- data checks to perform \n",
    "- exploratory data analysis \n",
    "- data pre-processing \n",
    "- model training \n",
    "- choose best model "
   ]
  },
  {
   "attachments": {},
   "cell_type": "markdown",
   "metadata": {},
   "source": [
    "1. PROBLEM STATEMENT \n"
   ]
  },
  {
   "attachments": {},
   "cell_type": "markdown",
   "metadata": {},
   "source": [
    "This project predicts polarity of the reviews(positive,negative or neutral) using the review text of the customers."
   ]
  },
  {
   "attachments": {},
   "cell_type": "markdown",
   "metadata": {},
   "source": [
    "2. DATA COLLECTION"
   ]
  },
  {
   "attachments": {},
   "cell_type": "markdown",
   "metadata": {},
   "source": [
    "- dataset source - https://www.kaggle.com/datasets/nenamalikah/nlp-ulta-skincare-reviews?resource=download\n",
    "- the data consist of 4150 rows and 10 columns.\n"
   ]
  },
  {
   "attachments": {},
   "cell_type": "markdown",
   "metadata": {},
   "source": [
    "2.1 Import Data and required Packages \n"
   ]
  },
  {
   "attachments": {},
   "cell_type": "markdown",
   "metadata": {},
   "source": [
    "Importing Pandas,Numpy,Matplotlib,Seaborn Library. "
   ]
  },
  {
   "cell_type": "code",
   "execution_count": 1,
   "metadata": {},
   "outputs": [],
   "source": [
    "import pandas as pd \n",
    "import numpy as np \n",
    "import matplotlib.pyplot as plt \n",
    "%matplotlib inline \n",
    "import warnings\n",
    "warnings.filterwarnings('ignore')"
   ]
  },
  {
   "attachments": {},
   "cell_type": "markdown",
   "metadata": {},
   "source": [
    "Import the csv Data as pandas Dataframe "
   ]
  },
  {
   "cell_type": "code",
   "execution_count": 2,
   "metadata": {},
   "outputs": [],
   "source": [
    "df = pd.read_csv('Data/Ulta Skincare Reviews.csv')"
   ]
  },
  {
   "cell_type": "code",
   "execution_count": 3,
   "metadata": {},
   "outputs": [
    {
     "data": {
      "text/html": [
       "<div>\n",
       "<style scoped>\n",
       "    .dataframe tbody tr th:only-of-type {\n",
       "        vertical-align: middle;\n",
       "    }\n",
       "\n",
       "    .dataframe tbody tr th {\n",
       "        vertical-align: top;\n",
       "    }\n",
       "\n",
       "    .dataframe thead th {\n",
       "        text-align: right;\n",
       "    }\n",
       "</style>\n",
       "<table border=\"1\" class=\"dataframe\">\n",
       "  <thead>\n",
       "    <tr style=\"text-align: right;\">\n",
       "      <th></th>\n",
       "      <th>Review_Title</th>\n",
       "      <th>Review_Text</th>\n",
       "      <th>Verified_Buyer</th>\n",
       "      <th>Review_Date</th>\n",
       "      <th>Review_Location</th>\n",
       "      <th>Review_Upvotes</th>\n",
       "      <th>Review_Downvotes</th>\n",
       "      <th>Product</th>\n",
       "      <th>Brand</th>\n",
       "      <th>Scrape_Date</th>\n",
       "    </tr>\n",
       "  </thead>\n",
       "  <tbody>\n",
       "    <tr>\n",
       "      <th>0</th>\n",
       "      <td>Perfect</td>\n",
       "      <td>Love using this on my face while in the shower...</td>\n",
       "      <td>No</td>\n",
       "      <td>15 days ago</td>\n",
       "      <td>Undisclosed</td>\n",
       "      <td>0</td>\n",
       "      <td>0</td>\n",
       "      <td>Multi-Vitamin Thermafoliant</td>\n",
       "      <td>Dermalogica</td>\n",
       "      <td>3/27/23</td>\n",
       "    </tr>\n",
       "    <tr>\n",
       "      <th>1</th>\n",
       "      <td>You need this</td>\n",
       "      <td>Even better than the daily microfoliant. I'm o...</td>\n",
       "      <td>No</td>\n",
       "      <td>27 days ago</td>\n",
       "      <td>Undisclosed</td>\n",
       "      <td>0</td>\n",
       "      <td>0</td>\n",
       "      <td>Multi-Vitamin Thermafoliant</td>\n",
       "      <td>Dermalogica</td>\n",
       "      <td>3/27/23</td>\n",
       "    </tr>\n",
       "    <tr>\n",
       "      <th>2</th>\n",
       "      <td>Clean skin</td>\n",
       "      <td>Enjoy this product so much ! I look forward to...</td>\n",
       "      <td>No</td>\n",
       "      <td>2 months ago</td>\n",
       "      <td>Undisclosed</td>\n",
       "      <td>0</td>\n",
       "      <td>0</td>\n",
       "      <td>Multi-Vitamin Thermafoliant</td>\n",
       "      <td>Dermalogica</td>\n",
       "      <td>3/27/23</td>\n",
       "    </tr>\n",
       "    <tr>\n",
       "      <th>3</th>\n",
       "      <td>Love This Stuff!</td>\n",
       "      <td>I've never tried anything like this before and...</td>\n",
       "      <td>No</td>\n",
       "      <td>2 months ago</td>\n",
       "      <td>Undisclosed</td>\n",
       "      <td>0</td>\n",
       "      <td>0</td>\n",
       "      <td>Multi-Vitamin Thermafoliant</td>\n",
       "      <td>Dermalogica</td>\n",
       "      <td>3/27/23</td>\n",
       "    </tr>\n",
       "    <tr>\n",
       "      <th>4</th>\n",
       "      <td>This exfoliates very nicely and</td>\n",
       "      <td>This exfoliates very nicely and gives a very s...</td>\n",
       "      <td>No</td>\n",
       "      <td>2 months ago</td>\n",
       "      <td>Undisclosed</td>\n",
       "      <td>0</td>\n",
       "      <td>0</td>\n",
       "      <td>Multi-Vitamin Thermafoliant</td>\n",
       "      <td>Dermalogica</td>\n",
       "      <td>3/27/23</td>\n",
       "    </tr>\n",
       "  </tbody>\n",
       "</table>\n",
       "</div>"
      ],
      "text/plain": [
       "                      Review_Title  \\\n",
       "0                          Perfect   \n",
       "1                    You need this   \n",
       "2                       Clean skin   \n",
       "3                 Love This Stuff!   \n",
       "4  This exfoliates very nicely and   \n",
       "\n",
       "                                         Review_Text Verified_Buyer  \\\n",
       "0  Love using this on my face while in the shower...             No   \n",
       "1  Even better than the daily microfoliant. I'm o...             No   \n",
       "2  Enjoy this product so much ! I look forward to...             No   \n",
       "3  I've never tried anything like this before and...             No   \n",
       "4  This exfoliates very nicely and gives a very s...             No   \n",
       "\n",
       "    Review_Date Review_Location  Review_Upvotes  Review_Downvotes  \\\n",
       "0   15 days ago     Undisclosed               0                 0   \n",
       "1   27 days ago     Undisclosed               0                 0   \n",
       "2  2 months ago     Undisclosed               0                 0   \n",
       "3  2 months ago     Undisclosed               0                 0   \n",
       "4  2 months ago     Undisclosed               0                 0   \n",
       "\n",
       "                       Product        Brand Scrape_Date  \n",
       "0  Multi-Vitamin Thermafoliant  Dermalogica     3/27/23  \n",
       "1  Multi-Vitamin Thermafoliant  Dermalogica     3/27/23  \n",
       "2  Multi-Vitamin Thermafoliant  Dermalogica     3/27/23  \n",
       "3  Multi-Vitamin Thermafoliant  Dermalogica     3/27/23  \n",
       "4  Multi-Vitamin Thermafoliant  Dermalogica     3/27/23  "
      ]
     },
     "execution_count": 3,
     "metadata": {},
     "output_type": "execute_result"
    }
   ],
   "source": [
    "df.head()"
   ]
  },
  {
   "cell_type": "code",
   "execution_count": 4,
   "metadata": {},
   "outputs": [
    {
     "data": {
      "text/plain": [
       "(4150, 10)"
      ]
     },
     "execution_count": 4,
     "metadata": {},
     "output_type": "execute_result"
    }
   ],
   "source": [
    "df.shape"
   ]
  },
  {
   "attachments": {},
   "cell_type": "markdown",
   "metadata": {},
   "source": []
  },
  {
   "attachments": {},
   "cell_type": "markdown",
   "metadata": {},
   "source": [
    "2.2 Dataset Information"
   ]
  },
  {
   "attachments": {},
   "cell_type": "markdown",
   "metadata": {},
   "source": [
    "- Review Title: The title of the review.\n",
    "- Review_Text: The full text of the review.\n",
    "- Verified_Buyer: Whether the reviewer is a verified buyer of the product.\n",
    "- Review_Date: The date the review was published relative to the review scrape date.\n",
    "- Review_Location: The location of the reviewer.\n",
    "- Review_Upvotes: How many times the review was upvoted by other reviewers.\n",
    "- Review_Downvotes: How many times the review was downvoted by other reviewers.\n",
    "- Product: The name of the product the review was issued for.\n",
    "- Brand: The brand of the product.\n",
    "- Scrape Date: The date the data was pulled from the web."
   ]
  },
  {
   "attachments": {},
   "cell_type": "markdown",
   "metadata": {},
   "source": [
    "3. Data Checks to perform \n",
    "    - check missing values\n",
    "    - check duplicates \n",
    "    - check data type\n",
    "    - check number of unique values of each   colomn\n",
    "    - check statistics of dataset  \n"
   ]
  },
  {
   "attachments": {},
   "cell_type": "markdown",
   "metadata": {},
   "source": [
    "3.1 Check Missing values \n"
   ]
  },
  {
   "cell_type": "code",
   "execution_count": 5,
   "metadata": {},
   "outputs": [
    {
     "data": {
      "text/plain": [
       "Review_Title        0\n",
       "Review_Text         2\n",
       "Verified_Buyer      0\n",
       "Review_Date         0\n",
       "Review_Location     1\n",
       "Review_Upvotes      0\n",
       "Review_Downvotes    0\n",
       "Product             0\n",
       "Brand               0\n",
       "Scrape_Date         0\n",
       "dtype: int64"
      ]
     },
     "execution_count": 5,
     "metadata": {},
     "output_type": "execute_result"
    }
   ],
   "source": [
    "df.isna().sum()"
   ]
  },
  {
   "attachments": {},
   "cell_type": "markdown",
   "metadata": {},
   "source": [
    "2 null values in review text and one null value in review location. "
   ]
  },
  {
   "attachments": {},
   "cell_type": "markdown",
   "metadata": {},
   "source": [
    "Dealing with null value in review text - "
   ]
  },
  {
   "cell_type": "code",
   "execution_count": 6,
   "metadata": {},
   "outputs": [],
   "source": [
    "df.dropna(axis = 0, inplace = True)"
   ]
  },
  {
   "cell_type": "code",
   "execution_count": 7,
   "metadata": {},
   "outputs": [
    {
     "data": {
      "text/plain": [
       "Review_Title        0\n",
       "Review_Text         0\n",
       "Verified_Buyer      0\n",
       "Review_Date         0\n",
       "Review_Location     0\n",
       "Review_Upvotes      0\n",
       "Review_Downvotes    0\n",
       "Product             0\n",
       "Brand               0\n",
       "Scrape_Date         0\n",
       "dtype: int64"
      ]
     },
     "execution_count": 7,
     "metadata": {},
     "output_type": "execute_result"
    }
   ],
   "source": [
    "df.isnull().sum()"
   ]
  },
  {
   "attachments": {},
   "cell_type": "markdown",
   "metadata": {},
   "source": [
    "now there is no null values in the dataset. Since the dataset had only 2 values in review text that was null. Now the rows having null values is deleted. "
   ]
  },
  {
   "attachments": {},
   "cell_type": "markdown",
   "metadata": {},
   "source": [
    "3.2 check duplicates"
   ]
  },
  {
   "cell_type": "code",
   "execution_count": 8,
   "metadata": {},
   "outputs": [
    {
     "data": {
      "text/plain": [
       "0       False\n",
       "1       False\n",
       "2       False\n",
       "3       False\n",
       "4       False\n",
       "        ...  \n",
       "4145    False\n",
       "4146    False\n",
       "4147    False\n",
       "4148    False\n",
       "4149    False\n",
       "Name: Review_Text, Length: 4147, dtype: bool"
      ]
     },
     "execution_count": 8,
     "metadata": {},
     "output_type": "execute_result"
    }
   ],
   "source": [
    "df.Review_Text.duplicated()"
   ]
  },
  {
   "attachments": {},
   "cell_type": "markdown",
   "metadata": {},
   "source": [
    "No duplicate value present in the dataset."
   ]
  },
  {
   "attachments": {},
   "cell_type": "markdown",
   "metadata": {},
   "source": [
    "3.3 check data types"
   ]
  },
  {
   "cell_type": "code",
   "execution_count": 9,
   "metadata": {},
   "outputs": [
    {
     "name": "stdout",
     "output_type": "stream",
     "text": [
      "<class 'pandas.core.frame.DataFrame'>\n",
      "Int64Index: 4147 entries, 0 to 4149\n",
      "Data columns (total 10 columns):\n",
      " #   Column            Non-Null Count  Dtype \n",
      "---  ------            --------------  ----- \n",
      " 0   Review_Title      4147 non-null   object\n",
      " 1   Review_Text       4147 non-null   object\n",
      " 2   Verified_Buyer    4147 non-null   object\n",
      " 3   Review_Date       4147 non-null   object\n",
      " 4   Review_Location   4147 non-null   object\n",
      " 5   Review_Upvotes    4147 non-null   int64 \n",
      " 6   Review_Downvotes  4147 non-null   int64 \n",
      " 7   Product           4147 non-null   object\n",
      " 8   Brand             4147 non-null   object\n",
      " 9   Scrape_Date       4147 non-null   object\n",
      "dtypes: int64(2), object(8)\n",
      "memory usage: 356.4+ KB\n"
     ]
    }
   ],
   "source": [
    "df.info()"
   ]
  },
  {
   "attachments": {},
   "cell_type": "markdown",
   "metadata": {},
   "source": [
    "3.4 check for unique values"
   ]
  },
  {
   "cell_type": "code",
   "execution_count": 10,
   "metadata": {},
   "outputs": [
    {
     "data": {
      "text/plain": [
       "Review_Title        2825\n",
       "Review_Text         3660\n",
       "Verified_Buyer         2\n",
       "Review_Date           41\n",
       "Review_Location     1423\n",
       "Review_Upvotes        23\n",
       "Review_Downvotes      15\n",
       "Product                4\n",
       "Brand                  1\n",
       "Scrape_Date            1\n",
       "dtype: int64"
      ]
     },
     "execution_count": 10,
     "metadata": {},
     "output_type": "execute_result"
    }
   ],
   "source": [
    "df.nunique()"
   ]
  },
  {
   "attachments": {},
   "cell_type": "markdown",
   "metadata": {},
   "source": [
    "out of 4170 rows , scrape date,brand and verified buyer has very less unique data that wont be useful for modelling. "
   ]
  },
  {
   "cell_type": "code",
   "execution_count": 11,
   "metadata": {},
   "outputs": [],
   "source": [
    "df.drop(['Brand','Scrape_Date'], axis=1,inplace = True)"
   ]
  },
  {
   "attachments": {},
   "cell_type": "markdown",
   "metadata": {},
   "source": [
    "Daily Superfoliant and Daily Microfoliant have same value counts.minimum number of reviews are of Multi-Vitamin Thermafoliant . "
   ]
  },
  {
   "cell_type": "code",
   "execution_count": 12,
   "metadata": {},
   "outputs": [],
   "source": [
    "df.drop(['Verified_Buyer','Review_Date'], axis=1,inplace = True)"
   ]
  },
  {
   "cell_type": "code",
   "execution_count": 13,
   "metadata": {},
   "outputs": [
    {
     "data": {
      "text/html": [
       "<div>\n",
       "<style scoped>\n",
       "    .dataframe tbody tr th:only-of-type {\n",
       "        vertical-align: middle;\n",
       "    }\n",
       "\n",
       "    .dataframe tbody tr th {\n",
       "        vertical-align: top;\n",
       "    }\n",
       "\n",
       "    .dataframe thead th {\n",
       "        text-align: right;\n",
       "    }\n",
       "</style>\n",
       "<table border=\"1\" class=\"dataframe\">\n",
       "  <thead>\n",
       "    <tr style=\"text-align: right;\">\n",
       "      <th></th>\n",
       "      <th>Review_Title</th>\n",
       "      <th>Review_Text</th>\n",
       "      <th>Review_Location</th>\n",
       "      <th>Review_Upvotes</th>\n",
       "      <th>Review_Downvotes</th>\n",
       "      <th>Product</th>\n",
       "    </tr>\n",
       "  </thead>\n",
       "  <tbody>\n",
       "    <tr>\n",
       "      <th>0</th>\n",
       "      <td>Perfect</td>\n",
       "      <td>Love using this on my face while in the shower...</td>\n",
       "      <td>Undisclosed</td>\n",
       "      <td>0</td>\n",
       "      <td>0</td>\n",
       "      <td>Multi-Vitamin Thermafoliant</td>\n",
       "    </tr>\n",
       "    <tr>\n",
       "      <th>1</th>\n",
       "      <td>You need this</td>\n",
       "      <td>Even better than the daily microfoliant. I'm o...</td>\n",
       "      <td>Undisclosed</td>\n",
       "      <td>0</td>\n",
       "      <td>0</td>\n",
       "      <td>Multi-Vitamin Thermafoliant</td>\n",
       "    </tr>\n",
       "    <tr>\n",
       "      <th>2</th>\n",
       "      <td>Clean skin</td>\n",
       "      <td>Enjoy this product so much ! I look forward to...</td>\n",
       "      <td>Undisclosed</td>\n",
       "      <td>0</td>\n",
       "      <td>0</td>\n",
       "      <td>Multi-Vitamin Thermafoliant</td>\n",
       "    </tr>\n",
       "    <tr>\n",
       "      <th>3</th>\n",
       "      <td>Love This Stuff!</td>\n",
       "      <td>I've never tried anything like this before and...</td>\n",
       "      <td>Undisclosed</td>\n",
       "      <td>0</td>\n",
       "      <td>0</td>\n",
       "      <td>Multi-Vitamin Thermafoliant</td>\n",
       "    </tr>\n",
       "    <tr>\n",
       "      <th>4</th>\n",
       "      <td>This exfoliates very nicely and</td>\n",
       "      <td>This exfoliates very nicely and gives a very s...</td>\n",
       "      <td>Undisclosed</td>\n",
       "      <td>0</td>\n",
       "      <td>0</td>\n",
       "      <td>Multi-Vitamin Thermafoliant</td>\n",
       "    </tr>\n",
       "  </tbody>\n",
       "</table>\n",
       "</div>"
      ],
      "text/plain": [
       "                      Review_Title  \\\n",
       "0                          Perfect   \n",
       "1                    You need this   \n",
       "2                       Clean skin   \n",
       "3                 Love This Stuff!   \n",
       "4  This exfoliates very nicely and   \n",
       "\n",
       "                                         Review_Text Review_Location  \\\n",
       "0  Love using this on my face while in the shower...     Undisclosed   \n",
       "1  Even better than the daily microfoliant. I'm o...     Undisclosed   \n",
       "2  Enjoy this product so much ! I look forward to...     Undisclosed   \n",
       "3  I've never tried anything like this before and...     Undisclosed   \n",
       "4  This exfoliates very nicely and gives a very s...     Undisclosed   \n",
       "\n",
       "   Review_Upvotes  Review_Downvotes                      Product  \n",
       "0               0                 0  Multi-Vitamin Thermafoliant  \n",
       "1               0                 0  Multi-Vitamin Thermafoliant  \n",
       "2               0                 0  Multi-Vitamin Thermafoliant  \n",
       "3               0                 0  Multi-Vitamin Thermafoliant  \n",
       "4               0                 0  Multi-Vitamin Thermafoliant  "
      ]
     },
     "execution_count": 13,
     "metadata": {},
     "output_type": "execute_result"
    }
   ],
   "source": [
    "df.head()"
   ]
  },
  {
   "attachments": {},
   "cell_type": "markdown",
   "metadata": {},
   "source": [
    "3.5 Check statistics of the dataset "
   ]
  },
  {
   "cell_type": "code",
   "execution_count": 14,
   "metadata": {},
   "outputs": [
    {
     "data": {
      "text/html": [
       "<div>\n",
       "<style scoped>\n",
       "    .dataframe tbody tr th:only-of-type {\n",
       "        vertical-align: middle;\n",
       "    }\n",
       "\n",
       "    .dataframe tbody tr th {\n",
       "        vertical-align: top;\n",
       "    }\n",
       "\n",
       "    .dataframe thead th {\n",
       "        text-align: right;\n",
       "    }\n",
       "</style>\n",
       "<table border=\"1\" class=\"dataframe\">\n",
       "  <thead>\n",
       "    <tr style=\"text-align: right;\">\n",
       "      <th></th>\n",
       "      <th>Review_Upvotes</th>\n",
       "      <th>Review_Downvotes</th>\n",
       "    </tr>\n",
       "  </thead>\n",
       "  <tbody>\n",
       "    <tr>\n",
       "      <th>count</th>\n",
       "      <td>4147.000000</td>\n",
       "      <td>4147.000000</td>\n",
       "    </tr>\n",
       "    <tr>\n",
       "      <th>mean</th>\n",
       "      <td>0.591271</td>\n",
       "      <td>0.161321</td>\n",
       "    </tr>\n",
       "    <tr>\n",
       "      <th>std</th>\n",
       "      <td>2.210694</td>\n",
       "      <td>0.912881</td>\n",
       "    </tr>\n",
       "    <tr>\n",
       "      <th>min</th>\n",
       "      <td>0.000000</td>\n",
       "      <td>0.000000</td>\n",
       "    </tr>\n",
       "    <tr>\n",
       "      <th>25%</th>\n",
       "      <td>0.000000</td>\n",
       "      <td>0.000000</td>\n",
       "    </tr>\n",
       "    <tr>\n",
       "      <th>50%</th>\n",
       "      <td>0.000000</td>\n",
       "      <td>0.000000</td>\n",
       "    </tr>\n",
       "    <tr>\n",
       "      <th>75%</th>\n",
       "      <td>0.000000</td>\n",
       "      <td>0.000000</td>\n",
       "    </tr>\n",
       "    <tr>\n",
       "      <th>max</th>\n",
       "      <td>84.000000</td>\n",
       "      <td>35.000000</td>\n",
       "    </tr>\n",
       "  </tbody>\n",
       "</table>\n",
       "</div>"
      ],
      "text/plain": [
       "       Review_Upvotes  Review_Downvotes\n",
       "count     4147.000000       4147.000000\n",
       "mean         0.591271          0.161321\n",
       "std          2.210694          0.912881\n",
       "min          0.000000          0.000000\n",
       "25%          0.000000          0.000000\n",
       "50%          0.000000          0.000000\n",
       "75%          0.000000          0.000000\n",
       "max         84.000000         35.000000"
      ]
     },
     "execution_count": 14,
     "metadata": {},
     "output_type": "execute_result"
    }
   ],
   "source": [
    "df.describe()"
   ]
  },
  {
   "attachments": {},
   "cell_type": "markdown",
   "metadata": {},
   "source": [
    "review_upvotes is between 0 to 84, review_downvotes is between 0 to 35. 75% of the data in column review_upvotes and review_downvotes is zero. values in review_upvotes is deviating from mean value with 2.21. review_downvotes value is deviating 0.91 from mean value ."
   ]
  },
  {
   "cell_type": "code",
   "execution_count": 15,
   "metadata": {},
   "outputs": [],
   "source": [
    "df.drop(['Review_Upvotes','Review_Downvotes'], axis=1,inplace = True)"
   ]
  },
  {
   "attachments": {},
   "cell_type": "markdown",
   "metadata": {},
   "source": []
  },
  {
   "cell_type": "code",
   "execution_count": 17,
   "metadata": {},
   "outputs": [
    {
     "data": {
      "text/html": [
       "<div>\n",
       "<style scoped>\n",
       "    .dataframe tbody tr th:only-of-type {\n",
       "        vertical-align: middle;\n",
       "    }\n",
       "\n",
       "    .dataframe tbody tr th {\n",
       "        vertical-align: top;\n",
       "    }\n",
       "\n",
       "    .dataframe thead th {\n",
       "        text-align: right;\n",
       "    }\n",
       "</style>\n",
       "<table border=\"1\" class=\"dataframe\">\n",
       "  <thead>\n",
       "    <tr style=\"text-align: right;\">\n",
       "      <th></th>\n",
       "      <th>Review_Title</th>\n",
       "      <th>Review_Text</th>\n",
       "      <th>Review_Location</th>\n",
       "      <th>Product</th>\n",
       "    </tr>\n",
       "  </thead>\n",
       "  <tbody>\n",
       "    <tr>\n",
       "      <th>0</th>\n",
       "      <td>Perfect</td>\n",
       "      <td>Love using this on my face while in the shower...</td>\n",
       "      <td>Undisclosed</td>\n",
       "      <td>Multi-Vitamin Thermafoliant</td>\n",
       "    </tr>\n",
       "    <tr>\n",
       "      <th>1</th>\n",
       "      <td>You need this</td>\n",
       "      <td>Even better than the daily microfoliant. I'm o...</td>\n",
       "      <td>Undisclosed</td>\n",
       "      <td>Multi-Vitamin Thermafoliant</td>\n",
       "    </tr>\n",
       "    <tr>\n",
       "      <th>2</th>\n",
       "      <td>Clean skin</td>\n",
       "      <td>Enjoy this product so much ! I look forward to...</td>\n",
       "      <td>Undisclosed</td>\n",
       "      <td>Multi-Vitamin Thermafoliant</td>\n",
       "    </tr>\n",
       "    <tr>\n",
       "      <th>3</th>\n",
       "      <td>Love This Stuff!</td>\n",
       "      <td>I've never tried anything like this before and...</td>\n",
       "      <td>Undisclosed</td>\n",
       "      <td>Multi-Vitamin Thermafoliant</td>\n",
       "    </tr>\n",
       "    <tr>\n",
       "      <th>4</th>\n",
       "      <td>This exfoliates very nicely and</td>\n",
       "      <td>This exfoliates very nicely and gives a very s...</td>\n",
       "      <td>Undisclosed</td>\n",
       "      <td>Multi-Vitamin Thermafoliant</td>\n",
       "    </tr>\n",
       "  </tbody>\n",
       "</table>\n",
       "</div>"
      ],
      "text/plain": [
       "                      Review_Title  \\\n",
       "0                          Perfect   \n",
       "1                    You need this   \n",
       "2                       Clean skin   \n",
       "3                 Love This Stuff!   \n",
       "4  This exfoliates very nicely and   \n",
       "\n",
       "                                         Review_Text Review_Location  \\\n",
       "0  Love using this on my face while in the shower...     Undisclosed   \n",
       "1  Even better than the daily microfoliant. I'm o...     Undisclosed   \n",
       "2  Enjoy this product so much ! I look forward to...     Undisclosed   \n",
       "3  I've never tried anything like this before and...     Undisclosed   \n",
       "4  This exfoliates very nicely and gives a very s...     Undisclosed   \n",
       "\n",
       "                       Product  \n",
       "0  Multi-Vitamin Thermafoliant  \n",
       "1  Multi-Vitamin Thermafoliant  \n",
       "2  Multi-Vitamin Thermafoliant  \n",
       "3  Multi-Vitamin Thermafoliant  \n",
       "4  Multi-Vitamin Thermafoliant  "
      ]
     },
     "execution_count": 17,
     "metadata": {},
     "output_type": "execute_result"
    }
   ],
   "source": [
    "df.head()"
   ]
  },
  {
   "attachments": {},
   "cell_type": "markdown",
   "metadata": {},
   "source": [
    "3.7 Adding new columns in the dataset "
   ]
  },
  {
   "attachments": {},
   "cell_type": "markdown",
   "metadata": {},
   "source": [
    "Importing libraries to work with text data "
   ]
  },
  {
   "cell_type": "code",
   "execution_count": 18,
   "metadata": {},
   "outputs": [
    {
     "name": "stderr",
     "output_type": "stream",
     "text": [
      "[nltk_data] Downloading package stopwords to\n",
      "[nltk_data]     C:\\Users\\achoudhary\\AppData\\Roaming\\nltk_data...\n",
      "[nltk_data]   Unzipping corpora\\stopwords.zip.\n",
      "[nltk_data] Downloading package punkt to\n",
      "[nltk_data]     C:\\Users\\achoudhary\\AppData\\Roaming\\nltk_data...\n",
      "[nltk_data]   Unzipping tokenizers\\punkt.zip.\n"
     ]
    }
   ],
   "source": [
    "import re\n",
    "import nltk\n",
    "from nltk.corpus import stopwords\n",
    "nltk.download('stopwords')\n",
    "nltk.download('punkt')\n",
    "from nltk import word_tokenize\n",
    "from nltk.stem import PorterStemmer"
   ]
  },
  {
   "cell_type": "code",
   "execution_count": 19,
   "metadata": {},
   "outputs": [
    {
     "data": {
      "text/plain": [
       "0       Love using this on my face while in the shower...\n",
       "1       Even better than the daily microfoliant. I'm o...\n",
       "2       Enjoy this product so much ! I look forward to...\n",
       "3       I've never tried anything like this before and...\n",
       "4       This exfoliates very nicely and gives a very s...\n",
       "                              ...                        \n",
       "4145                    Much better product than a scrub.\n",
       "4146    I've been using this exfoliant for a few month...\n",
       "4147          My skin looks better now than 10 years ago.\n",
       "4148    This product was useless for me. I should've k...\n",
       "4149    This product is amazing! It is the only thing ...\n",
       "Name: Review_Text, Length: 4147, dtype: object"
      ]
     },
     "execution_count": 19,
     "metadata": {},
     "output_type": "execute_result"
    }
   ],
   "source": [
    "df['Review_Text']"
   ]
  },
  {
   "cell_type": "code",
   "execution_count": 20,
   "metadata": {},
   "outputs": [
    {
     "name": "stderr",
     "output_type": "stream",
     "text": [
      "[nltk_data] Downloading package averaged_perceptron_tagger to\n",
      "[nltk_data]     C:\\Users\\achoudhary\\AppData\\Roaming\\nltk_data...\n",
      "[nltk_data]   Unzipping taggers\\averaged_perceptron_tagger.zip.\n"
     ]
    },
    {
     "data": {
      "text/plain": [
       "True"
      ]
     },
     "execution_count": 20,
     "metadata": {},
     "output_type": "execute_result"
    }
   ],
   "source": [
    "import nltk\n",
    "nltk.download('averaged_perceptron_tagger')"
   ]
  },
  {
   "cell_type": "code",
   "execution_count": 21,
   "metadata": {},
   "outputs": [
    {
     "name": "stdout",
     "output_type": "stream",
     "text": [
      "<class 'pandas.core.series.Series'>\n"
     ]
    }
   ],
   "source": [
    "df['Review_Text'] = df['Review_Text'].astype(str)\n",
    "df['Review_Text'] = df['Review_Text'].apply(lambda x: x.lower())\n",
    "df['Review_Text'] = df['Review_Text'].apply(lambda x: re.sub('[^a-zA-Z0-9]',' ',x))\n",
    "df['Review_Text'] = df['Review_Text'].apply(lambda x: word_tokenize(x))\n",
    "print(type(df['Review_Text']))"
   ]
  },
  {
   "cell_type": "code",
   "execution_count": 22,
   "metadata": {},
   "outputs": [
    {
     "data": {
      "text/plain": [
       "0       [love, using, face, shower, heats, gives, ligh...\n",
       "1       [even, better, daily, microfoliant, obsessed, ...\n",
       "2       [enjoy, product, much, look, forward, using, r...\n",
       "3       [never, tried, anything, like, love, apply, fa...\n",
       "4       [exfoliates, nicely, gives, smooth, skin, irri...\n",
       "                              ...                        \n",
       "4145                       [much, better, product, scrub]\n",
       "4146    [using, exfoliant, months, depending, conditio...\n",
       "4147                [skin, looks, better, 10, years, ago]\n",
       "4148    [product, useless, known, exfoliant, use, dail...\n",
       "4149    [product, amazing, thing, helps, dry, patches,...\n",
       "Name: Review_Text, Length: 4147, dtype: object"
      ]
     },
     "execution_count": 22,
     "metadata": {},
     "output_type": "execute_result"
    }
   ],
   "source": [
    "df['Review_Text'] = df['Review_Text'].apply(lambda x: [word for word in x if word not in stopwords.words('english')])\n",
    "df['Review_Text']"
   ]
  },
  {
   "cell_type": "code",
   "execution_count": 23,
   "metadata": {},
   "outputs": [
    {
     "data": {
      "text/plain": [
       "0         love use face shower heat give light scrub nice\n",
       "1       even better daili microfoli obsess skin much s...\n",
       "2       enjoy product much look forward use realli fee...\n",
       "3       never tri anyth like love appli face get littl...\n",
       "4       exfoli nice give smooth skin irrit reaction sk...\n",
       "                              ...                        \n",
       "4145                            much better product scrub\n",
       "4146    use exfoli month depend condit skin use anywhe...\n",
       "4147                         skin look better 10 year ago\n",
       "4148    product useless known exfoli use daili would g...\n",
       "4149    product amaz thing help dri patch cheek also c...\n",
       "Name: Review_Text, Length: 4147, dtype: object"
      ]
     },
     "execution_count": 23,
     "metadata": {},
     "output_type": "execute_result"
    }
   ],
   "source": [
    "ps=PorterStemmer()\n",
    "df['Review_Text'] = df['Review_Text'].apply(lambda x: [ps.stem(y) for y in x])\n",
    "df['Review_Text'] = df['Review_Text'].apply(lambda x: ' '.join(x))\n",
    "df['Review_Text']"
   ]
  },
  {
   "cell_type": "code",
   "execution_count": 25,
   "metadata": {},
   "outputs": [
    {
     "name": "stdout",
     "output_type": "stream",
     "text": [
      "Collecting vaderSentiment\n",
      "  Downloading vaderSentiment-3.3.2-py2.py3-none-any.whl (125 kB)\n",
      "     -------------------------------------- 126.0/126.0 kB 1.1 MB/s eta 0:00:00\n",
      "Requirement already satisfied: requests in c:\\users\\achoudhary\\appdata\\local\\anaconda3\\lib\\site-packages (from vaderSentiment) (2.28.1)\n",
      "Requirement already satisfied: urllib3<1.27,>=1.21.1 in c:\\users\\achoudhary\\appdata\\local\\anaconda3\\lib\\site-packages (from requests->vaderSentiment) (1.26.14)\n",
      "Requirement already satisfied: idna<4,>=2.5 in c:\\users\\achoudhary\\appdata\\local\\anaconda3\\lib\\site-packages (from requests->vaderSentiment) (3.4)\n",
      "Requirement already satisfied: certifi>=2017.4.17 in c:\\users\\achoudhary\\appdata\\local\\anaconda3\\lib\\site-packages (from requests->vaderSentiment) (2022.12.7)\n",
      "Requirement already satisfied: charset-normalizer<3,>=2 in c:\\users\\achoudhary\\appdata\\local\\anaconda3\\lib\\site-packages (from requests->vaderSentiment) (2.0.4)\n",
      "Installing collected packages: vaderSentiment\n",
      "Successfully installed vaderSentiment-3.3.2\n"
     ]
    }
   ],
   "source": [
    "!pip install vaderSentiment"
   ]
  },
  {
   "cell_type": "code",
   "execution_count": 27,
   "metadata": {},
   "outputs": [
    {
     "name": "stderr",
     "output_type": "stream",
     "text": [
      "[nltk_data] Downloading package vader_lexicon to\n",
      "[nltk_data]     C:\\Users\\achoudhary\\AppData\\Roaming\\nltk_data...\n",
      "[nltk_data]   Package vader_lexicon is already up-to-date!\n"
     ]
    },
    {
     "data": {
      "text/html": [
       "<div>\n",
       "<style scoped>\n",
       "    .dataframe tbody tr th:only-of-type {\n",
       "        vertical-align: middle;\n",
       "    }\n",
       "\n",
       "    .dataframe tbody tr th {\n",
       "        vertical-align: top;\n",
       "    }\n",
       "\n",
       "    .dataframe thead th {\n",
       "        text-align: right;\n",
       "    }\n",
       "</style>\n",
       "<table border=\"1\" class=\"dataframe\">\n",
       "  <thead>\n",
       "    <tr style=\"text-align: right;\">\n",
       "      <th></th>\n",
       "      <th>Review_Title</th>\n",
       "      <th>Review_Text</th>\n",
       "      <th>Review_Location</th>\n",
       "      <th>Product</th>\n",
       "      <th>score</th>\n",
       "    </tr>\n",
       "  </thead>\n",
       "  <tbody>\n",
       "    <tr>\n",
       "      <th>0</th>\n",
       "      <td>Perfect</td>\n",
       "      <td>love use face shower heat give light scrub nice</td>\n",
       "      <td>Undisclosed</td>\n",
       "      <td>Multi-Vitamin Thermafoliant</td>\n",
       "      <td>0.7906</td>\n",
       "    </tr>\n",
       "    <tr>\n",
       "      <th>1</th>\n",
       "      <td>You need this</td>\n",
       "      <td>even better daili microfoli obsess skin much s...</td>\n",
       "      <td>Undisclosed</td>\n",
       "      <td>Multi-Vitamin Thermafoliant</td>\n",
       "      <td>0.2263</td>\n",
       "    </tr>\n",
       "    <tr>\n",
       "      <th>2</th>\n",
       "      <td>Clean skin</td>\n",
       "      <td>enjoy product much look forward use realli fee...</td>\n",
       "      <td>Undisclosed</td>\n",
       "      <td>Multi-Vitamin Thermafoliant</td>\n",
       "      <td>0.8074</td>\n",
       "    </tr>\n",
       "    <tr>\n",
       "      <th>3</th>\n",
       "      <td>Love This Stuff!</td>\n",
       "      <td>never tri anyth like love appli face get littl...</td>\n",
       "      <td>Undisclosed</td>\n",
       "      <td>Multi-Vitamin Thermafoliant</td>\n",
       "      <td>0.7839</td>\n",
       "    </tr>\n",
       "    <tr>\n",
       "      <th>4</th>\n",
       "      <td>This exfoliates very nicely and</td>\n",
       "      <td>exfoli nice give smooth skin irrit reaction sk...</td>\n",
       "      <td>Undisclosed</td>\n",
       "      <td>Multi-Vitamin Thermafoliant</td>\n",
       "      <td>0.6486</td>\n",
       "    </tr>\n",
       "  </tbody>\n",
       "</table>\n",
       "</div>"
      ],
      "text/plain": [
       "                      Review_Title  \\\n",
       "0                          Perfect   \n",
       "1                    You need this   \n",
       "2                       Clean skin   \n",
       "3                 Love This Stuff!   \n",
       "4  This exfoliates very nicely and   \n",
       "\n",
       "                                         Review_Text Review_Location  \\\n",
       "0    love use face shower heat give light scrub nice     Undisclosed   \n",
       "1  even better daili microfoli obsess skin much s...     Undisclosed   \n",
       "2  enjoy product much look forward use realli fee...     Undisclosed   \n",
       "3  never tri anyth like love appli face get littl...     Undisclosed   \n",
       "4  exfoli nice give smooth skin irrit reaction sk...     Undisclosed   \n",
       "\n",
       "                       Product   score  \n",
       "0  Multi-Vitamin Thermafoliant  0.7906  \n",
       "1  Multi-Vitamin Thermafoliant  0.2263  \n",
       "2  Multi-Vitamin Thermafoliant  0.8074  \n",
       "3  Multi-Vitamin Thermafoliant  0.7839  \n",
       "4  Multi-Vitamin Thermafoliant  0.6486  "
      ]
     },
     "execution_count": 27,
     "metadata": {},
     "output_type": "execute_result"
    }
   ],
   "source": [
    "import vaderSentiment\n",
    "from vaderSentiment.vaderSentiment import SentimentIntensityAnalyzer\n",
    "from tqdm.notebook import tqdm\n",
    "nltk.download('vader_lexicon')\n",
    "sia = SentimentIntensityAnalyzer()\n",
    "df['score'] = df['Review_Text'].apply(lambda x: sia.polarity_scores(x)['compound'])\n",
    "df.head()"
   ]
  },
  {
   "attachments": {},
   "cell_type": "markdown",
   "metadata": {},
   "source": [
    "new column score added . "
   ]
  },
  {
   "cell_type": "code",
   "execution_count": 28,
   "metadata": {},
   "outputs": [
    {
     "data": {
      "text/html": [
       "<div>\n",
       "<style scoped>\n",
       "    .dataframe tbody tr th:only-of-type {\n",
       "        vertical-align: middle;\n",
       "    }\n",
       "\n",
       "    .dataframe tbody tr th {\n",
       "        vertical-align: top;\n",
       "    }\n",
       "\n",
       "    .dataframe thead th {\n",
       "        text-align: right;\n",
       "    }\n",
       "</style>\n",
       "<table border=\"1\" class=\"dataframe\">\n",
       "  <thead>\n",
       "    <tr style=\"text-align: right;\">\n",
       "      <th></th>\n",
       "      <th>Review_Title</th>\n",
       "      <th>Review_Text</th>\n",
       "      <th>Review_Location</th>\n",
       "      <th>Product</th>\n",
       "      <th>score</th>\n",
       "      <th>sentiment</th>\n",
       "    </tr>\n",
       "  </thead>\n",
       "  <tbody>\n",
       "    <tr>\n",
       "      <th>0</th>\n",
       "      <td>Perfect</td>\n",
       "      <td>love use face shower heat give light scrub nice</td>\n",
       "      <td>Undisclosed</td>\n",
       "      <td>Multi-Vitamin Thermafoliant</td>\n",
       "      <td>0.7906</td>\n",
       "      <td>1</td>\n",
       "    </tr>\n",
       "    <tr>\n",
       "      <th>1</th>\n",
       "      <td>You need this</td>\n",
       "      <td>even better daili microfoli obsess skin much s...</td>\n",
       "      <td>Undisclosed</td>\n",
       "      <td>Multi-Vitamin Thermafoliant</td>\n",
       "      <td>0.2263</td>\n",
       "      <td>1</td>\n",
       "    </tr>\n",
       "    <tr>\n",
       "      <th>2</th>\n",
       "      <td>Clean skin</td>\n",
       "      <td>enjoy product much look forward use realli fee...</td>\n",
       "      <td>Undisclosed</td>\n",
       "      <td>Multi-Vitamin Thermafoliant</td>\n",
       "      <td>0.8074</td>\n",
       "      <td>1</td>\n",
       "    </tr>\n",
       "    <tr>\n",
       "      <th>3</th>\n",
       "      <td>Love This Stuff!</td>\n",
       "      <td>never tri anyth like love appli face get littl...</td>\n",
       "      <td>Undisclosed</td>\n",
       "      <td>Multi-Vitamin Thermafoliant</td>\n",
       "      <td>0.7839</td>\n",
       "      <td>1</td>\n",
       "    </tr>\n",
       "    <tr>\n",
       "      <th>4</th>\n",
       "      <td>This exfoliates very nicely and</td>\n",
       "      <td>exfoli nice give smooth skin irrit reaction sk...</td>\n",
       "      <td>Undisclosed</td>\n",
       "      <td>Multi-Vitamin Thermafoliant</td>\n",
       "      <td>0.6486</td>\n",
       "      <td>1</td>\n",
       "    </tr>\n",
       "  </tbody>\n",
       "</table>\n",
       "</div>"
      ],
      "text/plain": [
       "                      Review_Title  \\\n",
       "0                          Perfect   \n",
       "1                    You need this   \n",
       "2                       Clean skin   \n",
       "3                 Love This Stuff!   \n",
       "4  This exfoliates very nicely and   \n",
       "\n",
       "                                         Review_Text Review_Location  \\\n",
       "0    love use face shower heat give light scrub nice     Undisclosed   \n",
       "1  even better daili microfoli obsess skin much s...     Undisclosed   \n",
       "2  enjoy product much look forward use realli fee...     Undisclosed   \n",
       "3  never tri anyth like love appli face get littl...     Undisclosed   \n",
       "4  exfoli nice give smooth skin irrit reaction sk...     Undisclosed   \n",
       "\n",
       "                       Product   score  sentiment  \n",
       "0  Multi-Vitamin Thermafoliant  0.7906          1  \n",
       "1  Multi-Vitamin Thermafoliant  0.2263          1  \n",
       "2  Multi-Vitamin Thermafoliant  0.8074          1  \n",
       "3  Multi-Vitamin Thermafoliant  0.7839          1  \n",
       "4  Multi-Vitamin Thermafoliant  0.6486          1  "
      ]
     },
     "execution_count": 28,
     "metadata": {},
     "output_type": "execute_result"
    }
   ],
   "source": [
    "df['sentiment'] = df['score'].apply(lambda x: 1 if x>0 else 0)\n",
    "df.head()"
   ]
  },
  {
   "attachments": {},
   "cell_type": "markdown",
   "metadata": {},
   "source": [
    "3.6  Data Exploration (Visualization)"
   ]
  },
  {
   "cell_type": "code",
   "execution_count": 30,
   "metadata": {},
   "outputs": [],
   "source": [
    "import seaborn as sns"
   ]
  },
  {
   "cell_type": "code",
   "execution_count": 29,
   "metadata": {},
   "outputs": [
    {
     "data": {
      "text/plain": [
       "<Axes: title={'center': 'positive - negative reviews '}>"
      ]
     },
     "execution_count": 29,
     "metadata": {},
     "output_type": "execute_result"
    },
    {
     "data": {
      "image/png": "[encoded data removed]",
      "text/plain": [
       "<Figure size 1000x500 with 1 Axes>"
      ]
     },
     "metadata": {},
     "output_type": "display_data"
    }
   ],
   "source": [
    "df['sentiment'].value_counts().plot(kind = 'bar',title = 'positive - negative reviews ',figsize = (10,5))"
   ]
  },
  {
   "cell_type": "code",
   "execution_count": 16,
   "metadata": {},
   "outputs": [
    {
     "data": {
      "text/plain": [
       "<Axes: title={'center': 'Count of each product'}>"
      ]
     },
     "execution_count": 16,
     "metadata": {},
     "output_type": "execute_result"
    },
    {
     "data": {
      "image/png": "[encoded data removed]",
      "text/plain": [
       "<Figure size 1000x500 with 1 Axes>"
      ]
     },
     "metadata": {},
     "output_type": "display_data"
    }
   ],
   "source": [
    "df['Product'].value_counts().sort_index().plot(kind = 'bar',title = 'Count of each product',figsize = (10,5))"
   ]
  },
  {
   "cell_type": "code",
   "execution_count": 31,
   "metadata": {},
   "outputs": [
    {
     "data": {
      "text/plain": [
       "<matplotlib.legend.Legend at 0x2867e1cbc70>"
      ]
     },
     "execution_count": 31,
     "metadata": {},
     "output_type": "execute_result"
    },
    {
     "data": {
      "image/png": "[encoded data removed]",
      "text/plain": [
       "<Figure size 600x600 with 1 Axes>"
      ]
     },
     "metadata": {},
     "output_type": "display_data"
    }
   ],
   "source": [
    "df['sentiment'].value_counts().plot.pie(figsize=(6,6) , title='count of sentiment' ,labels=['+ve','-ve'],autopct='%1.1f%%')\n",
    "labels=[\"Positive\",\"Negative\"]\n",
    "plt.legend(labels,loc=2)"
   ]
  },
  {
   "cell_type": "code",
   "execution_count": 41,
   "metadata": {},
   "outputs": [
    {
     "data": {
      "text/plain": [
       "<seaborn.axisgrid.PairGrid at 0x2867ebc92a0>"
      ]
     },
     "execution_count": 41,
     "metadata": {},
     "output_type": "execute_result"
    },
    {
     "data": {
      "image/png": "[encoded data removed]",
      "text/plain": [
       "<Figure size 331.111x250 with 2 Axes>"
      ]
     },
     "metadata": {},
     "output_type": "display_data"
    }
   ],
   "source": [
    "sns.pairplot(df,hue = 'sentiment')"
   ]
  },
  {
   "cell_type": "code",
   "execution_count": 43,
   "metadata": {},
   "outputs": [
    {
     "data": {
      "text/plain": [
       "<Axes: xlabel='sentiment', ylabel='score'>"
      ]
     },
     "execution_count": 43,
     "metadata": {},
     "output_type": "execute_result"
    },
    {
     "data": {
      "image/png": "[encoded data removed]",
      "text/plain": [
       "<Figure size 640x480 with 1 Axes>"
      ]
     },
     "metadata": {},
     "output_type": "display_data"
    },
    {
     "name": "stdout",
     "output_type": "stream",
     "text": [
      "Retrieving notices: ...working... done\n",
      "Collecting package metadata (current_repodata.json): ...working... done\n",
      "Solving environment: ...working... failed with initial frozen solve. Retrying with flexible solve.\n",
      "Collecting package metadata (repodata.json): ...working... done\n",
      "Solving environment: ...working... failed with initial frozen solve. Retrying with flexible solve.\n",
      "Solving environment: ...working... \n",
      "Found conflicts! Looking for incompatible packages.\n",
      "This can take several minutes.  Press CTRL-C to abort.\n",
      "failed\n"
     ]
    },
    {
     "name": "stderr",
     "output_type": "stream",
     "text": [
      "\n",
      "Building graph of deps:   0%|          | 0/4 [00:00<?, ?it/s]\n",
      "Examining wordcloud=1.6.0:   0%|          | 0/4 [00:00<?, ?it/s]\n",
      "Examining @/win-64::__win==0=0:  25%|██▌       | 1/4 [00:01<00:04,  1.36s/it]\n",
      "Examining @/win-64::__win==0=0:  50%|█████     | 2/4 [00:01<00:01,  1.46it/s]\n",
      "Examining @/win-64::__archspec==1=x86_64:  50%|█████     | 2/4 [00:01<00:01,  1.46it/s]\n",
      "Examining python=3.10:  75%|███████▌  | 3/4 [00:01<00:00,  1.46it/s]                   \n",
      "                                                                    \n",
      "\n",
      "Determining conflicts:   0%|          | 0/4 [00:00<?, ?it/s]\n",
      "Examining conflict for wordcloud python:   0%|          | 0/4 [00:00<?, ?it/s]\n",
      "                                                                              \n",
      "\n",
      "UnsatisfiableError: The following specifications were found\n",
      "to be incompatible with the existing python installation in your environment:\n",
      "\n",
      "Specifications:\n",
      "\n",
      "  - wordcloud=1.6.0 -> python[version='>=2.7,<2.8.0a0|>=3.8,<3.9.0a0|>=3.7,<3.8.0a0|>=3.6,<3.7.0a0']\n",
      "\n",
      "Your python: python=3.10\n",
      "\n",
      "If python is on the left-most side of the chain, that's the version you've asked for.\n",
      "When python appears to the right, that indicates that the thing on the left is somehow\n",
      "not available for the python version you are constrained to. Note that conda will not\n",
      "change your python version to a different minor version unless you explicitly specify\n",
      "that.\n",
      "\n",
      "\n",
      "\n"
     ]
    }
   ],
   "source": [
    "sns.boxplot(x='sentiment',y = 'score',data = df)"
   ]
  },
  {
   "cell_type": "code",
   "execution_count": null,
   "metadata": {},
   "outputs": [],
   "source": []
  }
 ],
 "metadata": {
  "kernelspec": {
   "display_name": "base",
   "language": "python",
   "name": "python3"
  },
  "language_info": {
   "codemirror_mode": {
    "name": "ipython",
    "version": 3
   },
   "file_extension": ".py",
   "mimetype": "text/x-python",
   "name": "python",
   "nbconvert_exporter": "python",
   "pygments_lexer": "ipython3",
   "version": "3.10.9"
  },
  "orig_nbformat": 4
 },
 "nbformat": 4,
 "nbformat_minor": 2
}
