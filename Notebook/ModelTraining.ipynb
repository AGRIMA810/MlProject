{
 "cells": [
  {
   "attachments": {},
   "cell_type": "markdown",
   "metadata": {},
   "source": [
    "Import Libraries "
   ]
  },
  {
   "cell_type": "code",
   "execution_count": 16,
   "metadata": {},
   "outputs": [
    {
     "name": "stderr",
     "output_type": "stream",
     "text": [
      "[nltk_data] Downloading package stopwords to\n",
      "[nltk_data]     C:\\Users\\achoudhary\\AppData\\Roaming\\nltk_data...\n",
      "[nltk_data]   Package stopwords is already up-to-date!\n",
      "[nltk_data] Downloading package punkt to\n",
      "[nltk_data]     C:\\Users\\achoudhary\\AppData\\Roaming\\nltk_data...\n",
      "[nltk_data]   Package punkt is already up-to-date!\n",
      "[nltk_data] Downloading package averaged_perceptron_tagger to\n",
      "[nltk_data]     C:\\Users\\achoudhary\\AppData\\Roaming\\nltk_data...\n",
      "[nltk_data]   Package averaged_perceptron_tagger is already up-to-\n",
      "[nltk_data]       date!\n"
     ]
    }
   ],
   "source": [
    "import re\n",
    "import nltk\n",
    "from nltk.corpus import stopwords\n",
    "nltk.download('stopwords')\n",
    "nltk.download('punkt')\n",
    "from nltk import word_tokenize\n",
    "from nltk.stem import PorterStemmer\n",
    "import nltk\n",
    "nltk.download('averaged_perceptron_tagger')\n",
    "from sklearn.model_selection import train_test_split\n",
    "from sklearn.feature_extraction.text import CountVectorizer\n",
    "from sklearn.metrics import classification_report\n",
    "from imblearn.over_sampling import SMOTE\n",
    "from sklearn.metrics import accuracy_score\n",
    "from sklearn.metrics import confusion_matrix\n",
    "from sklearn.preprocessing import StandardScaler\n",
    "from sklearn.neighbors import KNeighborsClassifier  \n",
    "from sklearn.tree import DecisionTreeClassifier\n",
    "from sklearn.ensemble import RandomForestClassifier"
   ]
  },
  {
   "cell_type": "code",
   "execution_count": 17,
   "metadata": {},
   "outputs": [],
   "source": [
    "import pandas as pd \n",
    "import numpy as np \n",
    "import matplotlib.pyplot as plt \n",
    "%matplotlib inline \n",
    "import warnings\n",
    "warnings.filterwarnings('ignore')"
   ]
  },
  {
   "attachments": {},
   "cell_type": "markdown",
   "metadata": {},
   "source": [
    "Import the csv file using pandas dataframe"
   ]
  },
  {
   "cell_type": "code",
   "execution_count": 18,
   "metadata": {},
   "outputs": [],
   "source": [
    "df = pd.read_csv('Data(EDA_done).csv')"
   ]
  },
  {
   "cell_type": "code",
   "execution_count": 19,
   "metadata": {},
   "outputs": [
    {
     "data": {
      "text/html": [
       "<div>\n",
       "<style scoped>\n",
       "    .dataframe tbody tr th:only-of-type {\n",
       "        vertical-align: middle;\n",
       "    }\n",
       "\n",
       "    .dataframe tbody tr th {\n",
       "        vertical-align: top;\n",
       "    }\n",
       "\n",
       "    .dataframe thead th {\n",
       "        text-align: right;\n",
       "    }\n",
       "</style>\n",
       "<table border=\"1\" class=\"dataframe\">\n",
       "  <thead>\n",
       "    <tr style=\"text-align: right;\">\n",
       "      <th></th>\n",
       "      <th>Review_Title</th>\n",
       "      <th>Review_Text</th>\n",
       "      <th>Review_Location</th>\n",
       "      <th>Product</th>\n",
       "      <th>score</th>\n",
       "      <th>sentiment</th>\n",
       "    </tr>\n",
       "  </thead>\n",
       "  <tbody>\n",
       "    <tr>\n",
       "      <th>0</th>\n",
       "      <td>Perfect</td>\n",
       "      <td>love use face shower heat give light scrub nice</td>\n",
       "      <td>Undisclosed</td>\n",
       "      <td>Multi-Vitamin Thermafoliant</td>\n",
       "      <td>0.7906</td>\n",
       "      <td>1</td>\n",
       "    </tr>\n",
       "    <tr>\n",
       "      <th>1</th>\n",
       "      <td>You need this</td>\n",
       "      <td>even better daili microfoli obsess skin much s...</td>\n",
       "      <td>Undisclosed</td>\n",
       "      <td>Multi-Vitamin Thermafoliant</td>\n",
       "      <td>0.2263</td>\n",
       "      <td>1</td>\n",
       "    </tr>\n",
       "    <tr>\n",
       "      <th>2</th>\n",
       "      <td>Clean skin</td>\n",
       "      <td>enjoy product much look forward use realli fee...</td>\n",
       "      <td>Undisclosed</td>\n",
       "      <td>Multi-Vitamin Thermafoliant</td>\n",
       "      <td>0.8074</td>\n",
       "      <td>1</td>\n",
       "    </tr>\n",
       "    <tr>\n",
       "      <th>3</th>\n",
       "      <td>Love This Stuff!</td>\n",
       "      <td>never tri anyth like love appli face get littl...</td>\n",
       "      <td>Undisclosed</td>\n",
       "      <td>Multi-Vitamin Thermafoliant</td>\n",
       "      <td>0.7839</td>\n",
       "      <td>1</td>\n",
       "    </tr>\n",
       "    <tr>\n",
       "      <th>4</th>\n",
       "      <td>This exfoliates very nicely and</td>\n",
       "      <td>exfoli nice give smooth skin irrit reaction sk...</td>\n",
       "      <td>Undisclosed</td>\n",
       "      <td>Multi-Vitamin Thermafoliant</td>\n",
       "      <td>0.6486</td>\n",
       "      <td>1</td>\n",
       "    </tr>\n",
       "  </tbody>\n",
       "</table>\n",
       "</div>"
      ],
      "text/plain": [
       "                      Review_Title  \\\n",
       "0                          Perfect   \n",
       "1                    You need this   \n",
       "2                       Clean skin   \n",
       "3                 Love This Stuff!   \n",
       "4  This exfoliates very nicely and   \n",
       "\n",
       "                                         Review_Text Review_Location  \\\n",
       "0    love use face shower heat give light scrub nice     Undisclosed   \n",
       "1  even better daili microfoli obsess skin much s...     Undisclosed   \n",
       "2  enjoy product much look forward use realli fee...     Undisclosed   \n",
       "3  never tri anyth like love appli face get littl...     Undisclosed   \n",
       "4  exfoli nice give smooth skin irrit reaction sk...     Undisclosed   \n",
       "\n",
       "                       Product   score  sentiment  \n",
       "0  Multi-Vitamin Thermafoliant  0.7906          1  \n",
       "1  Multi-Vitamin Thermafoliant  0.2263          1  \n",
       "2  Multi-Vitamin Thermafoliant  0.8074          1  \n",
       "3  Multi-Vitamin Thermafoliant  0.7839          1  \n",
       "4  Multi-Vitamin Thermafoliant  0.6486          1  "
      ]
     },
     "execution_count": 19,
     "metadata": {},
     "output_type": "execute_result"
    }
   ],
   "source": [
    "df.head()"
   ]
  },
  {
   "attachments": {},
   "cell_type": "markdown",
   "metadata": {},
   "source": [
    "Preparing x and y variables "
   ]
  },
  {
   "cell_type": "code",
   "execution_count": 20,
   "metadata": {},
   "outputs": [],
   "source": [
    "y = df['sentiment']"
   ]
  },
  {
   "cell_type": "code",
   "execution_count": 21,
   "metadata": {},
   "outputs": [
    {
     "data": {
      "text/html": [
       "<div>\n",
       "<style scoped>\n",
       "    .dataframe tbody tr th:only-of-type {\n",
       "        vertical-align: middle;\n",
       "    }\n",
       "\n",
       "    .dataframe tbody tr th {\n",
       "        vertical-align: top;\n",
       "    }\n",
       "\n",
       "    .dataframe thead th {\n",
       "        text-align: right;\n",
       "    }\n",
       "</style>\n",
       "<table border=\"1\" class=\"dataframe\">\n",
       "  <thead>\n",
       "    <tr style=\"text-align: right;\">\n",
       "      <th></th>\n",
       "      <th>Review_Title</th>\n",
       "      <th>Review_Text</th>\n",
       "      <th>Review_Location</th>\n",
       "      <th>Product</th>\n",
       "      <th>score</th>\n",
       "      <th>sentiment</th>\n",
       "    </tr>\n",
       "  </thead>\n",
       "  <tbody>\n",
       "    <tr>\n",
       "      <th>0</th>\n",
       "      <td>Perfect</td>\n",
       "      <td>love use face shower heat give light scrub nice</td>\n",
       "      <td>Undisclosed</td>\n",
       "      <td>Multi-Vitamin Thermafoliant</td>\n",
       "      <td>0.7906</td>\n",
       "      <td>1</td>\n",
       "    </tr>\n",
       "    <tr>\n",
       "      <th>1</th>\n",
       "      <td>You need this</td>\n",
       "      <td>even better daili microfoli obsess skin much s...</td>\n",
       "      <td>Undisclosed</td>\n",
       "      <td>Multi-Vitamin Thermafoliant</td>\n",
       "      <td>0.2263</td>\n",
       "      <td>1</td>\n",
       "    </tr>\n",
       "    <tr>\n",
       "      <th>2</th>\n",
       "      <td>Clean skin</td>\n",
       "      <td>enjoy product much look forward use realli fee...</td>\n",
       "      <td>Undisclosed</td>\n",
       "      <td>Multi-Vitamin Thermafoliant</td>\n",
       "      <td>0.8074</td>\n",
       "      <td>1</td>\n",
       "    </tr>\n",
       "    <tr>\n",
       "      <th>3</th>\n",
       "      <td>Love This Stuff!</td>\n",
       "      <td>never tri anyth like love appli face get littl...</td>\n",
       "      <td>Undisclosed</td>\n",
       "      <td>Multi-Vitamin Thermafoliant</td>\n",
       "      <td>0.7839</td>\n",
       "      <td>1</td>\n",
       "    </tr>\n",
       "    <tr>\n",
       "      <th>4</th>\n",
       "      <td>This exfoliates very nicely and</td>\n",
       "      <td>exfoli nice give smooth skin irrit reaction sk...</td>\n",
       "      <td>Undisclosed</td>\n",
       "      <td>Multi-Vitamin Thermafoliant</td>\n",
       "      <td>0.6486</td>\n",
       "      <td>1</td>\n",
       "    </tr>\n",
       "  </tbody>\n",
       "</table>\n",
       "</div>"
      ],
      "text/plain": [
       "                      Review_Title  \\\n",
       "0                          Perfect   \n",
       "1                    You need this   \n",
       "2                       Clean skin   \n",
       "3                 Love This Stuff!   \n",
       "4  This exfoliates very nicely and   \n",
       "\n",
       "                                         Review_Text Review_Location  \\\n",
       "0    love use face shower heat give light scrub nice     Undisclosed   \n",
       "1  even better daili microfoli obsess skin much s...     Undisclosed   \n",
       "2  enjoy product much look forward use realli fee...     Undisclosed   \n",
       "3  never tri anyth like love appli face get littl...     Undisclosed   \n",
       "4  exfoli nice give smooth skin irrit reaction sk...     Undisclosed   \n",
       "\n",
       "                       Product   score  sentiment  \n",
       "0  Multi-Vitamin Thermafoliant  0.7906          1  \n",
       "1  Multi-Vitamin Thermafoliant  0.2263          1  \n",
       "2  Multi-Vitamin Thermafoliant  0.8074          1  \n",
       "3  Multi-Vitamin Thermafoliant  0.7839          1  \n",
       "4  Multi-Vitamin Thermafoliant  0.6486          1  "
      ]
     },
     "execution_count": 21,
     "metadata": {},
     "output_type": "execute_result"
    }
   ],
   "source": [
    "df.head()"
   ]
  },
  {
   "attachments": {},
   "cell_type": "markdown",
   "metadata": {},
   "source": [
    "You need to convert the dtype object to unicode string"
   ]
  },
  {
   "cell_type": "code",
   "execution_count": 25,
   "metadata": {},
   "outputs": [],
   "source": [
    "cv=CountVectorizer()\n",
    "x = cv.fit_transform(df['Review_Text'].values.astype('U'))"
   ]
  },
  {
   "cell_type": "code",
   "execution_count": 26,
   "metadata": {},
   "outputs": [
    {
     "name": "stdout",
     "output_type": "stream",
     "text": [
      "{'love': 1843, 'use': 3345, 'face': 1163, 'shower': 2771, 'heat': 1492, 'give': 1370, 'light': 1784, 'scrub': 2688, 'nice': 2078, 'even': 1090, 'better': 351, 'daili': 786, 'microfoli': 1947, 'obsess': 2122, 'skin': 2809, 'much': 2022, 'smoother': 2852, 'enjoy': 1060, 'product': 2393, 'look': 1828, 'forward': 1297, 'realli': 2477, 'feel': 1205, 'great': 1425, 'never': 2069, 'tri': 3247, 'anyth': 215, 'like': 1789, 'appli': 225, 'get': 1360, 'littl': 1807, 'shot': 2766, 'warm': 3405, 'good': 1399, 'seem': 2707, 'gritti': 1434, 'side': 2777, 'effect': 1021, 'encount': 1051, 'posit': 2339, 'one': 2149, 'exfoli': 1128, 'smooth': 2850, 'irrit': 1668, 'reaction': 2469, 'highli': 1517, 'recommend': 2495, 'buy': 488, 'wet': 3440, 'dri': 982, 'control': 710, 'abra': 81, 'leav': 1759, 'soft': 2865, 'drench': 980, 'vitamin': 3389, 'absolut': 82, 'truli': 3260, 'multivitamin': 2029, 'thermafoli': 3145, 'last': 1741, 'year': 3518, 'happi': 1464, 'purcha': 2421, 'directli': 927, 'sinc': 2795, 'longer': 1824, 'avail': 273, 'ulta': 3286, 'store': 2985, 'definit': 839, 'excel': 1115, 'help': 1505, 'winter': 3467, 'around': 243, 'twice': 3276, 'weekli': 3428, 'usual': 3350, 'whilst': 3448, 'wait': 3396, 'condit': 686, 'soak': 2860, 'bodi': 396, 'super': 3049, 'sensit': 2721, 'prone': 2404, 'blotch': 388, 'oili': 2140, 'zone': 3539, 'amaz': 192, 'thing': 3151, 'hydrat': 1566, 'slough': 2831, 'dead': 804, 'cell': 535, 'cau': 526, 'zero': 3535, 'glow': 1385, 'deep': 823, 'facial': 1165, 'live': 1809, 'without': 3476, 'makeup': 1878, 'goe': 1394, 'afterward': 135, 'also': 183, 'alway': 189, 'gentli': 1357, 'dermalogica': 870, 'top': 3217, 'fave': 1195, 'thermofoli': 3147, 'renew': 2544, 'rejuven': 2523, 'follow': 1276, 'power': 2351, 'recoveri': 2497, 'masqu': 1892, 'seriou': 2727, 'profess': 2395, 'everytim': 1102, 'subtl': 3026, 'refreshingli': 2511, 'clean': 601, 'keep': 1702, 'pore': 2332, 'prevent': 2372, 'breakout': 435, 'silk': 2785, 'alot': 179, 'scub': 2692, 'work': 3490, 'welland': 3435, 'afer': 126, 'start': 2960, 'minut': 1980, 'hit': 1523, 'tingl': 3189, 'sensat': 2719, 'refresh': 2510, 'wonder': 3483, 'fingertip': 1231, 'initi': 1638, 'warmth': 3406, 'quit': 2445, 'surpri': 3069, 'silki': 2786, 'peel': 2245, 'gel': 1346, 'time': 3187, 'alreadi': 181, 'see': 2705, 'result': 2572, 'brighter': 441, 'well': 3434, 'must': 2036, 'need': 2058, 'told': 3204, 'discontinu': 937, 'cri': 756, 'thank': 3141, 'back': 289, 'place': 2300, 'order': 2163, 'new': 2071, 'debri': 810, 'remov': 2543, 'put': 2428, 'glad': 1372, 'brought': 449, 'make': 1876, 'chang': 552, 'textur': 3138, 'could': 730, 'tel': 3120, 'notic': 2105, 'differ': 914, 'less': 1767, 'week': 3426, 'three': 3166, 'complexion': 670, 'dark': 793, 'spot': 2934, 'fade': 1170, 'improv': 1603, 'total': 3221, 'favorit': 1197, 'line': 1793, 'elimin': 1039, 'outbreak': 2170, 'pimpl': 2292, 'area': 238, 'nose': 2098, 'crea': 745, 'mouth': 2018, 'chin': 575, 'blackhead': 372, 'clog': 617, 'tend': 3127, 'gather': 1343, '55': 62, 'still': 2973, 'mild': 1956, 'enough': 1062, 'reactiv': 2470, 'sometim': 2881, 'sever': 2734, 'day': 800, 'night': 2081, 'routin': 2621, 'go': 1391, 'fan': 1183, 'smell': 2842, 'gentl': 1354, 'repeat': 2550, 'treat': 3242, 'massag': 1893, 'best': 349, 'stuff': 3010, 'ever': 1094, 'combin': 649, 'physic': 2280, 'chemic': 570, 'first': 1237, 'beauti': 325, 'regimen': 2517, 'fresh': 1312, 'immedi': 1592, 'dramat': 974, 'except': 1117, 'older': 2146, 'flaki': 1245, 'bumpi': 473, 'softer': 2867, 'dryness': 991, 'benefit': 346, 'visibl': 3384, 'self': 2711, 'care': 517, 'practic': 2354, 'taht': 3095, 'ut': 3351, 'ah': 149, 'far': 1186, 'aspect': 253, 'third': 3154, 'tube': 3266, 'simpli': 2790, '53': 60, 'age': 138, 'suppl': 3059, 'skincar': 2811, 'everi': 1096, 'morn': 2009, 'neck': 2057, 'launch': 1747, 'ago': 146, 'radiant': 2448, 'smoothli': 2854, 'creami': 747, 'extra': 1151, 'thermal': 3146, 'glowi': 1386, 'worri': 3493, 'rough': 2618, 'complet': 668, 'opposit': 2159, 'meanwhil': 1906, 'job': 1688, 'boyfriend': 422, 'shave': 2744, 'head': 1481, 'regularli': 2521, 'scalp': 2670, 'want': 3403, 'ask': 252, 'talk': 3098, 'peopl': 2251, 'took': 3212, 'hr': 1552, 'check': 566, 'instead': 1650, 'realiz': 2476, 'got': 1406, 'home': 1534, 'case': 521, 'come': 651, 'via': 3372, 'mail': 1870, 'decid': 816, 'although': 186, 'mask': 1890, 'consid': 695, 'hefti': 1501, 'price': 2375, 'certainli': 545, 'bior': 365, 'individu': 1620, 'contain': 703, 'foil': 1269, 'packet': 2203, 'past': 2230, 'prefer': 2359, 'brick': 437, 'mortar': 2010, 'soooo': 2891, 'anytim': 216, 'hassl': 1477, 'conjunct': 691, 'visabl': 3382, 'bewar': 353, 'slight': 2823, 'sure': 3064, 'let': 1770, 'sit': 2800, 'holi': 1530, 'moli': 2002, 'born': 407, 'babi': 287, 'booti': 404, 'disappoint': 931, 'adverti': 121, 'found': 1298, 'husband': 1562, 'tough': 3224, 'rid': 2592, 'stubborn': 3008, 'yet': 3521, 'turn': 3271, 'raw': 2464, 'pleasant': 2309, 'scent': 2675, 'action': 101, 'uniqu': 3317, 'long': 1823, 'noth': 2103, 'el': 1033, 'compar': 662, 'mini': 1970, 'quick': 2440, 'pick': 2282, 'cleanser': 604, 'way': 3419, 'allerg': 167, 'red': 2500, 'next': 2076, 'extrem': 1154, 'cream': 746, 'primer': 2382, 'compon': 678, 'soften': 2866, 'plea': 2308, 'stop': 2983, 'send': 2717, 'promot': 2401, 'lot': 1840, 'excess': 1118, 'sebum': 2700, 'cancel': 503, 'recur': 2498, 'shipment': 2758, 'anymor': 213, 'favourit': 1199, 'manual': 1881, 'sugari': 3037, 'sister': 2799, 'religi': 2532, 'easi': 1008, 'delic': 847, 'goldilock': 1396, 'harsh': 1474, 'felt': 1210, '2x': 32, 'though': 3161, 'know': 1721, 'experi': 1139, 'polish': 2324, 'thought': 3162, 'would': 3500, 'ok': 2142, 'suggest': 3038, 'type': 3279, 'form': 1290, 'thick': 3148, 'mine': 1969, 'run': 2631, 'liter': 1805, '45': 50, 'old': 2145, 'woman': 3481, 'wrinkl': 3505, 'brand': 428, 'five': 1241, 'buildup': 467, 'friday': 1318, 'stay': 2962, 'weekend': 3427, 'sludg': 2834, 'funki': 1333, 'featur': 1201, 'luv': 1859, 'tell': 3121, 'readi': 2472, 'absorb': 83, 'evenli': 1091, 'provid': 2414, 'regen': 2515, 'appear': 223, 'shrink': 2773, 'otherwi': 2167, 'strong': 3004, 'moment': 2004, 'toasti': 3198, 'scrubbi': 2690, 'applic': 226, 'everyth': 1101, 'right': 2596, 'hyper': 1573, 'pigment': 2288, 'refin': 2508, 'lea': 1751, 'per': 2253, 'extraordinari': 1153, 'tone': 3209, 'sparkl': 2910, 'altern': 185, 'lactic': 1730, 'acid': 96, 'glycol': 1389, 'fun': 1332, 'muddi': 2025, 'forget': 1286, 'delici': 848, 'anoth': 206, 'ad': 107, 'regim': 2516, 'perfect': 2255, 'amount': 198, 'freshli': 1315, 'wish': 3473, 'everyday': 1098, 'approxim': 234, 'mani': 1880, 'compliment': 673, 'demalogica': 853, 'serum': 2728, 'moistur': 2000, 'almost': 174, 'orang': 2162, 'sent': 2723, 'servic': 2729, 'especi': 1076, 'fli': 1255, 'import': 1599, 'junk': 1698, 'small': 2836, 'pinki': 2295, 'size': 2804, 'recent': 2489, 'usag': 3344, 'tini': 3191, 'bead': 321, 'relax': 2526, 'worth': 3496, 'money': 2005, 'awesom': 284, 'prepar': 2363, 'anti': 209, 'made': 1864, 'lighter': 1786, 'mose': 2011, 'along': 177, 'rememb': 2539, 'overr': 2193, '10': 2, 'impur': 1604, '3x': 44, 'damp': 789, 'either': 1032, 'fine': 1228, 'second': 2702, 'hand': 1459, 'burn': 476, 'repurcha': 2558, 'star': 2959, 'melt': 1916, 'pour': 2347, 'monthli': 2007, 'grate': 1421, 'discov': 939, 'esthetician': 1084, 'busi': 481, 'continu': 707, 'freshen': 1313, 'period': 2262, 'easili': 1011, 'delight': 849, 'wash': 3409, 'mr': 2020, 'king': 1714, 'microdermabra': 1942, 'treatment': 3243, 'perfectli': 2256, 'sooth': 2895, 'microgranul': 1948, 'bottom': 414, 'aroma': 242, 'done': 961, 'spa': 2905, 'wear': 3421, 'bit': 369, 'perman': 2263, 'sooo': 2890, 'kind': 1711, 'bother': 411, 'glassi': 1379, 'miss': 1987, 'say': 2666, 'gimmicki': 1367, 'think': 3152, 'qualiti': 2432, 'set': 2731, 'apart': 219, 'open': 2155, 'cour': 737, 'ingredi': 1634, 'part': 2221, 'retinol': 2580, 'aha': 150, 'bha': 355, 'botan': 409, 'granul': 1417, 'mill': 1965, 'licor': 1776, 'fantast': 1185, 'brighten': 440, 'importantli': 1600, 'inten': 1653, 'add': 108, 'water': 3414, 'fragranc': 1305, 'despit': 889, 'consist': 696, 'find': 1227, 'residu': 2562, 'towel': 3228, 'disappear': 930, 'pricey': 2377, 'ye': 3515, 'mention': 1921, 'expect': 1137, 'list': 1802, 'focu': 1268, 'mainli': 1872, 'hair': 1455, 'loss': 1838, 'divin': 954, 'herbal': 1508, 'oil': 2139, 'eye': 1157, 'cliniqu': 616, 'lip': 1797, 'gloss': 1382, 'clarin': 593, 'comfort': 653, 'lancom': 1736, 'bi': 356, 'facil': 1167, 'eyelin': 1159, 'pencil': 2248, 'lush': 1858, 'enzymion': 1069, 'finish': 1232, 'rin': 2599, 'life': 1779, 'changer': 553, 'younger': 3526, 'harsher': 1475, 'bright': 439, 'eczema': 1019, 'cheek': 567, 'sadli': 2640, 'return': 2581, 'normal': 2096, 'vibrant': 3373, 'squeez': 2946, 'palm': 2209, 'rub': 2625, 'finger': 1230, 'togeth': 3202, 'number': 2112, 'cloth': 622, 'doubl': 966, 'act': 100, 'enzym': 1067, 'stand': 2956, 'surfac': 3065, 'difficult': 918, 'becom': 330, 'simpl': 2789, 'away': 283, 'apposit': 228, 'bad': 295, 'review': 2584, 'earthi': 1007, 'bothan': 410, 'dissappoint': 947, 'read': 2471, 'particular': 2226, 'anyon': 214, 'matur': 1897, 'clearer': 607, 'lx': 1861, 'month': 2006, 'aw': 279, 'odd': 2129, 'relea': 2527, 'natur': 2047, 'pretti': 2369, 'cool': 716, 'stapl': 2958, 'exfoliat': 1130, 'saw': 2665, 'actual': 104, 'onto': 2151, '15': 11, 'expen': 1138, 'procedur': 2390, 'inject': 1639, 'etc': 1088, 'trust': 3261, 'wast': 3412, 'formula': 1293, 'exponenti': 1147, 'win': 3463, '58': 63, 'gorgeou': 1404, 'shock': 2760, 'joke': 1689, 'healthi': 1485, 'least': 1757, 'addit': 110, 'free': 1308, 'sampl': 2653, 'share': 2742, 'sold': 2871, 'bonu': 399, 'point': 2323, 'award': 282, 'scoop': 2680, 'full': 1330, 'lessen': 1768, 'blow': 390, 'wallet': 3399, 'awhil': 285, 'approx': 233, 'special': 2913, 'element': 1038, 'introduc': 1660, 'left': 1762, 'chat': 562, 'consult': 699, 'difficulti': 919, 'addl': 111, 'spend': 2920, 'freez': 1309, 'windi': 3464, 'snow': 2859, 'central': 540, 'ny': 2116, 'florida': 1260, 'flare': 1247, 'calm': 499, 'among': 197, 'item': 1675, 'test': 3133, 'coupl': 735, 'over': 2182, 'flake': 1243, 'huge': 1555, 'show': 2770, 'pea': 2240, 'ladi': 1731, 'leather': 1758, 'premium': 2361, 'miracl': 1982, 'penni': 2250, 'limit': 1792, 'oh': 2137, 'doubt': 967, 'amazingli': 194, 'grail': 1412, 'nearli': 2052, 'regular': 2520, 'session': 2730, 'dirt': 928, 'pollut': 2325, 'henc': 1506, 'avoid': 278, 'damag': 788, 'due': 995, 'beautician': 326, 'suitabl': 3040, '69': 71, 'entir': 1064, 'food': 1279, 'pink': 2294, 'stock': 2979, 'pack': 2201, 'lack': 1729, 'word': 3488, 'weak': 3420, 'depart': 861, 'drug': 988, 'pricier': 2379, 'dab': 785, 'circl': 585, 'mildli': 1959, 'circular': 586, 'motion': 2015, 'reveal': 2583, 'user': 3348, 'excit': 1120, 'clear': 605, 'rthequir': 2624, 'everyon': 1100, 'comment': 655, '60': 68, 'market': 1886, 'close': 619, 'rose': 2615, 'petal': 2273, 'greasi': 1424, 'forehead': 1283, 'grit': 1433, 'someth': 2880, 'powder': 2349, 'okay': 2143, 'went': 3437, 'bomb': 397, 'two': 3278, 'geranium': 1359, 'activ': 102, 'touch': 3222, 'alright': 182, 'guy': 1449, 'picki': 2283, 'tire': 3194, 'hype': 1572, 'overpr': 2192, 'name': 2043, 'charg': 558, 'dessert': 890, 'pictur': 2284, 'foundat': 1299, 'templ': 3124, 'rest': 2569, 'girl': 1368, 'listen': 1803, 'reason': 2478, 'gave': 1344, 'lotion': 1841, 'bring': 445, 'dilig': 921, 'four': 1300, 'blown': 391, 'mayb': 1902, 'scratch': 2686, 'believ': 343, 'turnaround': 3272, 'late': 1743, 'thirti': 3157, 'shop': 2762, 'onlin': 2150, 'hope': 1540, 'chanc': 551, 'drop': 987, 'receiv': 2488, 'friend': 1319, 'broken': 447, 'problem': 2388, 'inflam': 1625, 'cover': 740, 'whitehead': 3453, 'receipt': 2487, 'box': 420, 'came': 501, 'buf': 460, 'agent': 139, 'hook': 1538, 'spar': 2908, 'dryer': 990, 'advi': 122, 'slightli': 2826, 'microexfoli': 1943, '20': 18, 'hardcor': 1468, 'derma': 867, 'gross': 1436, 'layer': 1749, 'honestli': 1537, 'cleaner': 602, 'issu': 1672, 'acn': 97, 'energet': 1058, 'incr': 1612, 'certain': 544, 'pare': 2218, 'origin': 2165, 'superfoli': 3054, 'establish': 1080, 'kick': 1707, 'easier': 1009, 'clump': 626, 'expo': 1146, 'neat': 2053, 'multi': 2026, 'pressur': 2367, 'tight': 3181, 'larg': 1737, 'ten': 3126, 'diminish': 924, 'drastic': 976, 'contact': 702, 'messag': 1925, 'bought': 415, 'idea': 1582, 'react': 2468, 'complimentari': 674, 'map': 1883, 'analysi': 199, 'counter': 733, 'westfield': 3439, 'stratford': 2991, 'citi': 587, 'centr': 539, 'therapist': 3143, 'karen': 1701, 'shini': 2755, 'healthier': 1486, 'previou': 2373, 'aesthetician': 125, 'rice': 2590, 'pure': 2422, 'heaven': 1494, 'take': 3096, 'anyway': 217, 'said': 2643, 'foliant': 1271, 'local': 1815, 'stori': 2986, 'scottsdal': 2682, 'stronger': 3005, 'prep': 2362, 'congest': 690, 'problemat': 2389, 'suffer': 3034, 'hormon': 1543, 'big': 359, 'deal': 807, 'actuali': 105, 'write': 3506, 'encourag': 1052, 'highest': 1516, 'rate': 2460, 'websit': 3423, 'creat': 750, 'luxuri': 1860, 'bottl': 413, 'regiment': 2518, 'sharp': 2743, 'grain': 1413, 'reward': 2589, 'tingli': 3190, 'becam': 329, 'tighter': 3183, 'real': 2473, 'today': 3199, 'term': 3130, 'dermologica': 882, 'didnt': 909, '1st': 16, '2nd': 30, '3rd': 42, 'prior': 2383, 'electr': 1036, 'spong': 2933, 'decrea': 821, 'co': 629, 'worker': 3491, 'spf': 2923, '50': 56, 'dynam': 1003, 'tandem': 3100, 'gone': 1398, 'tad': 3093, 'dewier': 903, 'begin': 338, 'aftermath': 134, 'mom': 2003, 'magnif': 1868, 'lightweight': 1788, 'mutlivitamin': 2037, 'greatli': 1427, 'deminish': 854, 'skim': 2807, 'process': 2391, 'hesit': 1509, 'olay': 2144, 'microdemoobra': 1941, 'kit': 1716, 'within': 3475, 'twenti': 3275, 'bump': 472, 'cluster': 628, 'known': 1723, 'mark': 1885, 'territori': 3132, 'proactiv': 2386, 'tho': 3158, 'whole': 3455, 'smart': 2839, 'produc': 2392, 'ultra': 3289, 'kept': 1704, 'bay': 318, 'may': 1901, 'experienc': 1140, 'porcelain': 2331, '30': 33, 'high': 1514, 'end': 1053, 'system': 3087, 'sound': 2901, 'infomerci': 1631, 'impress': 1602, 'wrong': 3508, 'instant': 1647, 'soo': 2887, 'tummi': 3270, 'cup': 770, 'hot': 1547, 'chocol': 577, 'marshmallow': 1888, 'imagin': 1591, 'instantli': 1649, 'resurfac': 2573, 'con': 681, 'switch': 3083, 'save': 2663, 'buck': 457, 'learn': 1756, 'versatil': 3370, 'gentler': 1355, 'uniform': 3315, 'fabul': 1162, 'key': 1706, 'tear': 3112, '42': 47, 'offer': 2132, 'option': 2160, 'address': 112, 'firm': 1234, 'splash': 2929, 'forev': 1285, 'build': 465, 'flip': 1257, 'downsid': 969, 'hard': 1467, 'organ': 2164, 'non': 2089, 'young': 3525, 'licen': 1775, 'esth': 1083, 'bar': 306, 'client': 612, 'crack': 742, 'heel': 1500, 'neg': 2062, 'gradual': 1411, 'wipe': 3469, 'superior': 3055, 'accid': 88, 'perform': 2259, 'rang': 2455, 'complementari': 667, 'bed': 331, 'biggest': 361, 'plu': 2314, 'matter': 1896, 'date': 797, 'squeeki': 2945, 'soho': 2870, 'challeng': 549, 'menopau': 1919, 'taken': 3097, 'unbeliev': 3296, 'satin': 2659, 'slipperi': 2830, '41': 46, 'minim': 1971, 'mistaken': 1989, 'earli': 1005, 'credit': 753, 'sun': 3044, 'howev': 1550, 'aggrav': 142, 'tag': 3094, 'wart': 3408, 'colour': 645, '4mm': 53, 'diamet': 906, 'occas': 2126, 'pain': 2207, 'bleed': 377, 'dermatologist': 880, 'surgic': 3067, 'might': 1954, 'scar': 2673, 'appoint': 227, 'surgeri': 3066, 'suddent': 3032, 'reali': 2474, 'probabl': 2387, 'involv': 1666, 'stitch': 2978, 'middl': 1953, 'brutal': 453, 'cold': 635, 'east': 1012, 'coast': 630, 'smaller': 2837, 'cent': 537, 'rotat': 2617, 'gener': 1349, 'thrill': 3168, 'stray': 2994, 'boss': 408, 'often': 2135, 'harm': 1473, 'slather': 2820, '5min': 65, 'velveti': 3366, 'mostir': 2012, '3time': 43, 'theraft': 3142, 'micro': 1936, 'feelit': 1206, 'deepclean': 824, 'recip': 2491, 'success': 3027, 'dull': 996, 'row': 2622, 'maintain': 1873, 'feek': 1204, 'describ': 883, 'correctli': 723, 'firmer': 1235, 'eat': 1014, 'fruit': 1327, 'veget': 3364, 'ha': 1451, 'sin': 2794, 'extract': 1152, 'yay': 3514, 'softest': 2868, 'radianc': 2447, 'youth': 3527, 'duti': 1001, 'bedtim': 333, 'soon': 2888, 'expert': 1141, 'reccomend': 2484, 'im': 1590, 'concern': 684, 'travel': 3241, 'gift': 1364, 'sign': 2780, 'cystic': 784, 'sheen': 2746, 'clarison': 594, 'ton': 3208, 'includ': 1608, 'upper': 3339, 'chest': 573, 'shoulder': 2767, 'stonger': 2982, 'break': 433, 'heard': 1489, 'cant': 506, '4x': 55, 'reduc': 2504, 'keratin': 1705, 'dissolv': 949, 'fast': 1189, 'rather': 2461, 'cucumb': 766, 'bubbl': 456, 'gfini': 1361, 'pop': 2329, 'event': 1092, 'defect': 829, 'eventu': 1093, 'unscrew': 3329, 'cap': 510, 'lather': 1745, 'direct': 926, 'dermalog': 869, 'min': 1967, 'sink': 2797, 'wor': 3487, 'dissapoint': 946, 'caution': 530, 'wreck': 3504, 'sunburn': 3045, 'va': 3356, 'abl': 80, 'trueli': 3259, 'dispen': 943, 'silicon': 2784, 'push': 2427, 'stuck': 3009, 'inflat': 1627, 'plenti': 2312, 'call': 498, 'custom': 777, 'question': 2439, 'answer': 208, 'plan': 2303, 'inconveni': 1610, '75': 73, 'mile': 1960, 'paid': 2206, 'pump': 2419, 'dig': 920, 'burst': 479, 'combo': 650, 'bc': 319, 'fix': 1242, 'unfortun': 3312, 'halfway': 1458, 'final': 1226, 'figur': 1221, 'jawlin': 1685, 'confu': 689, 'stimul': 2974, 'transform': 3235, 'plump': 2317, 'boost': 402, 'afraid': 131, 'insan': 1642, 'flakey': 1244, 'round': 2620, '20yr': 23, 'salon': 2648, 'blush': 394, 'beard': 323, 'patch': 2232, 'deliveri': 851, 'piti': 2299, 'stress': 2998, 'royal': 2623, 'ot': 2166, 'toll': 3206, 'chase': 561, 'play': 2307, 'bamboo': 303, 'ball': 301, 'annoy': 205, 'dont': 962, 'suit': 3039, 'yo': 3523, 'quench': 2437, 'atm': 265, 'amd': 195, 'geniu': 1350, 'pre': 2356, 'smoothest': 2853, 'near': 2051, 'oz': 2199, 'guess': 1444, 'understand': 3304, 'insid': 1644, 'payoff': 2239, 'reluct': 2533, 'againbecau': 137, 'awkward': 286, 'hydro': 1567, 'someon': 2879, 'deeper': 826, 'nourish': 2108, 'pull': 2418, 'whammi': 3442, 'convert': 714, 'moisturi': 2001, 'straight': 2987, 'offic': 2133, 'partner': 2228, 'train': 3234, 'london': 1822, 'brilliant': 443, 'heart': 1490, 'beeu': 335, 'deepli': 827, 'wari': 3404, 'rash': 2458, 'techniqu': 3114, 'ensur': 1063, 'saver': 2664, 'nan': 2044, 'wow': 3502, 'level': 1772, 'quickli': 2443, 'thoroughli': 3160, 'revit': 2585, 'solut': 2875, 'step': 2969, 'stick': 2970, 'loosen': 1834, 'fulli': 1331, 'factor': 1169, 'butteri': 485, 'regret': 2519, 'view': 3375, 'stun': 3012, 'correct': 722, 'graini': 1414, 'leg': 1764, 'press': 2366, 'cautiou': 531, 'clay': 599, 'toner': 3210, 'facialist': 1166, 'cleanest': 603, 'replac': 2552, 'dissatisfi': 948, 'hate': 1478, 'sphere': 2924, 'blue': 392, 'moder': 1996, 'current': 774, 'aggit': 141, 'label': 1728, 'state': 2961, 'purpo': 2426, 'evit': 1104, 'black': 371, 'nervou': 2066, 'blew': 381, 'park': 2220, 'extend': 1149, 'claim': 591, 'exceed': 1114, 'unusu': 3332, 'mushroom': 2033, 'exactli': 1109, 'lol': 1821, 'remind': 2540, 'stale': 2955, 'torn': 3220, 'whether': 3447, 'mind': 1968, 'strip': 3002, 'overli': 2189, 'common': 658, 'steep': 2967, 'pay': 2237, 'charm': 560, 'handi': 1460, 'tool': 3213, 'intend': 1654, 'broke': 446, 'terribl': 3131, 'exchang': 1119, 'honest': 1535, 'hyrdo': 1577, 'packag': 2202, 'mg': 1930, 'flawless': 1252, 'pleasantli': 2310, 'addict': 109, 'climat': 613, 'lock': 1817, 'frequent': 1311, 'detect': 893, 'kinda': 1712, 'deliv': 850, 'front': 1322, 'crazi': 744, 'ridicul': 2595, 'dermaplan': 874, 'fanat': 1184, 'happen': 1463, 'task': 3106, 'hello': 1504, 'vit': 3387, 'cruelti': 760, 'synthet': 3086, 'vegan': 3363, 'phthalat': 2279, 'paraben': 2216, 'sulfat': 3041, 'recycl': 2499, 'lumin': 1855, 'welt': 3436, 'lightli': 1787, 'rosacea': 2613, 'winner': 3466, 'book': 400, 'rush': 2634, 'effectivo': 1022, 'instantan': 1648, 'ignit': 1586, 'fit': 1240, 'basi': 312, 'humid': 1557, 'texa': 3136, 'sticki': 2971, 'dislik': 941, 'walk': 3398, 'peal': 2243, 'gental': 1352, 'famili': 1181, 'enemi': 1055, 'girlfriend': 1369, 'afterword': 136, 'report': 2555, 'satisfi': 2661, 'whenev': 3445, 'jelli': 1687, 'uumph': 3354, 'bliss': 383, 'specif': 2915, 'instruct': 1652, 'surprisingli': 3070, 'multipl': 2027, 'similar': 2788, 'cantaloup': 507, 'squidgi': 2947, 'appreci': 229, 'rephra': 2551, 'held': 1503, 'fee': 1203, 'phenomen': 2276, 'knock': 1720, 'hyrat': 1576, 'stiff': 2972, 'messi': 1926, 'concept': 683, 'necessari': 2055, 'scan': 2671, 'qr': 2430, 'code': 633, 'cash': 522, 'splurg': 2931, 'half': 1457, 'patchi': 2233, 'plum': 2316, 'hygien': 1570, 'rich': 2591, 'balanc': 300, 'opinion': 2156, 'smoothen': 2851, 'spread': 2937, 'bounci': 417, 'sight': 2779, 'faint': 1173, 'sive': 2802, 'fenc': 1212, 'hop': 1539, 'fifteen': 1218, 'shrunk': 2774, 'dermatologica': 879, 'interest': 1656, 'environ': 1066, 'friendli': 1320, 'plastic': 2306, 'boba': 395, 'inva': 1661, 'alon': 176, 'futur': 1337, 'trashi': 3239, 'glass': 1378, 'wine': 3465, 'teenag': 3117, 'son': 2884, 'gon': 1397, 'na': 2040, 'drawer': 978, 'center': 538, 'portion': 2337, 'goal': 1392, 'mega': 1914, 'dose': 964, 'priceless': 2376, 'jar': 1682, 'bunch': 474, 'gravit': 1422, 'toward': 3227, 'backup': 292, 'properti': 2408, 'world': 3492, 'note': 2102, 'cute': 779, 'cushion': 776, 'agr': 147, 'skintyp': 2815, 'white': 3452, 'button': 487, 'disper': 944, 'sorri': 2898, 'suppo': 3061, 'penetr': 2249, 'spring': 2939, 'struggl': 3007, 'person': 2268, 'misl': 1985, 'atleast': 264, 'weed': 3425, 'worst': 3494, 'lift': 1783, 'underneath': 3302, 'mostli': 2013, 'unscent': 3328, 'kp': 1724, 'school': 2678, 'glue': 1387, 'hyaluron': 1564, 'dehydr': 846, 'bedridden': 332, 'ill': 1589, 'prettier': 2370, 'weight': 3429, 'began': 337, 'magic': 1867, 'weird': 3430, '6i': 72, 'tremend': 3245, 'ritual': 2604, 'sea': 2694, 'foam': 1265, 'greatest': 1426, 'smelli': 2843, 'adult': 117, 'recomend': 2493, 'bug': 463, 'tapioca': 3103, 'hang': 1462, 'fell': 1208, 'horribl': 1545, 'vs': 3392, 'imperfect': 1598, 'pamper': 2210, 'itch': 1673, 'ride': 2594, 'spectacular': 2917, 'minti': 1978, 'sleek': 2821, 'design': 886, 'reccommend': 2486, 'tlc': 3197, 'surround': 3071, 'transport': 3237, 'persay': 2266, 'innov': 1641, 'unlik': 3320, 'tub': 3265, 'toler': 3205, 'squishi': 2948, 'skeptic': 2805, 'uncomfort': 3299, 'obviou': 2124, 'glob': 1381, 'advic': 123, 'move': 2019, 'rubber': 2626, 'wise': 3472, 'seen': 2708, 'encapsul': 1050, 'regardless': 2514, 'elsewh': 1040, 'headlin': 1482, 'longtim': 1825, 'bare': 308, 'particl': 2225, 'larger': 1738, 'thu': 3175, 'chamber': 550, 'style': 3016, 'separ': 2725, 'upon': 3338, 'occur': 2128, 'cherri': 572, 'seal': 2695, 'imposs': 1601, 'destroy': 891, 'desir': 887, 'uneven': 3309, 'elast': 1034, 'ive': 1678, 'search': 2696, 'piec': 2286, 'luke': 1854, 'allow': 172, 'overu': 2195, 'drink': 986, 'bust': 482, 'admit': 114, 'celeri': 534, 'perhap': 2261, 'green': 1428, 'hydromasqu': 1568, 'transit': 3236, 'season': 2697, 'typic': 3280, 'grass': 1420, '3hour': 39, 'intrigu': 1659, 'outsid': 2177, 'url': 3342, 'page': 2205, 'scanner': 2672, 'timer': 3188, 'collect': 640, 'complaint': 665, 'built': 468, 'dip': 925, 'contamin': 704, 'bacteria': 294, 'cocoon': 632, 'collap': 639, 'luckili': 1852, 'metal': 1928, 'scrap': 2684, 'shove': 2769, 'column': 646, 'grant': 1416, 'sheer': 2747, 'frustrat': 1329, 'hou': 1548, 'roll': 2611, 'post': 2341, '54': 61, 'yr': 3531, 'lettuc': 1771, 'handl': 1461, 'unsur': 3331, 'swear': 3079, 'bzzagent': 491, 'annnnnnd': 204, 'weirdo': 3432, 'somehow': 2878, 'demralogica': 856, 'dot': 965, 'mush': 2032, 'thin': 3150, 'somewhat': 2882, 'alo': 175, 'littler': 1808, 'air': 156, 'hudrat': 1553, 'conveni': 712, 'crunch': 762, 'hurri': 1560, 'mean': 1904, 'colder': 636, 'temperatur': 3123, 'whim': 3449, 'descript': 884, 'yeat': 3519, 'balm': 302, 'omg': 2148, 'room': 2612, 'temp': 3122, 'airi': 157, 'gord': 1403, 'valu': 3358, 'blank': 374, 'canva': 508, 'seri': 2726, 'fellow': 1209, 'peep': 2247, 'blotchi': 389, 'essenti': 1078, 'cake': 494, 'charcoal': 556, 'pace': 2200, 'base': 311, 'creamier': 748, 'pro': 2385, 'mess': 1924, 'stain': 2954, '21': 24, 'sale': 2645, 'preclean': 2357, 'daughter': 798, 'tape': 3102, 'weather': 3422, 'upgrad': 3336, 'repair': 2549, 'kitchen': 1717, 'remark': 2537, 'watch': 3413, 'till': 3186, 'soap': 2861, 'trip': 3254, 'toiletri': 3203, 'oval': 2180, 'pri': 2374, 'lump': 1856, 'smile': 2845, 'cyst': 783, 'tissu': 3195, 'necess': 2054, 'leari': 1755, 'friction': 1317, 'properli': 2407, 'tighten': 3182, 'hyperpig': 1574, 'chicago': 574, 'mildewi': 1958, 'suplur': 3058, 'fascin': 1187, 'unplea': 3324, 'sting': 2975, 'subsid': 3022, 'battl': 317, 'unevenli': 3310, 'blend': 379, 'blur': 393, 'milk': 1962, 'happier': 1465, 'deci': 815, 'mix': 1990, 'immensli': 1595, 'ineillnagain': 1624, 'wasnt': 3411, 'loyal': 1849, 'hitch': 1524, 'respond': 2568, 'kindli': 1713, 'skip': 2816, 'attent': 268, 'ought': 2168, 'barnacl': 309, 'effort': 1025, 'shed': 2745, 'loofah': 1827, 'protect': 2409, 'ice': 1579, 'gem': 1347, 'surpass': 3068, 'wife': 3460, 'couldnt': 731, 'sopost': 2896, 'dampen': 790, 'creativ': 751, 'detoxifi': 897, 'spill': 2925, 'fewlingfeel': 1216, 'woth': 3499, 'repres': 2557, 'exampl': 1112, 'fair': 1174, 'understood': 3306, 'meant': 1905, 'clea': 600, 'toothpast': 3216, 'color': 643, 'froth': 1324, 'fact': 1168, '31': 34, 'overpow': 2191, 'pet': 2272, 'zoo': 3540, 'purifi': 2424, 'frost': 1323, 'sceptic': 2676, 'outcom': 2171, 'leftov': 1763, 'solf': 2872, 'detox': 895, 'health': 1484, 'sudsi': 3033, 'liquid': 1800, 'adver': 120, 'california': 497, 'sunni': 3047, 'anybodi': 212, 'lil': 1790, 'settl': 2732, 'exfo': 1124, 'christma': 583, 'newborn': 2072, 'harden': 1469, 'rock': 2608, 'redesign': 2503, 'freak': 1307, 'opportun': 2158, 'greet': 1429, 'producto': 2394, 'exfolia': 1129, 'muy': 2038, 'bien': 358, 'mi': 1931, 'cara': 514, 'si': 2775, 'lo': 1812, 'recomiendo': 2494, 'peak': 2242, 'stripe': 3003, 'refer': 2506, 'meh': 1915, 'later': 1744, 'countless': 734, 'manag': 1879, 'proven': 2413, '100': 3, 'superfoil': 3053, 'effici': 1024, 'gray': 1423, 'behind': 341, 'amazamaz': 193, 'imo': 1596, 'asap': 249, 'sooner': 2889, 'therefor': 3144, 'econom': 1017, 'blemish': 378, 'scali': 2669, 'intimid': 1658, 'slowli': 2833, 'appar': 221, 'discolor': 935, 'bloom': 387, 'game': 1340, 'gotten': 1407, 'sparingli': 2909, 'pave': 2236, 'maximum': 1900, 'heal': 1483, 'squeaki': 2943, 'unmatch': 3321, 'def': 828, 'disarm': 932, 'reminisc': 2541, 'ash': 250, 'fire': 1233, 'pit': 2297, 'milkfoli': 1963, 'unclog': 3298, 'prescript': 2364, 'strength': 2997, 'retin': 2578, 'fuss': 1336, 'barrier': 310, 'quicker': 2441, 'signif': 2781, 'abil': 78, 'wore': 3489, 'assum': 256, '40': 45, 'perfecto': 2257, 'short': 2764, 'partial': 2223, 'sugar': 3036, 'fewer': 1215, 'higher': 1515, 'lifelong': 1780, 'women': 3482, 'ptr': 2417, 'recov': 2496, 'invest': 1663, 'goodi': 1401, 'bag': 298, 'carri': 519, 'refil': 2507, 'trace': 3230, 'grime': 1431, 'awak': 280, 'random': 2454, 'nostril': 2099, 'shiz': 2759, 'grace': 1409, 'match': 1895, 'duo': 998, 'overspray': 2194, 'washcloth': 3410, 'spray': 2936, 'milder': 1957, 'sud': 3030, 'requir': 2559, 'intermitt': 1657, 'aid': 154, 'quest': 2438, 'coconut': 631, 'heavi': 1495, 'btw': 455, 'sudden': 3031, 'threw': 3167, 'ypur': 3530, 'ur': 3341, 'leak': 1753, 'dermoligica': 881, 'youtub': 3529, 'video': 3374, 'swap': 3078, 'cheaper': 564, 'teen': 3116, 'complic': 671, 'gal': 1339, 'consum': 700, 'compani': 660, 'dud': 994, 'milki': 1964, 'specialist': 2914, 'itchi': 1674, 'tula': 3268, 'nighttim': 2084, 'decent': 814, 'porta': 2335, 'potti': 2345, 'faith': 1176, 'lid': 1777, 'unstabl': 3330, '100x': 4, 'outstand': 2178, 'esp': 1075, 'wisconsin': 3470, 'summer': 3043, 'relief': 2530, 'essenc': 1077, 'scrubber': 2689, 'angri': 203, 'version': 3371, 'slimi': 2827, 'scratchi': 2687, 'commit': 657, 'particularli': 2227, 'plagu': 2301, 'significantli': 2783, 'exist': 1135, 'powerbright': 2352, '12': 6, '3month': 40, 'judg': 1694, 'degr': 845, 'hold': 1528, 'reliev': 2531, 'deplet': 863, 'constantli': 698, 'spec': 2912, 'sking': 2813, 'senior': 2718, 'sore': 2897, 'scab': 2667, 'dilut': 922, 'fal': 1178, 'sad': 2638, 'cat': 523, 'pee': 2244, 'my2nd': 2039, 'fall': 1179, 'dewey': 901, 'restor': 2571, 'score': 2681, 'holiday': 1531, 'automat': 272, 'inventori': 1662, 'pair': 2208, 'constant': 697, 'gosh': 1405, 'nasti': 2045, 'dash': 796, 'float': 1258, 'estoy': 1087, 'fascinada': 1188, 'est': 1079, 'es': 1074, 'ble': 376, 'ment': 1920, 'bueno': 459, 'para': 2215, 'tu': 3264, 'piel': 2287, 'tengo': 3129, 'semana': 2714, 'us': 3343, 'ndolo': 2049, 'se': 2693, 'mira': 1981, 'sient': 2778, 'suav': 3017, 'curolog': 773, 'main': 1871, 'medic': 1910, 'slow': 2832, 'salicyl': 2647, 'colorado': 644, 'altitud': 187, 'milia': 1961, 'anywh': 218, 'clenser': 611, 'frothi': 1325, 'across': 99, 'moist': 1997, 'fav': 1194, 'stopper': 2984, 'cosmet': 724, 'thrown': 3173, 'airport': 158, 'plane': 2304, 'foliat': 1272, 'hurt': 1561, 'substanc': 3023, 'skinn': 2814, 'wateri': 3415, 'util': 3352, 'breath': 436, 'radiat': 2449, 'progress': 2398, 'meet': 1913, 'frozen': 1326, 'overh': 2187, 'doesnt': 957, 'perfum': 2260, 'lose': 1837, 'shake': 2737, 'cough': 729, 'aliv': 164, 'increasingli': 1614, 'eighti': 1031, 'heck': 1499, 'upset': 3340, 'denver': 858, 'visit': 3385, 'badli': 297, 'resolut': 2565, 'feet': 1207, 'arriv': 245, 'jaw': 1684, 'major': 1875, 'choic': 578, 'ooomph': 2153, 'loan': 1814, 'ruin': 2629, 'sheet': 2748, 'pillow': 2291, 'buff': 461, 'insten': 1651, 'steadi': 2963, 'fragar': 1303, 'ultracalm': 3290, 'scrambl': 2683, 'vulner': 3393, 'virtual': 3381, 'sort': 2899, 'fail': 1172, 'nightli': 2083, 'lost': 1839, 'folia': 1270, 'nooo': 2094, 'unless': 3319, 'rapid': 2456, 'dare': 792, 'quantiti': 2434, 'observ': 2121, 'lovel': 1844, 'ju': 1693, 'fill': 1223, 'bang': 305, 'bigger': 360, 'realiti': 2475, 'ii': 1588, 'remedi': 2538, 'true': 3258, 'thorough': 3159, 'lesson': 1769, 'snort': 2858, 'mount': 2016, 'gentil': 1353, 'tore': 3219, 'rag': 2451, 'sick': 2776, 'birthday': 367, 'dr': 971, 'brant': 430, 'aggress': 143, 'sir': 2798, 'cart': 520, 'stunk': 3014, 'pepper': 2252, 'lung': 1857, 'repackag': 2548, 'bake': 299, 'soda': 2864, '500': 57, 'bravo': 431, 'team': 3111, 'unreal': 3326, 'blind': 382, 'knew': 1719, 'stink': 2977, 'cost': 726, 'vacat': 3357, 'embarrass': 1042, 'soy': 2903, 'booster': 403, 'pat': 2231, 'ta': 3088, 'discount': 938, 'tricki': 3252, 'drywal': 992, 'mud': 2024, 'builder': 466, 'clue': 625, 'um': 3291, 'welcom': 3433, 'hor': 1542, 'manur': 1882, 'everywh': 1103, 'grey': 1430, 'canyon': 509, 'lament': 1733, 'die': 910, 'shell': 2749, 'indispen': 1619, 'cornerston': 720, 'lead': 1752, 'variou': 3361, 'ground': 1437, 'closest': 621, 'yield': 3522, 'afford': 130, '2time': 31, 'neglect': 2063, 'hour': 1549, 'outing': 2174, 'exclu': 1121, 'cooler': 717, 'profound': 2396, 'standard': 2957, 'rare': 2457, 'curiou': 772, 'submit': 3020, 'leap': 1754, 'refund': 2512, 'eyebrow': 1158, 'microblad': 1939, 'goodieco': 1402, 'supercharg': 3051, 'trio': 3253, 'grade': 1410, 'updat': 3335, 'six': 2803, 'follicl': 1275, 'tip': 3193, 'nickel': 2080, 'decongest': 820, 'brush': 452, 'id': 1581, 'basic': 313, 'neither': 2064, 'roughli': 2619, 'activi': 103, 'chap': 554, 'bum': 470, 'sweet': 3082, 'almond': 173, 'deadli': 805, 'nut': 2115, 'allergi': 169, 'reluctantli': 2534, 'microfoili': 1945, 'led': 1760, 'rave': 2463, 'finer': 1229, 'begun': 340, 'gape': 1341, 'supposedli': 3062, 'preclen': 2358, 'horrif': 1546, 'shhhhhhh': 2751, 'dump': 997, 'spell': 2919, 'cupcak': 771, 'ape': 220, 'door': 963, 'closer': 620, 'horrend': 1544, 'favor': 1196, 'st': 2950, 'apricot': 235, 'xoxo': 3510, 'beat': 324, 'poor': 2328, 'substitut': 3025, 'cheap': 563, 'hundr': 1558, 'none': 2091, 'lover': 1846, 'embarrassingli': 1043, 'chose': 580, 'notabl': 2100, 'given': 1371, 'caught': 528, 'guard': 1443, 'proper': 2406, 'shine': 2754, 'employ': 1047, 'former': 1291, 'perfoli': 2258, 'reoccur': 2545, 'whip': 3450, 'rebuy': 2482, 'anesthetist': 201, 'written': 3507, 'inch': 1607, 'distract': 952, 'folient': 1273, '32': 35, 'ti': 3177, 'rn': 2605, 'sleep': 2822, 'portfolio': 2336, 'evolv': 1105, 'approach': 231, 'hint': 1520, 'uplift': 3337, 'depend': 862, 'trial': 3249, 'immen': 1594, 'emerg': 1044, 'spoke': 2932, 'reassur': 2479, '24': 26, 'justifi': 1700, 'grandma': 1415, 'infu': 1632, 'hysterectomi': 1578, '12th': 8, 'shortli': 2765, 'troublesom': 3257, 'explain': 1142, 'thirst': 3155, 'foami': 1266, 'equal': 1071, 'gladli': 1374, 'unawar': 3294, 'aveda': 274, 'lemoni': 1766, 'shadow': 2736, 'scrape': 2685, 'cut': 778, 'waterproof': 3417, 'citru': 588, 'safe': 2641, 'streamlin': 2996, 'blaze': 375, 'decolletag': 818, 'awar': 281, 'cand': 504, 'cone': 687, 'averag': 276, 'citrusi': 589, 'lucki': 1851, 'chosen': 581, 'viewpoint': 3376, 'someday': 2877, 'loke': 1820, 'frill': 1321, 'undo': 3308, 'iffi': 1585, 'clinic': 615, 'touchi': 3223, 'hardest': 1471, 'enhanc': 1059, 'loreal': 1836, 'cotton': 728, 'pad': 2204, 'mascara': 1889, 'speak': 2911, 'wander': 3402, 'club': 624, 'woken': 3480, 'raccoon': 2446, 'ckeanser': 590, 'drier': 984, 'bless': 380, 'moistuiz': 1999, 'wich': 3458, 'personali': 2269, 'fortun': 1296, 'replenish': 2553, 'mad': 1863, 'hippi': 1521, 'dime': 923, 'appeal': 222, 'incorpor': 1611, 'velvet': 3365, 'dermatolog': 878, 'nake': 2042, 'liner': 1794, 'creamiest': 749, 'thicker': 3149, 'emulsifi': 1049, 'tall': 3099, 'met': 1927, 'tackl': 3092, 'accomplish': 93, 'ingeni': 1633, 'dollop': 960, 'scienc': 2679, 'dirti': 929, 'simultan': 2792, 'lipid': 1798, 'protein': 2410, 'pass': 2229, 'trick': 3251, 'parch': 2217, 'needless': 2059, 'butter': 484, 'murumuru': 2030, 'seed': 2706, 'formul': 1292, 'gluten': 1388, 'altogeth': 188, 'hypothyroid': 1575, 'ahead': 152, 'looker': 1829, 'fresher': 1314, 'solv': 2876, 'samp': 2652, 'film': 1224, 'fluid': 1263, 'attach': 266, 'artifici': 247, 'forgotten': 1288, 'plant': 2305, 'buyer': 489, 'fool': 1280, 'ya': 3512, 'promi': 2399, 'sweat': 3080, 'jasmin': 1683, 'invigor': 1665, 'ditto': 953, 'queenieq': 2436, 'medicin': 1911, 'insight': 1645, 'retain': 2575, 'defend': 831, 'program': 2397, 'heavier': 1496, 'besid': 348, 'strang': 2988, 'flatter': 1251, 'envigor': 1065, 'mistak': 1988, 'simplifi': 2791, 'deduct': 822, 'varieti': 3360, 'efficaci': 1023, 'rosemari': 2616, 'sage': 2642, 'odor': 2130, 'beforehand': 336, 'throw': 3172, 'lite': 1804, 'ph': 2274, 'par': 2214, 'particip': 2224, 'schedul': 2677, 'harder': 1470, 'numer': 2113, 'potent': 2343, 'lipstick': 1799, 'nightim': 2082, 'throughout': 3171, 'faulti': 1193, 'fairli': 1175, 'concentr': 682, 'flush': 1264, 'filter': 1225, 'fruiti': 1328, 'ea': 1004, 'ind': 1615, 'herb': 1507, 'softli': 2869, 'runni': 2632, 'whaaaaaaat': 3441, 'faster': 1190, 'nail': 2041, 'astr': 262, 'replic': 2554, 'blog': 386, 'deodor': 859, 'unilev': 3316, 'minor': 1977, 'grown': 1440, 'folk': 1274, 'satisfactori': 2660, 'unapp': 3293, '25': 27, '59': 64, '16': 13, '9oz': 74, 'prici': 2378, '120': 7, 'equiv': 1072, 'ec': 1015, 'angel': 202, 'biolumin': 364, 'freindli': 1310, 'stratum': 2992, 'corneum': 721, 'risk': 2602, 'gym': 1450, 'spout': 2935, 'sell': 2713, 'minimum': 1974, 'devot': 900, 'agesmart': 140, 'pm': 2320, 'thirsti': 3156, 'scare': 2674, 'wiz': 3477, 'develop': 898, 'spendi': 2921, 'ling': 1795, 'ugh': 3283, 'nyc': 2117, 'wed': 3424, 'puzzl': 2429, 'research': 2560, '43': 48, 'shelli': 2750, 'attempt': 267, 'tweak': 3273, 'crumbi': 761, 'lame': 1732, 'brain': 425, 'merchandi': 1922, 'hire': 1522, 'group': 1438, 'influenc': 1628, 'reorder': 2546, 'cloud': 623, 'evri': 1106, 'achiev': 95, 'increa': 1613, 'detoxif': 896, 'advanc': 118, 'unbear': 3295, 'sublim': 3019, 'member': 1917, 'fallen': 1180, 'wrote': 3509, 'notwithstand': 2107, 'suck': 3028, 'distinct': 951, 'indic': 1618, 'hopelessli': 1541, 'happili': 1466, 'trish': 3255, 'mn': 1993, 'limi': 1791, 'undesir': 3307, 'dozen': 970, 'reviv': 2587, 'zen': 3534, 'kid': 1708, 'brig': 438, 'exf': 1123, 'liat': 1773, 'depress': 864, 'primari': 2380, 'sadden': 2639, 'presum': 2368, 'hunt': 1559, 'bac': 288, 'flexibl': 1254, 'adjust': 113, 'cook': 715, 'oat': 2118, 'offen': 2131, 'stung': 3013, 'chrissi': 582, 'associ': 255, 'hi': 1512, 'selfridg': 2712, 'vile': 3379, 'shame': 2739, 'demologica': 855, 'proof': 2405, 'secret': 2704, 'tab': 3089, 'hole': 1529, 'flow': 1262, 'locker': 1818, 'specifi': 2916, 'everday': 1095, 'mislead': 1986, 'enlarg': 1061, 'rodan': 2609, 'field': 1217, 'redefin': 2502, 'disco': 934, 'reformul': 2509, 'tradit': 3232, 'remak': 2536, 'slightest': 2824, 'fight': 1220, 'industri': 1622, 'obnoxi': 2120, 'gunki': 1447, 'breakdown': 434, 'de': 803, 'lie': 1778, 'loo': 1826, 'minnesota': 1976, 'buffer': 462, '3oz': 41, 'decolt': 819, 'undershow': 3303, 'yoga': 3524, 'cakey': 495, 'kim': 1710, 'sock': 2863, 'decad': 812, 'ahhh': 153, 'allegedli': 166, 'albeit': 160, 'jack': 1679, 'relev': 2528, 'compat': 664, 'wherea': 3446, 'favour': 1198, 'microtear': 1951, 'traumat': 3240, 'shape': 2741, 'drain': 973, 'ran': 2453, 'grab': 1408, 'differen': 916, 'sp': 2904, 'gold': 1395, 'comparison': 663, 'coin': 634, 'keeper': 1703, 'affect': 129, 'cabinet': 493, 'inagin': 1605, 'rep': 2547, 'immediatli': 1593, 'bird': 366, 'poo': 2327, 'hazel': 1480, 'tsa': 3263, 'men': 1918, 'inflamm': 1626, 'chemo': 571, 'survivor': 3073, 'desper': 888, 'outdoor': 2172, 'dermal': 868, 'commut': 659, '48': 52, 'pron': 2403, 'til': 3184, 'microfol': 1946, 'astonish': 260, 'impact': 1597, 'conci': 685, 'conserv': 694, 'expand': 1136, 'crepey': 754, 'tooth': 3215, 'revolutionari': 2588, 'companion': 661, 'sonic': 2886, 'method': 1929, 'strictli': 3000, 'arbonn': 237, 'error': 1073, 'elbow': 1035, 'knee': 1718, 'yummi': 3533, 'zillion': 3536, 'ceram': 541, 'astonishingli': 261, 'poreless': 2333, 'cushi': 775, 'plumpen': 2318, 'resili': 2563, 'reciev': 2490, '63': 70, 'alter': 184, 'block': 384, 'burnt': 478, 'notch': 2101, 'sprinkl': 2940, '4th': 54, 'caucasian': 527, 'simultani': 2793, 'pregnanc': 2360, 'budget': 458, 'shopper': 2763, 'news': 2075, 'mila': 1955, 'cheekbon': 568, 'south': 2902, 'eastern': 1013, 'capitol': 513, 'ray': 2465, 'brother': 448, 'law': 1748, 'acclim': 89, 'gunk': 1446, 'easiest': 1010, 'definitelt': 840, 'un': 3292, 'strap': 2990, 'spin': 2927, 'deepen': 825, 'appl': 224, 'juic': 1695, 'swore': 3084, 'hylaraun': 1571, 'commiss': 656, 'temporari': 3125, 'yeah': 3517, 'nur': 2114, 'doctor': 955, 'glide': 1380, 'singl': 2796, '51': 59, 'everynight': 1099, 'hairlin': 1456, 'reduct': 2505, 'nicer': 2079, 'quiet': 2444, 'bath': 314, 'thousand': 3164, 'whatsoev': 3444, 'hay': 1479, 'accommod': 91, 'cheapest': 565, 'critic': 757, 'complimentri': 676, 'dayli': 802, 'influenst': 1629, 'januari': 1681, 'po': 2321, 'acrid': 98, 'inhal': 1637, 'dust': 1000, 'measur': 1907, 'anount': 207, 'stage': 2953, 'fab': 1161, 'clearest': 608, 'brightest': 442, 'defiantli': 834, 'voxbox': 3391, 'faff': 1171, 'pie': 2285, 'moon': 2008, 'suuuuper': 3075, 'confid': 688, 'consecut': 693, 'aunt': 270, 'stringent': 3001, 'vigor': 3378, 'areound': 239, 'sensibl': 2720, 'courtesi': 738, 'lower': 1848, 'outdoorsi': 2173, 'hike': 1519, 'extrememli': 1155, 'catch': 524, 'nope': 2095, 'ine': 1623, 'teaspoon': 3113, 'medium': 1912, 'mixtur': 1992, 'charchol': 555, 'iv': 1676, 'empti': 1048, 'oppo': 2157, 'overwhelm': 2196, 'stingi': 2976, 'alerg': 162, 'hardli': 1472, 'gimmick': 1366, 'muslin': 2035, 'funni': 1334, 'retextur': 2576, 'glamor': 1375, 'pin': 2293, 'exfoili': 1126, 'postmenopau': 2342, 'tbh': 3109, 'perpetu': 2265, 'hear': 1488, 'edit': 1020, 'minimi': 1973, 'ale': 161, 'vouch': 3390, 'univ': 3318, 'toe': 3201, 'aback': 77, 'apprehen': 230, 'useag': 3346, 'didapaint': 908, 'nerd': 2065, 'alpha': 180, 'hydroxi': 1569, 'binchotan': 363, 'adsorb': 116, 'toxin': 3229, 'niacinamid': 2077, 'alga': 163, 'tara': 3104, 'bettet': 352, 'skimp': 2808, 'cetaphil': 546, 'gent': 1351, 'glossi': 1383, 'drag': 972, 'tug': 3267, 'energeri': 1057, 'makeov': 1877, 'aswel': 263, 'massiv': 1894, 'zzz': 3541, 'recal': 2483, 'resutl': 2574, 'unicorn': 3314, 'liberti': 1774, 'advent': 119, 'calendar': 496, 'smear': 2841, 'visag': 3383, 'yuck': 3532, 'sunk': 3046, 'joy': 1691, 'flash': 1248, 'salt': 2649, 'shaker': 2738, 'sulphur': 3042, 'cumul': 769, 'unwant': 3333, 'reinforc': 2522, 'target': 3105, 'declog': 817, 'genuin': 1358, 'fear': 1200, 'bathroom': 315, 'downfal': 968, 'woooowww': 3486, 'load': 1813, 'calmer': 500, 'occasionali': 2127, 'tonight': 3211, 'ruff': 2628, 'ignor': 1587, 'eleg': 1037, 'glanc': 1376, 'granular': 1418, 'flatten': 1250, 'chalk': 547, 'signifi': 2782, 'antioxid': 211, 'influent': 1630, 'satur': 2662, 'cater': 525, 'capabl': 511, 'micellar': 1933, 'flawlessli': 1253, 'deni': 857, 'space': 2906, 'gut': 1448, 'appropri': 232, 'brake': 426, 'million': 1966, 'revitali': 2586, 'suprem': 3063, 'cloggi': 618, 'smooooth': 2847, 'mircofoli': 1983, 'trade': 3231, 'rubbish': 2627, 'deviat': 899, 'borderlin': 405, 'cycl': 782, 'cross': 759, 'ish': 1669, 'role': 2610, 'loooove': 1832, 'india': 1616, 'exposur': 1148, 'indian': 1617, 'smoot': 2849, 'occa': 2125, 'notori': 2106, 'woke': 3479, 'fault': 1192, 'aggriv': 144, 'isnt': 1670, 'pout': 2348, 'tablespoon': 3090, 'campaign': 502, 'suuuuuper': 3077, 'defint': 841, 'quaniti': 2433, 'triall': 3250, 'lazi': 1750, 'neutral': 2067, 'garner': 1342, 'convent': 713, 'controversi': 711, 'draw': 977, 'potenti': 2344, 'unrealist': 3327, 'rigour': 2598, 'oilier': 2141, 'depth': 865, 'fortnight': 1295, 'chunki': 584, 'agress': 148, 'defini': 838, 'recom': 2492, 'shin': 2753, 'alongsid': 178, 'context': 706, 'combat': 648, 'muski': 2034, 'exfolaint': 1127, 'clariti': 595, 'invi': 1664, 'definetli': 837, 'outweigh': 2179, 'prouduct': 2411, 'benefici': 345, 'tester': 3135, 'reach': 2467, 'dribbl': 983, 'choo': 579, 'prime': 2381, 'compromi': 680, 'assur': 258, 'jump': 1696, 'tiniest': 3192, 'boy': 421, 'rashi': 2459, 'polut': 2326, 'collabor': 637, 'colleg': 641, 'dairi': 787, 'meat': 1908, 'diet': 912, 'slack': 2818, 'powderi': 2350, 'biscuiti': 368, 'acclimati': 90, 'dubiou': 993, 'useless': 3347, 'cope': 718, 'bia': 357, 'superb': 3050, 'fuse': 1335, 'sshhh': 2949, 'nb': 2048, 'shown': 2772, 'photo': 2278, 'cling': 614, 'vast': 3362, 'batter': 316, 'flourish': 1261, 'troubl': 3256, 'bormal': 406, 'ador': 115, 'neen': 2061, 'firstli': 1238, 'wig': 3461, 'asid': 251, 'uk': 3285, 'honesti': 1536, 'festiv': 1213, 'indulg': 1621, 'prettt': 2371, 'forefront': 1282, 'pitch': 2298, 'tout': 3226, 'snob': 2857, 'familiar': 1182, 'bond': 398, 'beneath': 344, 'punch': 2420, 'multitask': 2028, 'triad': 3248, 'cellular': 536, 'charcol': 557, 'breach': 432, 'epidermi': 1070, 'present': 2365, 'vital': 3388, 'outlay': 2175, 'minuet': 1979, 'phyto': 2281, 'muscl': 2031, 'peski': 2271, 'jsu': 1692, 'acutan': 106, 'payment': 2238, 'br': 424, 'complimetori': 677, 'supersfoli': 3057, 'brine': 444, 'mechan': 1909, 'og': 2136, 'provok': 2415, 'ahah': 151, 'diagram': 905, 'guid': 1445, 'cuticular': 780, 'heavili': 1497, 'wake': 3397, 'prove': 2412, 'litter': 1806, 'squeek': 2944, 'ect': 1018, 'contribut': 709, 'canni': 505, 'superexfoli': 3052, 'flat': 1249, 'dissapear': 945, 'plesant': 2313, 'defo': 842, 'caveat': 533, 'firsf': 1236, 'tomorrow': 3207, 'eve': 1089, 'feverish': 1214, 'plain': 2302, 'spreadabl': 2938, 'novic': 2110, 'xx': 3511, 'madli': 1865, 'west': 3438, 'healthyglowingskinforlif': 1487, 'defin': 835, 'upcom': 3334, 'content': 705, 'tacha': 3091, 'african': 132, 'american': 196, 'patienc': 2234, 'purg': 2423, 'assumpt': 257, 'la': 1726, 'roch': 2607, 'posay': 2338, '1802': 14, 'lighten': 1785, 'minivaca': 1975, 'san': 2654, 'diego': 911, 'unfragranc': 3313, 'coupon': 736, 'exclud': 1122, 'excema': 1116, 'debug': 811, 'salycil': 2651, 'resist': 2564, 'floral': 1259, '23': 25, 'trentinoin': 3246, 'peeli': 2246, 'pile': 2289, 'quarter': 2435, '05': 1, 'retina': 2579, 'bp': 423, 'ppl': 2353, 'luck': 1850, 'nobodi': 2087, 'bouncier': 418, 'obssess': 2123, 'driest': 985, 'brui': 451, 'bandwagon': 304, 'whatev': 3443, 'overexposur': 2186, 'uv': 3355, 'cow': 741, 'slug': 2835, 'dhc': 904, 'bummer': 471, 'seven': 2733, 'trail': 3233, 'forgot': 1287, 'marri': 1887, 'june': 1697, '2023': 22, 'sub': 3018, 'sen': 2716, 'spit': 2928, 'exagg': 1110, 'papain': 2211, 'understat': 3305, 'drugstor': 989, 'fraction': 1302, 'necessarili': 2056, 'cave': 532, 'idek': 1584, 'count': 732, 'textureless': 3139, 'suffoc': 3035, 'throat': 3169, 'ecolog': 1016, 'cerav': 542, 'lifer': 1781, 'differec': 915, 'wort': 3495, 'chef': 569, 'kiss': 1715, 'pocket': 2322, 'neeeed': 2060, 'ingrown': 1636, 'razor': 2466, 'armpit': 241, 'gland': 1377, 'worthless': 3498, 'solid': 2873, 'warn': 3407, 'stumbl': 3011, 'virginia': 3380, 'model': 1995, 'ratio': 2462, 'heavyweight': 1498, 'sturdi': 3015, 'newer': 2073, 'forth': 1294, 'whirl': 3451, 'explanatori': 1143, 'crevic': 755, 'dream': 979, 'cereal': 543, 'aftar': 133, 'salycid': 2650, 'daycar': 801, 'eww': 1107, 'popular': 2330, 'lm': 1811, 'uard': 3282, 'unbia': 3297, 'nook': 2093, 'cranni': 743, 'blah': 373, 'slighti': 2825, 'dewi': 902, 'tea': 3110, 'tree': 3244, 'steamer': 2966, 'smother': 2855, 'discomfort': 936, 'ultateam': 3287, 'remain': 2535, 'oatmeal': 2119, 'papaya': 2212, 'exfoliatior': 1131, 'gentlest': 1356, 'ehat': 1029, 'drank': 975, 'secondari': 2703, 'cumbersom': 768, 'overwork': 2197, 'tick': 3178, 'tatcha': 3108, 'huuuug': 1563, 'energ': 1056, 'fist': 1239, 'persist': 2267, 'wintertim': 3468, 'microabra': 1937, 'wont': 3485, 'reliabl': 2529, 'complimentaryfromdermalogica': 675, 'email': 1041, 'ivanaalago': 1677, 'gmail': 1390, 'com': 647, 'colloid': 642, 'highlight': 1518, 'beautifuli': 328, 'crush': 763, 'walnut': 3400, 'gebtl': 1345, 'effortlessli': 1027, 'delux': 852, 'promptli': 2402, 'rule': 2630, 'overexfoli': 2185, 'twist': 3277, 'waterless': 3416, 'arm': 240, 'arsen': 246, 'teeni': 3118, '5th': 66, 'comedon': 652, 'linger': 1796, 'contour': 708, 'possibl': 2340, 'doll': 958, 'distil': 950, 'verdict': 3369, 'loooong': 1830, 'select': 2710, 'snd': 2856, 'bran': 427, 'foremost': 1284, 'mixrofoli': 1991, 'flakier': 1246, 'ohhh': 2138, 'jazz': 1686, 'sacrif': 2637, 'gife': 1363, 'pleasur': 2311, 'legit': 1765, 'icon': 1580, 'dislodg': 942, 'complimemtari': 672, 'endless': 1054, 'clumpi': 627, 'parent': 2219, 'rx': 2635, 'bowl': 419, 'effortless': 1026, 'restock': 2570, 'disclaim': 933, 'vigil': 3377, 'accompani': 92, 'fake': 1177, 'unexpect': 3311, 'emin': 1045, 'stone': 2981, 'crop': 758, 'ver': 3367, 'grow': 1439, 'utla': 3353, 'determin': 894, 'maxim': 1899, 'spillag': 2926, 'fifti': 1219, 'thouroughli': 3163, 'ideal': 1583, 'soapi': 2862, 'aferr': 127, 'boom': 401, 'michigan': 1935, 'fastest': 1191, 'overdo': 2183, 'overexfol': 2184, 'author': 271, 'complecrion': 666, 'butt': 483, 'haha': 1454, 'thumb': 3176, 'ms': 2021, 'sensiti': 2722, 'god': 1393, 'spank': 2907, 'redden': 2501, 'ps': 2416, 'complex': 669, 'allantoin': 165, 'microfili': 1944, 'defen': 830, 'jacki': 1680, 'aina': 155, 'lught': 1853, 'absorpt': 84, 'affair': 128, 'bye': 490, 'overhyp': 2188, 'beautifi': 327, 'sucker': 3029, 'thinner': 3153, 'hack': 1452, 'reset': 2561, 'rip': 2601, 'overnight': 2190, 'throughli': 3170, 'hesitanf': 1510, 'hybrid': 1565, 'journey': 1690, 'foamier': 1267, 'enzymat': 1068, 'dye': 1002, 'cult': 767, 'looov': 1833, 'sooooo': 2892, 'smoooth': 2848, 'dermalogicagiftedm': 871, 'deforest': 844, 'nowaday': 2111, 'sandi': 2656, 'definatli': 836, 'dermalogicalgiftedm': 872, 'sank': 2658, 'crystal': 765, 'looooov': 1831, '10x': 5, 'arrang': 244, 'classifi': 597, 'parti': 2222, 'unpredict': 3325, 'avid': 277, 'slip': 2829, 'crusti': 764, 'holifog': 1532, 'tzone': 3281, 'sunscreen': 3048, 'strict': 2999, 'hue': 1554, 'prioriti': 2384, 'dermaolgica': 873, 'sought': 2900, 'tat': 3107, 'lastli': 1742, 'micropoli': 1950, 'dermatalogica': 876, 'loveliest': 1845, 'logica': 1819, 'microphon': 1949, 'dress': 981, 'gene': 1348, 'doe': 956, 'deadskin': 806, 'dermatol': 877, 'gica': 1362, 'sling': 2828, 'wild': 3462, 'structur': 3006, 'solidifi': 2874, 'extent': 1150, 'lifesav': 1782, 'vaniti': 3359, 'tendenc': 3128, '1x': 17, 'wowwww': 3503, 'owhhhh': 2198, 'exc': 1113, 'rightli': 2597, 'offici': 2134, 'hehe': 1502, 'sec': 2701, 'diff': 913, '29': 28, 'wonderul': 3484, 'sustain': 3074, 'reu': 2582, 'slash': 2819, 'sand': 2655, '50sec': 58, 'cuz': 781, 'charlott': 559, 'tilburi': 3185, 'smoke': 2846, 'oven': 2181, 'bundl': 475, '37': 37, 'februari': 1202, 'rebought': 2481, 'gain': 1338, 'strawberri': 2993, 'visual': 3386, 'scaley': 2668, 'low': 1847, 'behold': 342, 'mario': 1884, 'badescu': 296, 'huh': 1556, 'zinc': 3537, 'pill': 2290, 'smidg': 2844, 'whiten': 3454, 'empha': 1046, 'thai': 3140, 'speechless': 2918, '13': 9, '14': 10, 'alll': 171, 'maskn': 1891, 'stream': 2995, 'phase': 2275, 'accept': 87, 'bday': 320, 'clarifi': 592, 'silli': 2787, 'dealt': 808, 'tweez': 3274, 'laser': 1740, 'insecur': 1643, 'cousin': 739, 'ship': 2757, 'qualifi': 2431, 'substanti': 3024, 'lanc': 1735, 'madr': 1866, '44': 49, 'costli': 727, 'barbi': 307, 'daunt': 799, 'comic': 654, 'steam': 2965, 'anastasia': 200, 'diamond': 907, 'exact': 1108, 'ounc': 2169, 'woah': 3478, 'mid': 1952, 'ugli': 3284, 'titl': 3196, 'cardboard': 516, 'derm': 866, 'allevi': 170, 'dollar': 959, 'harshli': 1476, 'giftcard': 1365, 'moister': 1998, 'exfoil': 1125, 'growth': 1441, 'card': 515, 'nod': 2088, 'benzoyl': 347, 'peroxid': 2264, 'site': 2801, 'spent': 2922, 'sandpap': 2657, 'isol': 1671, 'teeth': 3119, 'bett': 350, 'somon': 2883, 'consciou': 692, 'artist': 248, 'aka': 159, 'bullet': 469, '15yr': 12, 'waxi': 3418, 'frankli': 1306, 'subscript': 3021, 'rel': 2524, 'shampoo': 2740, 'burni': 477, 'mirror': 1984, 'hive': 1526, 'insist': 1646, 'waaaaaaay': 3394, 'oomph': 2152, 'stabl': 2951, 'nonexist': 2092, 'nevertheless': 2070, 'sebac': 2698, 'filament': 1222, 'surviv': 3072, '025': 0, 'riski': 2603, 'testament': 3134, 'ab': 76, 'shoutout': 2768, 'labeautyologist': 1727, 'max': 1898, 'accel': 86, 'exuvi': 1156, 'amaaaz': 191, 'philosophi': 2277, 'puriti': 2425, 'exfolik': 1132, 'corner': 719, 'consumm': 701, 'relationship': 2525, 'soooooooo': 2894, 'weirdest': 3431, 'rai': 2452, 'mocha': 1994, 'shade': 2735, 'pau': 2235, 'foot': 1281, 'loud': 1842, 'whomp': 3456, 'exfolli': 1133, 'dang': 791, 'amaaaaaaz': 190, '5x': 67, 'lef': 1761, 'stench': 2968, 'chalki': 548, 'salesperson': 2646, 'cosmetologist': 725, 'forhead': 1289, 'begon': 339, 'fond': 1277, 'glove': 1384, 'hadnt': 1453, 'hey': 1511, 'advisor': 124, 'respon': 2567, 'clearli': 609, 'backstori': 291, 'ky': 1725, 'incept': 1606, 'rebel': 2480, 'wisdom': 3471, 'peach': 2241, 'thqi': 3165, 'symptom': 3085, 'grittier': 1435, 'classmat': 598, 'lisenc': 1801, 'estetichian': 1081, 'suppli': 3060, 'topic': 3218, 'spritz': 2941, 'largest': 1739, '18mo': 15, 'decemb': 813, 'riddl': 2593, 'plug': 2315, 'sone': 2885, 'ingress': 1635, 'bin': 362, 'magnifi': 1869, 'ly': 1862, 'lamp': 1734, 'duper': 999, 'prai': 2355, 'holyyyy': 1533, '2018': 21, 'tour': 3225, 'beyond': 354, 'wan': 3401, 'nonabra': 2090, 'guarant': 1442, 'junki': 1699, 'shinier': 2756, 'saaaaad': 2636, 'stomach': 2980, 'inner': 1640, 'bacon': 293, 'tumer': 3269, 'mb': 1903, 'grapefruit': 1419, 'collagen': 638, 'buttermilk': 486, 'irrat': 1667, 'femal': 1211, 'stranger': 2989, 'goodbi': 1400, 'youtoub': 3528, 'explod': 1144, 'minimalist': 1972, 'regard': 2513, 'perci': 2254, 'heathi': 1493, 'burt': 480, 'bee': 334, 'debat': 809, 'neutrogena': 2068, 'staff': 2952, 'agin': 145, 'skinbar': 2810, 'exfuli': 1134, 'reccoment': 2485, 'pound': 2346, 'peru': 2270, 'wide': 3459, 'aproach': 236, 'ne': 2050, 'suuuuuch': 3076, 'intent': 1655, 'truth': 3262, 'saint': 2644, 'pircha': 2296, 'steal': 2964, 'background': 290, 'seborrh': 2699, 'dermat': 875, 'brandt': 429, '200': 19, 'shi': 2752, 'compound': 679, '3am': 38, 'witch': 3474, 'trap': 3238, 'muchthat': 2023, 'estetician': 1082, 'bugger': 464, 'ultim': 3288, 'bounc': 416, '47': 51, 'merl': 1923, 'norman': 2097, 'chine': 576, 'hp': 1551, 'ole': 2147, 'vera': 3368, 'microbead': 1938, 'paper': 2213, 'kill': 1709, 'ezcema': 1160, 'glade': 1373, 'seep': 2709, 'everybodi': 1097, 'clearanc': 606, 'text': 3137, 'aa': 75, 'brown': 450, 'splotchi': 2930, 'ringer': 2600, 'tie': 3179, 'hitter': 1525, 'smatter': 2840, 'sooooooo': 2893, 'knowledg': 1722, '2017': 20, 'novemb': 2109, 'mountain': 2017, 'deffenitli': 832, 'ehi': 1030, 'thru': 3174, 'ruptur': 2633, 'capillari': 512, 'shockingli': 2761, 'quicki': 2442, 'darn': 795, 'heartbroken': 1491, 'mother': 2014, 'repr': 2556, 'nation': 2046, 'august': 269, 'fragil': 1304, 'mia': 1932, 'tap': 3101, 'carla': 518, 'promo': 2400, 'road': 2606, 'outrag': 2176, 'mainten': 1874, 'antibiot': 210, 'undergo': 3301, 'accutan': 94, 'zit': 3538, 'biught': 370, 'abit': 79, 'yesterday': 3520, 'darker': 794, 'toom': 3214, 'nikka': 2085, 'incom': 1609, 'semi': 2715, 'nikkia': 2086, 'skinfood': 2812, 'egg': 1028, 'sentiv': 2724, 'squeak': 2942, 'microdaili': 1940, 'differin': 917, 'sweati': 3081, 'yard': 3513, 'facewash': 1164, 'grind': 1432, 'flinch': 1256, 'defoli': 843, 'skill': 2806, 'wound': 3501, 'smallest': 2838, 'blockag': 385, 'hoe': 1527, 'allergen': 168, 'usibgv': 3349, 'clarson': 596, 'fondat': 1278, 'estiti': 1086, 'fourth': 1301, '2min': 29, 'deserv': 885, 'laud': 1746, 'yeaaaar': 3516, 'abt': 85, 'clen': 610, 'newli': 2074, 'explor': 1145, 'resolv': 2566, 'nother': 2104, 'creatur': 752, 'rethink': 2577, 'unnecessari': 3322, 'hide': 1513, 'rosacia': 2614, 'ted': 3115, 'discuss': 940, 'earn': 1006, 'scrublet': 2691, 'detail': 892, 'assist': 254, 'aveeno': 275, 'remot': 2542, 'bs': 454, 'deffiantli': 833, 'underarm': 3300, 'deotor': 860, '62': 69, 'caustic': 529, 'liven': 1810, 'fri': 1316, '35': 36, 'michael': 1934, 'todd': 3200, 'wi': 3457, 'esti': 1085, 'tiffani': 3180, 'rafael': 2450, 'ca': 492, 'locat': 1816, 'ooooh': 2154, 'lord': 1835, 'skll': 2817, 'bear': 322, 'examin': 1111, 'oral': 2161, 'astetician': 259, 'supersensit': 3056, 'porridg': 2334, 'botheredi': 412, 'plung': 2319, 'waay': 3395, 'worthi': 3497, 'unnot': 3323}\n"
     ]
    }
   ],
   "source": [
    "print(cv.vocabulary_)"
   ]
  },
  {
   "cell_type": "code",
   "execution_count": 27,
   "metadata": {},
   "outputs": [],
   "source": [
    "X=x.toarray()"
   ]
  },
  {
   "cell_type": "code",
   "execution_count": 28,
   "metadata": {},
   "outputs": [],
   "source": [
    "x_train,x_test,y_train,y_test=train_test_split(x,y,test_size=0.30,random_state=42)"
   ]
  },
  {
   "cell_type": "code",
   "execution_count": 30,
   "metadata": {},
   "outputs": [],
   "source": [
    "\n",
    "sm=SMOTE(random_state=42,sampling_strategy = 1.0)\n",
    "x_train_sm,y_train_sm=sm.fit_resample(x_train,y_train)"
   ]
  },
  {
   "cell_type": "code",
   "execution_count": 31,
   "metadata": {},
   "outputs": [
    {
     "data": {
      "text/plain": [
       "{0: 2465, 1: 2465}"
      ]
     },
     "execution_count": 31,
     "metadata": {},
     "output_type": "execute_result"
    }
   ],
   "source": [
    "unique,count = np.unique(y_train_sm,return_counts=True)\n",
    "y_train_smote_value_count = {k:v for (k,v) in zip(unique,count)}\n",
    "y_train_smote_value_count"
   ]
  },
  {
   "cell_type": "code",
   "execution_count": null,
   "metadata": {},
   "outputs": [],
   "source": [
    "def evaluate_model(true,predicted):\n",
    "    mae = mean_absolute_error(true,predicted)\n",
    "    mse = mean_squared_error(true,predicted)\n",
    "    rmse = np.sqrt(mean_squred_error(true,predicted))\n",
    "    r2_square= r2_score(true,predicted)\n",
    "    return mae,rmse,r2_square"
   ]
  },
  {
   "cell_type": "code",
   "execution_count": 32,
   "metadata": {},
   "outputs": [
    {
     "name": "stdout",
     "output_type": "stream",
     "text": [
      "StandardScaler(with_mean=False)\n"
     ]
    },
    {
     "data": {
      "text/html": [
       "<style>#sk-container-id-1 {color: black;background-color: white;}#sk-container-id-1 pre{padding: 0;}#sk-container-id-1 div.sk-toggleable {background-color: white;}#sk-container-id-1 label.sk-toggleable__label {cursor: pointer;display: block;width: 100%;margin-bottom: 0;padding: 0.3em;box-sizing: border-box;text-align: center;}#sk-container-id-1 label.sk-toggleable__label-arrow:before {content: \"▸\";float: left;margin-right: 0.25em;color: #696969;}#sk-container-id-1 label.sk-toggleable__label-arrow:hover:before {color: black;}#sk-container-id-1 div.sk-estimator:hover label.sk-toggleable__label-arrow:before {color: black;}#sk-container-id-1 div.sk-toggleable__content {max-height: 0;max-width: 0;overflow: hidden;text-align: left;background-color: #f0f8ff;}#sk-container-id-1 div.sk-toggleable__content pre {margin: 0.2em;color: black;border-radius: 0.25em;background-color: #f0f8ff;}#sk-container-id-1 input.sk-toggleable__control:checked~div.sk-toggleable__content {max-height: 200px;max-width: 100%;overflow: auto;}#sk-container-id-1 input.sk-toggleable__control:checked~label.sk-toggleable__label-arrow:before {content: \"▾\";}#sk-container-id-1 div.sk-estimator input.sk-toggleable__control:checked~label.sk-toggleable__label {background-color: #d4ebff;}#sk-container-id-1 div.sk-label input.sk-toggleable__control:checked~label.sk-toggleable__label {background-color: #d4ebff;}#sk-container-id-1 input.sk-hidden--visually {border: 0;clip: rect(1px 1px 1px 1px);clip: rect(1px, 1px, 1px, 1px);height: 1px;margin: -1px;overflow: hidden;padding: 0;position: absolute;width: 1px;}#sk-container-id-1 div.sk-estimator {font-family: monospace;background-color: #f0f8ff;border: 1px dotted black;border-radius: 0.25em;box-sizing: border-box;margin-bottom: 0.5em;}#sk-container-id-1 div.sk-estimator:hover {background-color: #d4ebff;}#sk-container-id-1 div.sk-parallel-item::after {content: \"\";width: 100%;border-bottom: 1px solid gray;flex-grow: 1;}#sk-container-id-1 div.sk-label:hover label.sk-toggleable__label {background-color: #d4ebff;}#sk-container-id-1 div.sk-serial::before {content: \"\";position: absolute;border-left: 1px solid gray;box-sizing: border-box;top: 0;bottom: 0;left: 50%;z-index: 0;}#sk-container-id-1 div.sk-serial {display: flex;flex-direction: column;align-items: center;background-color: white;padding-right: 0.2em;padding-left: 0.2em;position: relative;}#sk-container-id-1 div.sk-item {position: relative;z-index: 1;}#sk-container-id-1 div.sk-parallel {display: flex;align-items: stretch;justify-content: center;background-color: white;position: relative;}#sk-container-id-1 div.sk-item::before, #sk-container-id-1 div.sk-parallel-item::before {content: \"\";position: absolute;border-left: 1px solid gray;box-sizing: border-box;top: 0;bottom: 0;left: 50%;z-index: -1;}#sk-container-id-1 div.sk-parallel-item {display: flex;flex-direction: column;z-index: 1;position: relative;background-color: white;}#sk-container-id-1 div.sk-parallel-item:first-child::after {align-self: flex-end;width: 50%;}#sk-container-id-1 div.sk-parallel-item:last-child::after {align-self: flex-start;width: 50%;}#sk-container-id-1 div.sk-parallel-item:only-child::after {width: 0;}#sk-container-id-1 div.sk-dashed-wrapped {border: 1px dashed gray;margin: 0 0.4em 0.5em 0.4em;box-sizing: border-box;padding-bottom: 0.4em;background-color: white;}#sk-container-id-1 div.sk-label label {font-family: monospace;font-weight: bold;display: inline-block;line-height: 1.2em;}#sk-container-id-1 div.sk-label-container {text-align: center;}#sk-container-id-1 div.sk-container {/* jupyter's `normalize.less` sets `[hidden] { display: none; }` but bootstrap.min.css set `[hidden] { display: none !important; }` so we also need the `!important` here to be able to override the default hidden behavior on the sphinx rendered scikit-learn.org. See: https://github.com/scikit-learn/scikit-learn/issues/21755 */display: inline-block !important;position: relative;}#sk-container-id-1 div.sk-text-repr-fallback {display: none;}</style><div id=\"sk-container-id-1\" class=\"sk-top-container\"><div class=\"sk-text-repr-fallback\"><pre>KNeighborsClassifier(n_neighbors=1)</pre><b>In a Jupyter environment, please rerun this cell to show the HTML representation or trust the notebook. <br />On GitHub, the HTML representation is unable to render, please try loading this page with nbviewer.org.</b></div><div class=\"sk-container\" hidden><div class=\"sk-item\"><div class=\"sk-estimator sk-toggleable\"><input class=\"sk-toggleable__control sk-hidden--visually\" id=\"sk-estimator-id-1\" type=\"checkbox\" checked><label for=\"sk-estimator-id-1\" class=\"sk-toggleable__label sk-toggleable__label-arrow\">KNeighborsClassifier</label><div class=\"sk-toggleable__content\"><pre>KNeighborsClassifier(n_neighbors=1)</pre></div></div></div></div></div>"
      ],
      "text/plain": [
       "KNeighborsClassifier(n_neighbors=1)"
      ]
     },
     "execution_count": 32,
     "metadata": {},
     "output_type": "execute_result"
    }
   ],
   "source": [
    "from sklearn.preprocessing import StandardScaler\n",
    "from sklearn.neighbors import KNeighborsClassifier  \n",
    "sc = StandardScaler(with_mean=False)\n",
    "x_train_sc = sc.fit(x_train_sm)\n",
    "print(x_train_sc)\n",
    "x_train = x_train_sc.transform(x_train_sm)\n",
    "x_test = x_train_sc.transform(x_test)\n",
    "classifier= KNeighborsClassifier(n_neighbors=1)  \n",
    "classifier.fit(x_train_sm, y_train_sm)  "
   ]
  },
  {
   "cell_type": "code",
   "execution_count": 33,
   "metadata": {},
   "outputs": [],
   "source": [
    "y_pred= classifier.predict(x_test)"
   ]
  },
  {
   "cell_type": "code",
   "execution_count": 34,
   "metadata": {},
   "outputs": [],
   "source": [
    "from sklearn.metrics import confusion_matrix  \n",
    "cm= confusion_matrix(y_test, y_pred)  "
   ]
  },
  {
   "cell_type": "code",
   "execution_count": 35,
   "metadata": {},
   "outputs": [],
   "source": [
    "error_rate = []\n",
    "for i in range(1,40):\n",
    "  knn = KNeighborsClassifier(n_neighbors=i)\n",
    "  knn.fit(x_train_sm,y_train_sm)\n",
    "  pred_i = knn.predict(x_test)\n",
    "  error_rate.append(np.mean(pred_i!=y_test))  "
   ]
  },
  {
   "cell_type": "code",
   "execution_count": 36,
   "metadata": {},
   "outputs": [
    {
     "data": {
      "text/plain": [
       "Text(0.5, 1.0, 'error rate vs  k ')"
      ]
     },
     "execution_count": 36,
     "metadata": {},
     "output_type": "execute_result"
    },
    {
     "data": {
      "image/png": "[encoded data removed]",
      "text/plain": [
       "<Figure size 1000x600 with 1 Axes>"
      ]
     },
     "metadata": {},
     "output_type": "display_data"
    }
   ],
   "source": [
    "plt.figure(figsize=(10,6))\n",
    "plt.plot(range(1,40),error_rate,marker = 'o', markerfacecolor = 'red',color='blue',linestyle = 'dashed')\n",
    "plt.title(\"error rate vs  k \")"
   ]
  },
  {
   "cell_type": "code",
   "execution_count": 37,
   "metadata": {},
   "outputs": [
    {
     "name": "stdout",
     "output_type": "stream",
     "text": [
      "the accuracy in KNN Classifier is  0.8626506024096385\n",
      "              precision    recall  f1-score   support\n",
      "\n",
      "           0       0.52      0.45      0.48       177\n",
      "           1       0.91      0.93      0.92      1068\n",
      "\n",
      "    accuracy                           0.86      1245\n",
      "   macro avg       0.72      0.69      0.70      1245\n",
      "weighted avg       0.86      0.86      0.86      1245\n",
      "\n"
     ]
    }
   ],
   "source": [
    "classifier= KNeighborsClassifier(n_neighbors=21)  \n",
    "classifier.fit(x_train_sm, y_train_sm)  \n",
    "y_pred= classifier.predict(x_test)\n",
    "accuracy=accuracy_score(y_test,y_pred)\n",
    "print(\"the accuracy in KNN Classifier is \", accuracy )\n",
    "cr=classification_report(y_test,y_pred)\n",
    "print(cr)"
   ]
  },
  {
   "cell_type": "code",
   "execution_count": 38,
   "metadata": {},
   "outputs": [
    {
     "data": {
      "text/html": [
       "<style>#sk-container-id-2 {color: black;background-color: white;}#sk-container-id-2 pre{padding: 0;}#sk-container-id-2 div.sk-toggleable {background-color: white;}#sk-container-id-2 label.sk-toggleable__label {cursor: pointer;display: block;width: 100%;margin-bottom: 0;padding: 0.3em;box-sizing: border-box;text-align: center;}#sk-container-id-2 label.sk-toggleable__label-arrow:before {content: \"▸\";float: left;margin-right: 0.25em;color: #696969;}#sk-container-id-2 label.sk-toggleable__label-arrow:hover:before {color: black;}#sk-container-id-2 div.sk-estimator:hover label.sk-toggleable__label-arrow:before {color: black;}#sk-container-id-2 div.sk-toggleable__content {max-height: 0;max-width: 0;overflow: hidden;text-align: left;background-color: #f0f8ff;}#sk-container-id-2 div.sk-toggleable__content pre {margin: 0.2em;color: black;border-radius: 0.25em;background-color: #f0f8ff;}#sk-container-id-2 input.sk-toggleable__control:checked~div.sk-toggleable__content {max-height: 200px;max-width: 100%;overflow: auto;}#sk-container-id-2 input.sk-toggleable__control:checked~label.sk-toggleable__label-arrow:before {content: \"▾\";}#sk-container-id-2 div.sk-estimator input.sk-toggleable__control:checked~label.sk-toggleable__label {background-color: #d4ebff;}#sk-container-id-2 div.sk-label input.sk-toggleable__control:checked~label.sk-toggleable__label {background-color: #d4ebff;}#sk-container-id-2 input.sk-hidden--visually {border: 0;clip: rect(1px 1px 1px 1px);clip: rect(1px, 1px, 1px, 1px);height: 1px;margin: -1px;overflow: hidden;padding: 0;position: absolute;width: 1px;}#sk-container-id-2 div.sk-estimator {font-family: monospace;background-color: #f0f8ff;border: 1px dotted black;border-radius: 0.25em;box-sizing: border-box;margin-bottom: 0.5em;}#sk-container-id-2 div.sk-estimator:hover {background-color: #d4ebff;}#sk-container-id-2 div.sk-parallel-item::after {content: \"\";width: 100%;border-bottom: 1px solid gray;flex-grow: 1;}#sk-container-id-2 div.sk-label:hover label.sk-toggleable__label {background-color: #d4ebff;}#sk-container-id-2 div.sk-serial::before {content: \"\";position: absolute;border-left: 1px solid gray;box-sizing: border-box;top: 0;bottom: 0;left: 50%;z-index: 0;}#sk-container-id-2 div.sk-serial {display: flex;flex-direction: column;align-items: center;background-color: white;padding-right: 0.2em;padding-left: 0.2em;position: relative;}#sk-container-id-2 div.sk-item {position: relative;z-index: 1;}#sk-container-id-2 div.sk-parallel {display: flex;align-items: stretch;justify-content: center;background-color: white;position: relative;}#sk-container-id-2 div.sk-item::before, #sk-container-id-2 div.sk-parallel-item::before {content: \"\";position: absolute;border-left: 1px solid gray;box-sizing: border-box;top: 0;bottom: 0;left: 50%;z-index: -1;}#sk-container-id-2 div.sk-parallel-item {display: flex;flex-direction: column;z-index: 1;position: relative;background-color: white;}#sk-container-id-2 div.sk-parallel-item:first-child::after {align-self: flex-end;width: 50%;}#sk-container-id-2 div.sk-parallel-item:last-child::after {align-self: flex-start;width: 50%;}#sk-container-id-2 div.sk-parallel-item:only-child::after {width: 0;}#sk-container-id-2 div.sk-dashed-wrapped {border: 1px dashed gray;margin: 0 0.4em 0.5em 0.4em;box-sizing: border-box;padding-bottom: 0.4em;background-color: white;}#sk-container-id-2 div.sk-label label {font-family: monospace;font-weight: bold;display: inline-block;line-height: 1.2em;}#sk-container-id-2 div.sk-label-container {text-align: center;}#sk-container-id-2 div.sk-container {/* jupyter's `normalize.less` sets `[hidden] { display: none; }` but bootstrap.min.css set `[hidden] { display: none !important; }` so we also need the `!important` here to be able to override the default hidden behavior on the sphinx rendered scikit-learn.org. See: https://github.com/scikit-learn/scikit-learn/issues/21755 */display: inline-block !important;position: relative;}#sk-container-id-2 div.sk-text-repr-fallback {display: none;}</style><div id=\"sk-container-id-2\" class=\"sk-top-container\"><div class=\"sk-text-repr-fallback\"><pre>DecisionTreeClassifier()</pre><b>In a Jupyter environment, please rerun this cell to show the HTML representation or trust the notebook. <br />On GitHub, the HTML representation is unable to render, please try loading this page with nbviewer.org.</b></div><div class=\"sk-container\" hidden><div class=\"sk-item\"><div class=\"sk-estimator sk-toggleable\"><input class=\"sk-toggleable__control sk-hidden--visually\" id=\"sk-estimator-id-2\" type=\"checkbox\" checked><label for=\"sk-estimator-id-2\" class=\"sk-toggleable__label sk-toggleable__label-arrow\">DecisionTreeClassifier</label><div class=\"sk-toggleable__content\"><pre>DecisionTreeClassifier()</pre></div></div></div></div></div>"
      ],
      "text/plain": [
       "DecisionTreeClassifier()"
      ]
     },
     "execution_count": 38,
     "metadata": {},
     "output_type": "execute_result"
    }
   ],
   "source": [
    "from sklearn.tree import DecisionTreeClassifier\n",
    "dtree = DecisionTreeClassifier()\n",
    "dtree.fit(x_train_sm,y_train_sm)"
   ]
  },
  {
   "cell_type": "code",
   "execution_count": 39,
   "metadata": {},
   "outputs": [],
   "source": [
    "pred = dtree.predict(x_test)"
   ]
  },
  {
   "cell_type": "code",
   "execution_count": 40,
   "metadata": {},
   "outputs": [
    {
     "name": "stdout",
     "output_type": "stream",
     "text": [
      "accuracy of decision tree classifier is  0.9036144578313253\n",
      "              precision    recall  f1-score   support\n",
      "\n",
      "           0       0.65      0.70      0.67       177\n",
      "           1       0.95      0.94      0.94      1068\n",
      "\n",
      "    accuracy                           0.90      1245\n",
      "   macro avg       0.80      0.82      0.81      1245\n",
      "weighted avg       0.91      0.90      0.91      1245\n",
      "\n"
     ]
    }
   ],
   "source": [
    "accuracy=accuracy_score(y_test,pred)\n",
    "print(\"accuracy of decision tree classifier is \",accuracy)\n",
    "print(classification_report(y_test,pred))"
   ]
  },
  {
   "cell_type": "code",
   "execution_count": 41,
   "metadata": {},
   "outputs": [
    {
     "data": {
      "text/html": [
       "<style>#sk-container-id-3 {color: black;background-color: white;}#sk-container-id-3 pre{padding: 0;}#sk-container-id-3 div.sk-toggleable {background-color: white;}#sk-container-id-3 label.sk-toggleable__label {cursor: pointer;display: block;width: 100%;margin-bottom: 0;padding: 0.3em;box-sizing: border-box;text-align: center;}#sk-container-id-3 label.sk-toggleable__label-arrow:before {content: \"▸\";float: left;margin-right: 0.25em;color: #696969;}#sk-container-id-3 label.sk-toggleable__label-arrow:hover:before {color: black;}#sk-container-id-3 div.sk-estimator:hover label.sk-toggleable__label-arrow:before {color: black;}#sk-container-id-3 div.sk-toggleable__content {max-height: 0;max-width: 0;overflow: hidden;text-align: left;background-color: #f0f8ff;}#sk-container-id-3 div.sk-toggleable__content pre {margin: 0.2em;color: black;border-radius: 0.25em;background-color: #f0f8ff;}#sk-container-id-3 input.sk-toggleable__control:checked~div.sk-toggleable__content {max-height: 200px;max-width: 100%;overflow: auto;}#sk-container-id-3 input.sk-toggleable__control:checked~label.sk-toggleable__label-arrow:before {content: \"▾\";}#sk-container-id-3 div.sk-estimator input.sk-toggleable__control:checked~label.sk-toggleable__label {background-color: #d4ebff;}#sk-container-id-3 div.sk-label input.sk-toggleable__control:checked~label.sk-toggleable__label {background-color: #d4ebff;}#sk-container-id-3 input.sk-hidden--visually {border: 0;clip: rect(1px 1px 1px 1px);clip: rect(1px, 1px, 1px, 1px);height: 1px;margin: -1px;overflow: hidden;padding: 0;position: absolute;width: 1px;}#sk-container-id-3 div.sk-estimator {font-family: monospace;background-color: #f0f8ff;border: 1px dotted black;border-radius: 0.25em;box-sizing: border-box;margin-bottom: 0.5em;}#sk-container-id-3 div.sk-estimator:hover {background-color: #d4ebff;}#sk-container-id-3 div.sk-parallel-item::after {content: \"\";width: 100%;border-bottom: 1px solid gray;flex-grow: 1;}#sk-container-id-3 div.sk-label:hover label.sk-toggleable__label {background-color: #d4ebff;}#sk-container-id-3 div.sk-serial::before {content: \"\";position: absolute;border-left: 1px solid gray;box-sizing: border-box;top: 0;bottom: 0;left: 50%;z-index: 0;}#sk-container-id-3 div.sk-serial {display: flex;flex-direction: column;align-items: center;background-color: white;padding-right: 0.2em;padding-left: 0.2em;position: relative;}#sk-container-id-3 div.sk-item {position: relative;z-index: 1;}#sk-container-id-3 div.sk-parallel {display: flex;align-items: stretch;justify-content: center;background-color: white;position: relative;}#sk-container-id-3 div.sk-item::before, #sk-container-id-3 div.sk-parallel-item::before {content: \"\";position: absolute;border-left: 1px solid gray;box-sizing: border-box;top: 0;bottom: 0;left: 50%;z-index: -1;}#sk-container-id-3 div.sk-parallel-item {display: flex;flex-direction: column;z-index: 1;position: relative;background-color: white;}#sk-container-id-3 div.sk-parallel-item:first-child::after {align-self: flex-end;width: 50%;}#sk-container-id-3 div.sk-parallel-item:last-child::after {align-self: flex-start;width: 50%;}#sk-container-id-3 div.sk-parallel-item:only-child::after {width: 0;}#sk-container-id-3 div.sk-dashed-wrapped {border: 1px dashed gray;margin: 0 0.4em 0.5em 0.4em;box-sizing: border-box;padding-bottom: 0.4em;background-color: white;}#sk-container-id-3 div.sk-label label {font-family: monospace;font-weight: bold;display: inline-block;line-height: 1.2em;}#sk-container-id-3 div.sk-label-container {text-align: center;}#sk-container-id-3 div.sk-container {/* jupyter's `normalize.less` sets `[hidden] { display: none; }` but bootstrap.min.css set `[hidden] { display: none !important; }` so we also need the `!important` here to be able to override the default hidden behavior on the sphinx rendered scikit-learn.org. See: https://github.com/scikit-learn/scikit-learn/issues/21755 */display: inline-block !important;position: relative;}#sk-container-id-3 div.sk-text-repr-fallback {display: none;}</style><div id=\"sk-container-id-3\" class=\"sk-top-container\"><div class=\"sk-text-repr-fallback\"><pre>RandomForestClassifier()</pre><b>In a Jupyter environment, please rerun this cell to show the HTML representation or trust the notebook. <br />On GitHub, the HTML representation is unable to render, please try loading this page with nbviewer.org.</b></div><div class=\"sk-container\" hidden><div class=\"sk-item\"><div class=\"sk-estimator sk-toggleable\"><input class=\"sk-toggleable__control sk-hidden--visually\" id=\"sk-estimator-id-3\" type=\"checkbox\" checked><label for=\"sk-estimator-id-3\" class=\"sk-toggleable__label sk-toggleable__label-arrow\">RandomForestClassifier</label><div class=\"sk-toggleable__content\"><pre>RandomForestClassifier()</pre></div></div></div></div></div>"
      ],
      "text/plain": [
       "RandomForestClassifier()"
      ]
     },
     "execution_count": 41,
     "metadata": {},
     "output_type": "execute_result"
    }
   ],
   "source": [
    "from sklearn.ensemble import RandomForestClassifier\n",
    "rfc = RandomForestClassifier(n_estimators=100)\n",
    "rfc.fit(x_train_sm,y_train_sm)"
   ]
  },
  {
   "cell_type": "code",
   "execution_count": 42,
   "metadata": {},
   "outputs": [],
   "source": [
    "rfc_pred = rfc.predict(x_test)"
   ]
  },
  {
   "cell_type": "code",
   "execution_count": 43,
   "metadata": {},
   "outputs": [
    {
     "name": "stdout",
     "output_type": "stream",
     "text": [
      "accuracy in random forest classifier is  0.9228915662650602\n",
      "              precision    recall  f1-score   support\n",
      "\n",
      "           0       0.81      0.59      0.69       177\n",
      "           1       0.94      0.98      0.96      1068\n",
      "\n",
      "    accuracy                           0.92      1245\n",
      "   macro avg       0.87      0.79      0.82      1245\n",
      "weighted avg       0.92      0.92      0.92      1245\n",
      "\n"
     ]
    }
   ],
   "source": [
    "accuracy=accuracy_score(y_test,rfc_pred)\n",
    "print(\"accuracy in random forest classifier is \",accuracy )\n",
    "print(classification_report(y_test,rfc_pred))"
   ]
  },
  {
   "cell_type": "code",
   "execution_count": 44,
   "metadata": {},
   "outputs": [
    {
     "name": "stdout",
     "output_type": "stream",
     "text": [
      "[[ 105   72]\n",
      " [  24 1044]]\n"
     ]
    }
   ],
   "source": [
    "print(confusion_matrix(y_test,rfc_pred))"
   ]
  },
  {
   "cell_type": "code",
   "execution_count": null,
   "metadata": {},
   "outputs": [],
   "source": []
  }
 ],
 "metadata": {
  "kernelspec": {
   "display_name": "base",
   "language": "python",
   "name": "python3"
  },
  "language_info": {
   "codemirror_mode": {
    "name": "ipython",
    "version": 3
   },
   "file_extension": ".py",
   "mimetype": "text/x-python",
   "name": "python",
   "nbconvert_exporter": "python",
   "pygments_lexer": "ipython3",
   "version": "3.10.9"
  },
  "orig_nbformat": 4
 },
 "nbformat": 4,
 "nbformat_minor": 2
}
