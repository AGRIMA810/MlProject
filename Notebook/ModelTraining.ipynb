{
 "cells": [
  {
   "cell_type": "code",
   "execution_count": 1,
   "metadata": {},
   "outputs": [
    {
     "ename": "ImportError",
     "evalue": "cannot import name '_MissingValues' from 'sklearn.utils._param_validation' (c:\\Users\\achoudhary\\AppData\\Local\\anaconda3\\lib\\site-packages\\sklearn\\utils\\_param_validation.py)",
     "output_type": "error",
     "traceback": [
      "\u001b[1;31m---------------------------------------------------------------------------\u001b[0m",
      "\u001b[1;31mImportError\u001b[0m                               Traceback (most recent call last)",
      "Cell \u001b[1;32mIn[1], line 1\u001b[0m\n\u001b[1;32m----> 1\u001b[0m \u001b[39mfrom\u001b[39;00m \u001b[39mimblearn\u001b[39;00m\u001b[39m.\u001b[39;00m\u001b[39mover_sampling\u001b[39;00m \u001b[39mimport\u001b[39;00m SMOTE\n\u001b[0;32m      2\u001b[0m \u001b[39mfrom\u001b[39;00m \u001b[39msklearn\u001b[39;00m\u001b[39m.\u001b[39;00m\u001b[39mmetrics\u001b[39;00m \u001b[39mimport\u001b[39;00m accuracy_score\n\u001b[0;32m      3\u001b[0m \u001b[39mfrom\u001b[39;00m \u001b[39msklearn\u001b[39;00m\u001b[39m.\u001b[39;00m\u001b[39mmetrics\u001b[39;00m \u001b[39mimport\u001b[39;00m confusion_matrix\n",
      "File \u001b[1;32mc:\\Users\\achoudhary\\AppData\\Local\\anaconda3\\lib\\site-packages\\imblearn\\__init__.py:52\u001b[0m\n\u001b[0;32m     48\u001b[0m     sys\u001b[39m.\u001b[39mstderr\u001b[39m.\u001b[39mwrite(\u001b[39m\"\u001b[39m\u001b[39mPartial import of imblearn during the build process.\u001b[39m\u001b[39m\\n\u001b[39;00m\u001b[39m\"\u001b[39m)\n\u001b[0;32m     49\u001b[0m     \u001b[39m# We are not importing the rest of scikit-learn during the build\u001b[39;00m\n\u001b[0;32m     50\u001b[0m     \u001b[39m# process, as it may not be compiled yet\u001b[39;00m\n\u001b[0;32m     51\u001b[0m \u001b[39melse\u001b[39;00m:\n\u001b[1;32m---> 52\u001b[0m     \u001b[39mfrom\u001b[39;00m \u001b[39m.\u001b[39;00m \u001b[39mimport\u001b[39;00m (\n\u001b[0;32m     53\u001b[0m         combine,\n\u001b[0;32m     54\u001b[0m         ensemble,\n\u001b[0;32m     55\u001b[0m         exceptions,\n\u001b[0;32m     56\u001b[0m         metrics,\n\u001b[0;32m     57\u001b[0m         over_sampling,\n\u001b[0;32m     58\u001b[0m         pipeline,\n\u001b[0;32m     59\u001b[0m         tensorflow,\n\u001b[0;32m     60\u001b[0m         under_sampling,\n\u001b[0;32m     61\u001b[0m         utils,\n\u001b[0;32m     62\u001b[0m     )\n\u001b[0;32m     63\u001b[0m     \u001b[39mfrom\u001b[39;00m \u001b[39m.\u001b[39;00m\u001b[39m_version\u001b[39;00m \u001b[39mimport\u001b[39;00m __version__\n\u001b[0;32m     64\u001b[0m     \u001b[39mfrom\u001b[39;00m \u001b[39m.\u001b[39;00m\u001b[39mbase\u001b[39;00m \u001b[39mimport\u001b[39;00m FunctionSampler\n",
      "File \u001b[1;32mc:\\Users\\achoudhary\\AppData\\Local\\anaconda3\\lib\\site-packages\\imblearn\\combine\\__init__.py:5\u001b[0m\n\u001b[0;32m      1\u001b[0m \u001b[39m\"\"\"The :mod:`imblearn.combine` provides methods which combine\u001b[39;00m\n\u001b[0;32m      2\u001b[0m \u001b[39mover-sampling and under-sampling.\u001b[39;00m\n\u001b[0;32m      3\u001b[0m \u001b[39m\"\"\"\u001b[39;00m\n\u001b[1;32m----> 5\u001b[0m \u001b[39mfrom\u001b[39;00m \u001b[39m.\u001b[39;00m\u001b[39m_smote_enn\u001b[39;00m \u001b[39mimport\u001b[39;00m SMOTEENN\n\u001b[0;32m      6\u001b[0m \u001b[39mfrom\u001b[39;00m \u001b[39m.\u001b[39;00m\u001b[39m_smote_tomek\u001b[39;00m \u001b[39mimport\u001b[39;00m SMOTETomek\n\u001b[0;32m      8\u001b[0m __all__ \u001b[39m=\u001b[39m [\u001b[39m\"\u001b[39m\u001b[39mSMOTEENN\u001b[39m\u001b[39m\"\u001b[39m, \u001b[39m\"\u001b[39m\u001b[39mSMOTETomek\u001b[39m\u001b[39m\"\u001b[39m]\n",
      "File \u001b[1;32mc:\\Users\\achoudhary\\AppData\\Local\\anaconda3\\lib\\site-packages\\imblearn\\combine\\_smote_enn.py:12\u001b[0m\n\u001b[0;32m      9\u001b[0m \u001b[39mfrom\u001b[39;00m \u001b[39msklearn\u001b[39;00m\u001b[39m.\u001b[39;00m\u001b[39mbase\u001b[39;00m \u001b[39mimport\u001b[39;00m clone\n\u001b[0;32m     10\u001b[0m \u001b[39mfrom\u001b[39;00m \u001b[39msklearn\u001b[39;00m\u001b[39m.\u001b[39;00m\u001b[39mutils\u001b[39;00m \u001b[39mimport\u001b[39;00m check_X_y\n\u001b[1;32m---> 12\u001b[0m \u001b[39mfrom\u001b[39;00m \u001b[39m.\u001b[39;00m\u001b[39m.\u001b[39;00m\u001b[39mbase\u001b[39;00m \u001b[39mimport\u001b[39;00m BaseSampler\n\u001b[0;32m     13\u001b[0m \u001b[39mfrom\u001b[39;00m \u001b[39m.\u001b[39;00m\u001b[39m.\u001b[39;00m\u001b[39mover_sampling\u001b[39;00m \u001b[39mimport\u001b[39;00m SMOTE\n\u001b[0;32m     14\u001b[0m \u001b[39mfrom\u001b[39;00m \u001b[39m.\u001b[39;00m\u001b[39m.\u001b[39;00m\u001b[39mover_sampling\u001b[39;00m\u001b[39m.\u001b[39;00m\u001b[39mbase\u001b[39;00m \u001b[39mimport\u001b[39;00m BaseOverSampler\n",
      "File \u001b[1;32mc:\\Users\\achoudhary\\AppData\\Local\\anaconda3\\lib\\site-packages\\imblearn\\base.py:21\u001b[0m\n\u001b[0;32m     18\u001b[0m \u001b[39mfrom\u001b[39;00m \u001b[39msklearn\u001b[39;00m\u001b[39m.\u001b[39;00m\u001b[39mutils\u001b[39;00m\u001b[39m.\u001b[39;00m\u001b[39mmulticlass\u001b[39;00m \u001b[39mimport\u001b[39;00m check_classification_targets\n\u001b[0;32m     20\u001b[0m \u001b[39mfrom\u001b[39;00m \u001b[39m.\u001b[39;00m\u001b[39mutils\u001b[39;00m \u001b[39mimport\u001b[39;00m check_sampling_strategy, check_target_type\n\u001b[1;32m---> 21\u001b[0m \u001b[39mfrom\u001b[39;00m \u001b[39m.\u001b[39;00m\u001b[39mutils\u001b[39;00m\u001b[39m.\u001b[39;00m\u001b[39m_param_validation\u001b[39;00m \u001b[39mimport\u001b[39;00m validate_parameter_constraints\n\u001b[0;32m     22\u001b[0m \u001b[39mfrom\u001b[39;00m \u001b[39m.\u001b[39;00m\u001b[39mutils\u001b[39;00m\u001b[39m.\u001b[39;00m\u001b[39m_validation\u001b[39;00m \u001b[39mimport\u001b[39;00m ArraysTransformer\n\u001b[0;32m     25\u001b[0m \u001b[39mclass\u001b[39;00m \u001b[39mSamplerMixin\u001b[39;00m(BaseEstimator, metaclass\u001b[39m=\u001b[39mABCMeta):\n",
      "File \u001b[1;32mc:\\Users\\achoudhary\\AppData\\Local\\anaconda3\\lib\\site-packages\\imblearn\\utils\\_param_validation.py:908\u001b[0m\n\u001b[0;32m    906\u001b[0m \u001b[39mfrom\u001b[39;00m \u001b[39msklearn\u001b[39;00m\u001b[39m.\u001b[39;00m\u001b[39mutils\u001b[39;00m\u001b[39m.\u001b[39;00m\u001b[39m_param_validation\u001b[39;00m \u001b[39mimport\u001b[39;00m generate_valid_param  \u001b[39m# noqa\u001b[39;00m\n\u001b[0;32m    907\u001b[0m \u001b[39mfrom\u001b[39;00m \u001b[39msklearn\u001b[39;00m\u001b[39m.\u001b[39;00m\u001b[39mutils\u001b[39;00m\u001b[39m.\u001b[39;00m\u001b[39m_param_validation\u001b[39;00m \u001b[39mimport\u001b[39;00m validate_parameter_constraints  \u001b[39m# noqa\u001b[39;00m\n\u001b[1;32m--> 908\u001b[0m \u001b[39mfrom\u001b[39;00m \u001b[39msklearn\u001b[39;00m\u001b[39m.\u001b[39;00m\u001b[39mutils\u001b[39;00m\u001b[39m.\u001b[39;00m\u001b[39m_param_validation\u001b[39;00m \u001b[39mimport\u001b[39;00m (\n\u001b[0;32m    909\u001b[0m     HasMethods,\n\u001b[0;32m    910\u001b[0m     Hidden,\n\u001b[0;32m    911\u001b[0m     Interval,\n\u001b[0;32m    912\u001b[0m     Options,\n\u001b[0;32m    913\u001b[0m     StrOptions,\n\u001b[0;32m    914\u001b[0m     _ArrayLikes,\n\u001b[0;32m    915\u001b[0m     _Booleans,\n\u001b[0;32m    916\u001b[0m     _Callables,\n\u001b[0;32m    917\u001b[0m     _CVObjects,\n\u001b[0;32m    918\u001b[0m     _InstancesOf,\n\u001b[0;32m    919\u001b[0m     _IterablesNotString,\n\u001b[0;32m    920\u001b[0m     _MissingValues,\n\u001b[0;32m    921\u001b[0m     _NoneConstraint,\n\u001b[0;32m    922\u001b[0m     _PandasNAConstraint,\n\u001b[0;32m    923\u001b[0m     _RandomStates,\n\u001b[0;32m    924\u001b[0m     _SparseMatrices,\n\u001b[0;32m    925\u001b[0m     _VerboseHelper,\n\u001b[0;32m    926\u001b[0m     make_constraint,\n\u001b[0;32m    927\u001b[0m     validate_params,\n\u001b[0;32m    928\u001b[0m )\n",
      "\u001b[1;31mImportError\u001b[0m: cannot import name '_MissingValues' from 'sklearn.utils._param_validation' (c:\\Users\\achoudhary\\AppData\\Local\\anaconda3\\lib\\site-packages\\sklearn\\utils\\_param_validation.py)"
     ]
    }
   ],
   "source": [
    "\n",
    "from imblearn.over_sampling import SMOTE\n",
    "from sklearn.metrics import accuracy_score\n",
    "from sklearn.metrics import confusion_matrix\n",
    "from sklearn.neighbors import KNeighborsClassifier  \n",
    "from sklearn.tree import DecisionTreeClassifier\n",
    "from sklearn.ensemble import RandomForestClassifier\n",
    "from sklearn.naive_bayes import MultinomialNB\n",
    "from sklearn.metrics import mean_squared_error\n",
    "from sklearn.metrics import  r2_score\n",
    "from sklearn.model_selection import train_test_split\n",
    "from sklearn.feature_extraction.text import CountVectorizer\n",
    "from sklearn.feature_extraction.text import TfidfVectorizer\n",
    "from sklearn.metrics import classification_report\n"
   ]
  },
  {
   "cell_type": "code",
   "execution_count": 3,
   "metadata": {},
   "outputs": [],
   "source": [
    "import pandas as pd \n",
    "import numpy as np \n",
    "import matplotlib.pyplot as plt \n",
    "%matplotlib inline \n",
    "import warnings\n",
    "warnings.filterwarnings('ignore')"
   ]
  },
  {
   "attachments": {},
   "cell_type": "markdown",
   "metadata": {},
   "source": [
    "Import the csv file using pandas dataframe"
   ]
  },
  {
   "cell_type": "code",
   "execution_count": 4,
   "metadata": {},
   "outputs": [],
   "source": [
    "df = pd.read_csv('Data(EDA_done).csv')"
   ]
  },
  {
   "cell_type": "code",
   "execution_count": 5,
   "metadata": {},
   "outputs": [
    {
     "data": {
      "text/html": [
       "<div>\n",
       "<style scoped>\n",
       "    .dataframe tbody tr th:only-of-type {\n",
       "        vertical-align: middle;\n",
       "    }\n",
       "\n",
       "    .dataframe tbody tr th {\n",
       "        vertical-align: top;\n",
       "    }\n",
       "\n",
       "    .dataframe thead th {\n",
       "        text-align: right;\n",
       "    }\n",
       "</style>\n",
       "<table border=\"1\" class=\"dataframe\">\n",
       "  <thead>\n",
       "    <tr style=\"text-align: right;\">\n",
       "      <th></th>\n",
       "      <th>Review_Title</th>\n",
       "      <th>Review_Text</th>\n",
       "      <th>Review_Location</th>\n",
       "      <th>Product</th>\n",
       "      <th>Length</th>\n",
       "      <th>Word_count</th>\n",
       "      <th>mean_word_length</th>\n",
       "      <th>score</th>\n",
       "      <th>sentiment</th>\n",
       "    </tr>\n",
       "  </thead>\n",
       "  <tbody>\n",
       "    <tr>\n",
       "      <th>0</th>\n",
       "      <td>Perfect</td>\n",
       "      <td>['love', 'use', 'face', 'shower', 'heat', 'giv...</td>\n",
       "      <td>Undisclosed</td>\n",
       "      <td>Multi-Vitamin Thermafoliant</td>\n",
       "      <td>87</td>\n",
       "      <td>18</td>\n",
       "      <td>3.888889</td>\n",
       "      <td>0.7906</td>\n",
       "      <td>1</td>\n",
       "    </tr>\n",
       "    <tr>\n",
       "      <th>1</th>\n",
       "      <td>You need this</td>\n",
       "      <td>['even', 'better', 'daili', 'microfoli', 'obse...</td>\n",
       "      <td>Undisclosed</td>\n",
       "      <td>Multi-Vitamin Thermafoliant</td>\n",
       "      <td>82</td>\n",
       "      <td>14</td>\n",
       "      <td>4.928571</td>\n",
       "      <td>0.2263</td>\n",
       "      <td>1</td>\n",
       "    </tr>\n",
       "    <tr>\n",
       "      <th>2</th>\n",
       "      <td>Clean skin</td>\n",
       "      <td>['enjoy', 'product', 'much', 'look', 'forward'...</td>\n",
       "      <td>Undisclosed</td>\n",
       "      <td>Multi-Vitamin Thermafoliant</td>\n",
       "      <td>77</td>\n",
       "      <td>16</td>\n",
       "      <td>3.875000</td>\n",
       "      <td>0.8074</td>\n",
       "      <td>1</td>\n",
       "    </tr>\n",
       "    <tr>\n",
       "      <th>3</th>\n",
       "      <td>Love This Stuff!</td>\n",
       "      <td>['never', 'tri', 'anyth', 'like', 'love', 'app...</td>\n",
       "      <td>Undisclosed</td>\n",
       "      <td>Multi-Vitamin Thermafoliant</td>\n",
       "      <td>234</td>\n",
       "      <td>45</td>\n",
       "      <td>4.222222</td>\n",
       "      <td>0.7839</td>\n",
       "      <td>1</td>\n",
       "    </tr>\n",
       "    <tr>\n",
       "      <th>4</th>\n",
       "      <td>This exfoliates very nicely and</td>\n",
       "      <td>['exfoli', 'nice', 'give', 'smooth', 'skin', '...</td>\n",
       "      <td>Undisclosed</td>\n",
       "      <td>Multi-Vitamin Thermafoliant</td>\n",
       "      <td>157</td>\n",
       "      <td>30</td>\n",
       "      <td>4.266667</td>\n",
       "      <td>0.6486</td>\n",
       "      <td>1</td>\n",
       "    </tr>\n",
       "  </tbody>\n",
       "</table>\n",
       "</div>"
      ],
      "text/plain": [
       "                      Review_Title  \\\n",
       "0                          Perfect   \n",
       "1                    You need this   \n",
       "2                       Clean skin   \n",
       "3                 Love This Stuff!   \n",
       "4  This exfoliates very nicely and   \n",
       "\n",
       "                                         Review_Text Review_Location  \\\n",
       "0  ['love', 'use', 'face', 'shower', 'heat', 'giv...     Undisclosed   \n",
       "1  ['even', 'better', 'daili', 'microfoli', 'obse...     Undisclosed   \n",
       "2  ['enjoy', 'product', 'much', 'look', 'forward'...     Undisclosed   \n",
       "3  ['never', 'tri', 'anyth', 'like', 'love', 'app...     Undisclosed   \n",
       "4  ['exfoli', 'nice', 'give', 'smooth', 'skin', '...     Undisclosed   \n",
       "\n",
       "                       Product  Length  Word_count  mean_word_length   score  \\\n",
       "0  Multi-Vitamin Thermafoliant      87          18          3.888889  0.7906   \n",
       "1  Multi-Vitamin Thermafoliant      82          14          4.928571  0.2263   \n",
       "2  Multi-Vitamin Thermafoliant      77          16          3.875000  0.8074   \n",
       "3  Multi-Vitamin Thermafoliant     234          45          4.222222  0.7839   \n",
       "4  Multi-Vitamin Thermafoliant     157          30          4.266667  0.6486   \n",
       "\n",
       "   sentiment  \n",
       "0          1  \n",
       "1          1  \n",
       "2          1  \n",
       "3          1  \n",
       "4          1  "
      ]
     },
     "execution_count": 5,
     "metadata": {},
     "output_type": "execute_result"
    }
   ],
   "source": [
    "df.head()"
   ]
  },
  {
   "cell_type": "code",
   "execution_count": 6,
   "metadata": {},
   "outputs": [
    {
     "data": {
      "text/html": [
       "<div>\n",
       "<style scoped>\n",
       "    .dataframe tbody tr th:only-of-type {\n",
       "        vertical-align: middle;\n",
       "    }\n",
       "\n",
       "    .dataframe tbody tr th {\n",
       "        vertical-align: top;\n",
       "    }\n",
       "\n",
       "    .dataframe thead th {\n",
       "        text-align: right;\n",
       "    }\n",
       "</style>\n",
       "<table border=\"1\" class=\"dataframe\">\n",
       "  <thead>\n",
       "    <tr style=\"text-align: right;\">\n",
       "      <th></th>\n",
       "      <th>Review_Title</th>\n",
       "      <th>Review_Text</th>\n",
       "      <th>Length</th>\n",
       "      <th>Word_count</th>\n",
       "      <th>mean_word_length</th>\n",
       "      <th>score</th>\n",
       "      <th>sentiment</th>\n",
       "    </tr>\n",
       "  </thead>\n",
       "  <tbody>\n",
       "    <tr>\n",
       "      <th>0</th>\n",
       "      <td>Perfect</td>\n",
       "      <td>['love', 'use', 'face', 'shower', 'heat', 'giv...</td>\n",
       "      <td>87</td>\n",
       "      <td>18</td>\n",
       "      <td>3.888889</td>\n",
       "      <td>0.7906</td>\n",
       "      <td>1</td>\n",
       "    </tr>\n",
       "    <tr>\n",
       "      <th>1</th>\n",
       "      <td>You need this</td>\n",
       "      <td>['even', 'better', 'daili', 'microfoli', 'obse...</td>\n",
       "      <td>82</td>\n",
       "      <td>14</td>\n",
       "      <td>4.928571</td>\n",
       "      <td>0.2263</td>\n",
       "      <td>1</td>\n",
       "    </tr>\n",
       "    <tr>\n",
       "      <th>2</th>\n",
       "      <td>Clean skin</td>\n",
       "      <td>['enjoy', 'product', 'much', 'look', 'forward'...</td>\n",
       "      <td>77</td>\n",
       "      <td>16</td>\n",
       "      <td>3.875000</td>\n",
       "      <td>0.8074</td>\n",
       "      <td>1</td>\n",
       "    </tr>\n",
       "    <tr>\n",
       "      <th>3</th>\n",
       "      <td>Love This Stuff!</td>\n",
       "      <td>['never', 'tri', 'anyth', 'like', 'love', 'app...</td>\n",
       "      <td>234</td>\n",
       "      <td>45</td>\n",
       "      <td>4.222222</td>\n",
       "      <td>0.7839</td>\n",
       "      <td>1</td>\n",
       "    </tr>\n",
       "    <tr>\n",
       "      <th>4</th>\n",
       "      <td>This exfoliates very nicely and</td>\n",
       "      <td>['exfoli', 'nice', 'give', 'smooth', 'skin', '...</td>\n",
       "      <td>157</td>\n",
       "      <td>30</td>\n",
       "      <td>4.266667</td>\n",
       "      <td>0.6486</td>\n",
       "      <td>1</td>\n",
       "    </tr>\n",
       "    <tr>\n",
       "      <th>...</th>\n",
       "      <td>...</td>\n",
       "      <td>...</td>\n",
       "      <td>...</td>\n",
       "      <td>...</td>\n",
       "      <td>...</td>\n",
       "      <td>...</td>\n",
       "      <td>...</td>\n",
       "    </tr>\n",
       "    <tr>\n",
       "      <th>4142</th>\n",
       "      <td>I would buy this product again</td>\n",
       "      <td>['much', 'better', 'product', 'scrub']</td>\n",
       "      <td>33</td>\n",
       "      <td>6</td>\n",
       "      <td>4.666667</td>\n",
       "      <td>0.4404</td>\n",
       "      <td>1</td>\n",
       "    </tr>\n",
       "    <tr>\n",
       "      <th>4143</th>\n",
       "      <td>Gentle exfoliant- leaves skin smooth &amp; soft</td>\n",
       "      <td>['use', 'exfoli', 'month', 'depend', 'condit',...</td>\n",
       "      <td>711</td>\n",
       "      <td>130</td>\n",
       "      <td>4.476923</td>\n",
       "      <td>-0.2523</td>\n",
       "      <td>0</td>\n",
       "    </tr>\n",
       "    <tr>\n",
       "      <th>4144</th>\n",
       "      <td>One of my favorite skincare products of all time.</td>\n",
       "      <td>['skin', 'look', 'better', '10', 'year', 'ago']</td>\n",
       "      <td>43</td>\n",
       "      <td>9</td>\n",
       "      <td>3.888889</td>\n",
       "      <td>0.4404</td>\n",
       "      <td>1</td>\n",
       "    </tr>\n",
       "    <tr>\n",
       "      <th>4145</th>\n",
       "      <td>Ehhh...</td>\n",
       "      <td>['product', 'useless', 'known', 'exfoli', 'use...</td>\n",
       "      <td>287</td>\n",
       "      <td>57</td>\n",
       "      <td>4.052632</td>\n",
       "      <td>0.1027</td>\n",
       "      <td>1</td>\n",
       "    </tr>\n",
       "    <tr>\n",
       "      <th>4146</th>\n",
       "      <td>This is the best!!!</td>\n",
       "      <td>['product', 'amaz', 'thing', 'help', 'dri', 'p...</td>\n",
       "      <td>163</td>\n",
       "      <td>32</td>\n",
       "      <td>4.125000</td>\n",
       "      <td>0.6597</td>\n",
       "      <td>1</td>\n",
       "    </tr>\n",
       "  </tbody>\n",
       "</table>\n",
       "<p>4147 rows × 7 columns</p>\n",
       "</div>"
      ],
      "text/plain": [
       "                                           Review_Title  \\\n",
       "0                                               Perfect   \n",
       "1                                         You need this   \n",
       "2                                            Clean skin   \n",
       "3                                      Love This Stuff!   \n",
       "4                       This exfoliates very nicely and   \n",
       "...                                                 ...   \n",
       "4142                     I would buy this product again   \n",
       "4143        Gentle exfoliant- leaves skin smooth & soft   \n",
       "4144  One of my favorite skincare products of all time.   \n",
       "4145                                            Ehhh...   \n",
       "4146                                This is the best!!!   \n",
       "\n",
       "                                            Review_Text  Length  Word_count  \\\n",
       "0     ['love', 'use', 'face', 'shower', 'heat', 'giv...      87          18   \n",
       "1     ['even', 'better', 'daili', 'microfoli', 'obse...      82          14   \n",
       "2     ['enjoy', 'product', 'much', 'look', 'forward'...      77          16   \n",
       "3     ['never', 'tri', 'anyth', 'like', 'love', 'app...     234          45   \n",
       "4     ['exfoli', 'nice', 'give', 'smooth', 'skin', '...     157          30   \n",
       "...                                                 ...     ...         ...   \n",
       "4142             ['much', 'better', 'product', 'scrub']      33           6   \n",
       "4143  ['use', 'exfoli', 'month', 'depend', 'condit',...     711         130   \n",
       "4144    ['skin', 'look', 'better', '10', 'year', 'ago']      43           9   \n",
       "4145  ['product', 'useless', 'known', 'exfoli', 'use...     287          57   \n",
       "4146  ['product', 'amaz', 'thing', 'help', 'dri', 'p...     163          32   \n",
       "\n",
       "      mean_word_length   score  sentiment  \n",
       "0             3.888889  0.7906          1  \n",
       "1             4.928571  0.2263          1  \n",
       "2             3.875000  0.8074          1  \n",
       "3             4.222222  0.7839          1  \n",
       "4             4.266667  0.6486          1  \n",
       "...                ...     ...        ...  \n",
       "4142          4.666667  0.4404          1  \n",
       "4143          4.476923 -0.2523          0  \n",
       "4144          3.888889  0.4404          1  \n",
       "4145          4.052632  0.1027          1  \n",
       "4146          4.125000  0.6597          1  \n",
       "\n",
       "[4147 rows x 7 columns]"
      ]
     },
     "execution_count": 6,
     "metadata": {},
     "output_type": "execute_result"
    }
   ],
   "source": [
    "df.drop(['Review_Location','Product'], axis=1)"
   ]
  },
  {
   "cell_type": "code",
   "execution_count": 7,
   "metadata": {},
   "outputs": [
    {
     "name": "stdout",
     "output_type": "stream",
     "text": [
      "Requirement already satisfied: scikit-learn in c:\\users\\achoudhary\\appdata\\local\\anaconda3\\lib\\site-packages (1.3.0)\n",
      "Requirement already satisfied: scipy>=1.5.0 in c:\\users\\achoudhary\\appdata\\local\\anaconda3\\lib\\site-packages (from scikit-learn) (1.10.0)\n",
      "Requirement already satisfied: numpy>=1.17.3 in c:\\users\\achoudhary\\appdata\\local\\anaconda3\\lib\\site-packages (from scikit-learn) (1.23.5)\n",
      "Requirement already satisfied: joblib>=1.1.1 in c:\\users\\achoudhary\\appdata\\local\\anaconda3\\lib\\site-packages (from scikit-learn) (1.1.1)\n",
      "Requirement already satisfied: threadpoolctl>=2.0.0 in c:\\users\\achoudhary\\appdata\\local\\anaconda3\\lib\\site-packages (from scikit-learn) (2.2.0)\n",
      "Note: you may need to restart the kernel to use updated packages.\n"
     ]
    }
   ],
   "source": [
    "pip install -U scikit-learn --user "
   ]
  },
  {
   "cell_type": "code",
   "execution_count": 9,
   "metadata": {},
   "outputs": [
    {
     "ename": "TypeError",
     "evalue": "'method' object is not iterable",
     "output_type": "error",
     "traceback": [
      "\u001b[1;31m---------------------------------------------------------------------------\u001b[0m",
      "\u001b[1;31mTypeError\u001b[0m                                 Traceback (most recent call last)",
      "Cell \u001b[1;32mIn[9], line 3\u001b[0m\n\u001b[0;32m      1\u001b[0m vectorizer \u001b[39m=\u001b[39m TfidfVectorizer()\n\u001b[0;32m      2\u001b[0m X \u001b[39m=\u001b[39m vectorizer\u001b[39m.\u001b[39mfit_transform(df[\u001b[39m'\u001b[39m\u001b[39mReview_Text\u001b[39m\u001b[39m'\u001b[39m])\n\u001b[1;32m----> 3\u001b[0m TfidfVectorized_data \u001b[39m=\u001b[39m pd\u001b[39m.\u001b[39;49mDataFrame(data \u001b[39m=\u001b[39;49m X\u001b[39m.\u001b[39;49mtoarray(),columns\u001b[39m=\u001b[39;49m vectorizer\u001b[39m.\u001b[39;49mget_feature_names_out)\n",
      "File \u001b[1;32mc:\\Users\\achoudhary\\AppData\\Local\\anaconda3\\lib\\site-packages\\pandas\\core\\frame.py:722\u001b[0m, in \u001b[0;36mDataFrame.__init__\u001b[1;34m(self, data, index, columns, dtype, copy)\u001b[0m\n\u001b[0;32m    712\u001b[0m         mgr \u001b[39m=\u001b[39m dict_to_mgr(\n\u001b[0;32m    713\u001b[0m             \u001b[39m# error: Item \"ndarray\" of \"Union[ndarray, Series, Index]\" has no\u001b[39;00m\n\u001b[0;32m    714\u001b[0m             \u001b[39m# attribute \"name\"\u001b[39;00m\n\u001b[1;32m   (...)\u001b[0m\n\u001b[0;32m    719\u001b[0m             typ\u001b[39m=\u001b[39mmanager,\n\u001b[0;32m    720\u001b[0m         )\n\u001b[0;32m    721\u001b[0m     \u001b[39melse\u001b[39;00m:\n\u001b[1;32m--> 722\u001b[0m         mgr \u001b[39m=\u001b[39m ndarray_to_mgr(\n\u001b[0;32m    723\u001b[0m             data,\n\u001b[0;32m    724\u001b[0m             index,\n\u001b[0;32m    725\u001b[0m             columns,\n\u001b[0;32m    726\u001b[0m             dtype\u001b[39m=\u001b[39;49mdtype,\n\u001b[0;32m    727\u001b[0m             copy\u001b[39m=\u001b[39;49mcopy,\n\u001b[0;32m    728\u001b[0m             typ\u001b[39m=\u001b[39;49mmanager,\n\u001b[0;32m    729\u001b[0m         )\n\u001b[0;32m    731\u001b[0m \u001b[39m# For data is list-like, or Iterable (will consume into list)\u001b[39;00m\n\u001b[0;32m    732\u001b[0m \u001b[39melif\u001b[39;00m is_list_like(data):\n",
      "File \u001b[1;32mc:\\Users\\achoudhary\\AppData\\Local\\anaconda3\\lib\\site-packages\\pandas\\core\\internals\\construction.py:345\u001b[0m, in \u001b[0;36mndarray_to_mgr\u001b[1;34m(values, index, columns, dtype, copy, typ)\u001b[0m\n\u001b[0;32m    335\u001b[0m     values \u001b[39m=\u001b[39m sanitize_array(\n\u001b[0;32m    336\u001b[0m         values,\n\u001b[0;32m    337\u001b[0m         \u001b[39mNone\u001b[39;00m,\n\u001b[1;32m   (...)\u001b[0m\n\u001b[0;32m    341\u001b[0m         allow_2d\u001b[39m=\u001b[39m\u001b[39mTrue\u001b[39;00m,\n\u001b[0;32m    342\u001b[0m     )\n\u001b[0;32m    344\u001b[0m \u001b[39m# _prep_ndarraylike ensures that values.ndim == 2 at this point\u001b[39;00m\n\u001b[1;32m--> 345\u001b[0m index, columns \u001b[39m=\u001b[39m _get_axes(\n\u001b[0;32m    346\u001b[0m     values\u001b[39m.\u001b[39;49mshape[\u001b[39m0\u001b[39;49m], values\u001b[39m.\u001b[39;49mshape[\u001b[39m1\u001b[39;49m], index\u001b[39m=\u001b[39;49mindex, columns\u001b[39m=\u001b[39;49mcolumns\n\u001b[0;32m    347\u001b[0m )\n\u001b[0;32m    349\u001b[0m _check_values_indices_shape_match(values, index, columns)\n\u001b[0;32m    351\u001b[0m \u001b[39mif\u001b[39;00m typ \u001b[39m==\u001b[39m \u001b[39m\"\u001b[39m\u001b[39marray\u001b[39m\u001b[39m\"\u001b[39m:\n",
      "File \u001b[1;32mc:\\Users\\achoudhary\\AppData\\Local\\anaconda3\\lib\\site-packages\\pandas\\core\\internals\\construction.py:753\u001b[0m, in \u001b[0;36m_get_axes\u001b[1;34m(N, K, index, columns)\u001b[0m\n\u001b[0;32m    751\u001b[0m     columns \u001b[39m=\u001b[39m default_index(K)\n\u001b[0;32m    752\u001b[0m \u001b[39melse\u001b[39;00m:\n\u001b[1;32m--> 753\u001b[0m     columns \u001b[39m=\u001b[39m ensure_index(columns)\n\u001b[0;32m    754\u001b[0m \u001b[39mreturn\u001b[39;00m index, columns\n",
      "File \u001b[1;32mc:\\Users\\achoudhary\\AppData\\Local\\anaconda3\\lib\\site-packages\\pandas\\core\\indexes\\base.py:7333\u001b[0m, in \u001b[0;36mensure_index\u001b[1;34m(index_like, copy)\u001b[0m\n\u001b[0;32m   7331\u001b[0m         \u001b[39mreturn\u001b[39;00m Index\u001b[39m.\u001b[39m_with_infer(index_like, copy\u001b[39m=\u001b[39mcopy, tupleize_cols\u001b[39m=\u001b[39m\u001b[39mFalse\u001b[39;00m)\n\u001b[0;32m   7332\u001b[0m \u001b[39melse\u001b[39;00m:\n\u001b[1;32m-> 7333\u001b[0m     \u001b[39mreturn\u001b[39;00m Index\u001b[39m.\u001b[39;49m_with_infer(index_like, copy\u001b[39m=\u001b[39;49mcopy)\n",
      "File \u001b[1;32mc:\\Users\\achoudhary\\AppData\\Local\\anaconda3\\lib\\site-packages\\pandas\\core\\indexes\\base.py:716\u001b[0m, in \u001b[0;36mIndex._with_infer\u001b[1;34m(cls, *args, **kwargs)\u001b[0m\n\u001b[0;32m    714\u001b[0m \u001b[39mwith\u001b[39;00m warnings\u001b[39m.\u001b[39mcatch_warnings():\n\u001b[0;32m    715\u001b[0m     warnings\u001b[39m.\u001b[39mfilterwarnings(\u001b[39m\"\u001b[39m\u001b[39mignore\u001b[39m\u001b[39m\"\u001b[39m, \u001b[39m\"\u001b[39m\u001b[39m.*the Index constructor\u001b[39m\u001b[39m\"\u001b[39m, \u001b[39mFutureWarning\u001b[39;00m)\n\u001b[1;32m--> 716\u001b[0m     result \u001b[39m=\u001b[39m \u001b[39mcls\u001b[39m(\u001b[39m*\u001b[39margs, \u001b[39m*\u001b[39m\u001b[39m*\u001b[39mkwargs)\n\u001b[0;32m    718\u001b[0m \u001b[39mif\u001b[39;00m result\u001b[39m.\u001b[39mdtype \u001b[39m==\u001b[39m _dtype_obj \u001b[39mand\u001b[39;00m \u001b[39mnot\u001b[39;00m result\u001b[39m.\u001b[39m_is_multi:\n\u001b[0;32m    719\u001b[0m     \u001b[39m# error: Argument 1 to \"maybe_convert_objects\" has incompatible type\u001b[39;00m\n\u001b[0;32m    720\u001b[0m     \u001b[39m# \"Union[ExtensionArray, ndarray[Any, Any]]\"; expected\u001b[39;00m\n\u001b[0;32m    721\u001b[0m     \u001b[39m# \"ndarray[Any, Any]\"\u001b[39;00m\n\u001b[0;32m    722\u001b[0m     values \u001b[39m=\u001b[39m lib\u001b[39m.\u001b[39mmaybe_convert_objects(result\u001b[39m.\u001b[39m_values)  \u001b[39m# type: ignore[arg-type]\u001b[39;00m\n",
      "File \u001b[1;32mc:\\Users\\achoudhary\\AppData\\Local\\anaconda3\\lib\\site-packages\\pandas\\core\\indexes\\base.py:565\u001b[0m, in \u001b[0;36mIndex.__new__\u001b[1;34m(cls, data, dtype, copy, name, tupleize_cols, **kwargs)\u001b[0m\n\u001b[0;32m    560\u001b[0m         \u001b[39mreturn\u001b[39;00m MultiIndex\u001b[39m.\u001b[39mfrom_tuples(\n\u001b[0;32m    561\u001b[0m             data, names\u001b[39m=\u001b[39mname \u001b[39mor\u001b[39;00m kwargs\u001b[39m.\u001b[39mget(\u001b[39m\"\u001b[39m\u001b[39mnames\u001b[39m\u001b[39m\"\u001b[39m)\n\u001b[0;32m    562\u001b[0m         )\n\u001b[0;32m    563\u001b[0m \u001b[39m# other iterable of some kind\u001b[39;00m\n\u001b[1;32m--> 565\u001b[0m subarr \u001b[39m=\u001b[39m com\u001b[39m.\u001b[39;49masarray_tuplesafe(data, dtype\u001b[39m=\u001b[39;49m_dtype_obj)\n\u001b[0;32m    566\u001b[0m \u001b[39mif\u001b[39;00m dtype \u001b[39mis\u001b[39;00m \u001b[39mNone\u001b[39;00m:\n\u001b[0;32m    567\u001b[0m     \u001b[39m# with e.g. a list [1, 2, 3] casting to numeric is _not_ deprecated\u001b[39;00m\n\u001b[0;32m    568\u001b[0m     subarr \u001b[39m=\u001b[39m _maybe_cast_data_without_dtype(\n\u001b[0;32m    569\u001b[0m         subarr, cast_numeric_deprecated\u001b[39m=\u001b[39m\u001b[39mFalse\u001b[39;00m\n\u001b[0;32m    570\u001b[0m     )\n",
      "File \u001b[1;32mc:\\Users\\achoudhary\\AppData\\Local\\anaconda3\\lib\\site-packages\\pandas\\core\\common.py:238\u001b[0m, in \u001b[0;36masarray_tuplesafe\u001b[1;34m(values, dtype)\u001b[0m\n\u001b[0;32m    235\u001b[0m \u001b[39mdef\u001b[39;00m \u001b[39masarray_tuplesafe\u001b[39m(values: Iterable, dtype: NpDtype \u001b[39m|\u001b[39m \u001b[39mNone\u001b[39;00m \u001b[39m=\u001b[39m \u001b[39mNone\u001b[39;00m) \u001b[39m-\u001b[39m\u001b[39m>\u001b[39m ArrayLike:\n\u001b[0;32m    237\u001b[0m     \u001b[39mif\u001b[39;00m \u001b[39mnot\u001b[39;00m (\u001b[39misinstance\u001b[39m(values, (\u001b[39mlist\u001b[39m, \u001b[39mtuple\u001b[39m)) \u001b[39mor\u001b[39;00m \u001b[39mhasattr\u001b[39m(values, \u001b[39m\"\u001b[39m\u001b[39m__array__\u001b[39m\u001b[39m\"\u001b[39m)):\n\u001b[1;32m--> 238\u001b[0m         values \u001b[39m=\u001b[39m \u001b[39mlist\u001b[39;49m(values)\n\u001b[0;32m    239\u001b[0m     \u001b[39melif\u001b[39;00m \u001b[39misinstance\u001b[39m(values, ABCIndex):\n\u001b[0;32m    240\u001b[0m         \u001b[39mreturn\u001b[39;00m values\u001b[39m.\u001b[39m_values\n",
      "\u001b[1;31mTypeError\u001b[0m: 'method' object is not iterable"
     ]
    }
   ],
   "source": [
    "vectorizer = TfidfVectorizer()\n",
    "X = vectorizer.fit_transform(df['Review_Text'])\n",
    "TfidfVectorized_data = pd.DataFrame(data = X.toarray(),columns= vectorizer.get_feature_names_out)\n",
    "# print(TfidfVectorized_data.shape)"
   ]
  },
  {
   "cell_type": "code",
   "execution_count": null,
   "metadata": {},
   "outputs": [],
   "source": []
  },
  {
   "attachments": {},
   "cell_type": "markdown",
   "metadata": {},
   "source": [
    "feature engineering - converting text data into numerical data. \n",
    "can be done using count vectorizer. "
   ]
  },
  {
   "cell_type": "code",
   "execution_count": 80,
   "metadata": {},
   "outputs": [],
   "source": [
    "cv=CountVectorizer()\n",
    "x = cv.fit_transform(df['Review_Text'].values.astype('U'))"
   ]
  },
  {
   "cell_type": "code",
   "execution_count": 83,
   "metadata": {},
   "outputs": [
    {
     "name": "stdout",
     "output_type": "stream",
     "text": [
      "  (0, 1855)\t1\n",
      "  (0, 3368)\t1\n",
      "  (0, 1172)\t1\n",
      "  (0, 2791)\t1\n",
      "  (0, 1503)\t1\n",
      "  (0, 1381)\t1\n",
      "  (0, 1796)\t1\n",
      "  (0, 2707)\t1\n",
      "  (0, 2089)\t1\n",
      "  (1, 1097)\t1\n",
      "  (1, 353)\t1\n",
      "  (1, 791)\t1\n",
      "  (1, 1959)\t1\n",
      "  (1, 2133)\t1\n",
      "  (1, 2829)\t1\n",
      "  (1, 2034)\t1\n",
      "  (1, 2872)\t1\n",
      "  (2, 3368)\t1\n",
      "  (2, 2034)\t1\n",
      "  (2, 1066)\t1\n",
      "  (2, 2412)\t1\n",
      "  (2, 1839)\t1\n",
      "  (2, 1308)\t1\n",
      "  (2, 2496)\t1\n",
      "  (2, 1214)\t1\n",
      "  :\t:\n",
      "  (4145, 1365)\t1\n",
      "  (4145, 254)\t1\n",
      "  (4145, 3183)\t1\n",
      "  (4145, 3524)\t1\n",
      "  (4145, 1355)\t1\n",
      "  (4145, 1330)\t1\n",
      "  (4145, 1735)\t1\n",
      "  (4145, 3370)\t1\n",
      "  (4145, 732)\t1\n",
      "  (4145, 3521)\t1\n",
      "  (4145, 3345)\t1\n",
      "  (4146, 2829)\t1\n",
      "  (4146, 2412)\t1\n",
      "  (4146, 2870)\t1\n",
      "  (4146, 988)\t1\n",
      "  (4146, 1771)\t1\n",
      "  (4146, 2885)\t1\n",
      "  (4146, 1516)\t1\n",
      "  (4146, 193)\t1\n",
      "  (4146, 3173)\t1\n",
      "  (4146, 184)\t1\n",
      "  (4146, 602)\t1\n",
      "  (4146, 2350)\t1\n",
      "  (4146, 569)\t1\n",
      "  (4146, 2249)\t1\n"
     ]
    }
   ],
   "source": [
    "print(x)"
   ]
  },
  {
   "cell_type": "code",
   "execution_count": 82,
   "metadata": {},
   "outputs": [
    {
     "ename": "TypeError",
     "evalue": "'method' object is not iterable",
     "output_type": "error",
     "traceback": [
      "\u001b[1;31m---------------------------------------------------------------------------\u001b[0m",
      "\u001b[1;31mTypeError\u001b[0m                                 Traceback (most recent call last)",
      "Cell \u001b[1;32mIn[82], line 2\u001b[0m\n\u001b[0;32m      1\u001b[0m vectorized_array \u001b[39m=\u001b[39m x\u001b[39m.\u001b[39mtoarray()\n\u001b[1;32m----> 2\u001b[0m df \u001b[39m=\u001b[39m pd\u001b[39m.\u001b[39;49mDataFrame(data\u001b[39m=\u001b[39;49m vectorized_array ,columns \u001b[39m=\u001b[39;49m cv\u001b[39m.\u001b[39;49mget_feature_names_out)\n\u001b[0;32m      3\u001b[0m \u001b[39mprint\u001b[39m(df)\n",
      "File \u001b[1;32mc:\\Users\\achoudhary\\AppData\\Local\\anaconda3\\lib\\site-packages\\pandas\\core\\frame.py:722\u001b[0m, in \u001b[0;36mDataFrame.__init__\u001b[1;34m(self, data, index, columns, dtype, copy)\u001b[0m\n\u001b[0;32m    712\u001b[0m         mgr \u001b[39m=\u001b[39m dict_to_mgr(\n\u001b[0;32m    713\u001b[0m             \u001b[39m# error: Item \"ndarray\" of \"Union[ndarray, Series, Index]\" has no\u001b[39;00m\n\u001b[0;32m    714\u001b[0m             \u001b[39m# attribute \"name\"\u001b[39;00m\n\u001b[1;32m   (...)\u001b[0m\n\u001b[0;32m    719\u001b[0m             typ\u001b[39m=\u001b[39mmanager,\n\u001b[0;32m    720\u001b[0m         )\n\u001b[0;32m    721\u001b[0m     \u001b[39melse\u001b[39;00m:\n\u001b[1;32m--> 722\u001b[0m         mgr \u001b[39m=\u001b[39m ndarray_to_mgr(\n\u001b[0;32m    723\u001b[0m             data,\n\u001b[0;32m    724\u001b[0m             index,\n\u001b[0;32m    725\u001b[0m             columns,\n\u001b[0;32m    726\u001b[0m             dtype\u001b[39m=\u001b[39;49mdtype,\n\u001b[0;32m    727\u001b[0m             copy\u001b[39m=\u001b[39;49mcopy,\n\u001b[0;32m    728\u001b[0m             typ\u001b[39m=\u001b[39;49mmanager,\n\u001b[0;32m    729\u001b[0m         )\n\u001b[0;32m    731\u001b[0m \u001b[39m# For data is list-like, or Iterable (will consume into list)\u001b[39;00m\n\u001b[0;32m    732\u001b[0m \u001b[39melif\u001b[39;00m is_list_like(data):\n",
      "File \u001b[1;32mc:\\Users\\achoudhary\\AppData\\Local\\anaconda3\\lib\\site-packages\\pandas\\core\\internals\\construction.py:345\u001b[0m, in \u001b[0;36mndarray_to_mgr\u001b[1;34m(values, index, columns, dtype, copy, typ)\u001b[0m\n\u001b[0;32m    335\u001b[0m     values \u001b[39m=\u001b[39m sanitize_array(\n\u001b[0;32m    336\u001b[0m         values,\n\u001b[0;32m    337\u001b[0m         \u001b[39mNone\u001b[39;00m,\n\u001b[1;32m   (...)\u001b[0m\n\u001b[0;32m    341\u001b[0m         allow_2d\u001b[39m=\u001b[39m\u001b[39mTrue\u001b[39;00m,\n\u001b[0;32m    342\u001b[0m     )\n\u001b[0;32m    344\u001b[0m \u001b[39m# _prep_ndarraylike ensures that values.ndim == 2 at this point\u001b[39;00m\n\u001b[1;32m--> 345\u001b[0m index, columns \u001b[39m=\u001b[39m _get_axes(\n\u001b[0;32m    346\u001b[0m     values\u001b[39m.\u001b[39;49mshape[\u001b[39m0\u001b[39;49m], values\u001b[39m.\u001b[39;49mshape[\u001b[39m1\u001b[39;49m], index\u001b[39m=\u001b[39;49mindex, columns\u001b[39m=\u001b[39;49mcolumns\n\u001b[0;32m    347\u001b[0m )\n\u001b[0;32m    349\u001b[0m _check_values_indices_shape_match(values, index, columns)\n\u001b[0;32m    351\u001b[0m \u001b[39mif\u001b[39;00m typ \u001b[39m==\u001b[39m \u001b[39m\"\u001b[39m\u001b[39marray\u001b[39m\u001b[39m\"\u001b[39m:\n",
      "File \u001b[1;32mc:\\Users\\achoudhary\\AppData\\Local\\anaconda3\\lib\\site-packages\\pandas\\core\\internals\\construction.py:753\u001b[0m, in \u001b[0;36m_get_axes\u001b[1;34m(N, K, index, columns)\u001b[0m\n\u001b[0;32m    751\u001b[0m     columns \u001b[39m=\u001b[39m default_index(K)\n\u001b[0;32m    752\u001b[0m \u001b[39melse\u001b[39;00m:\n\u001b[1;32m--> 753\u001b[0m     columns \u001b[39m=\u001b[39m ensure_index(columns)\n\u001b[0;32m    754\u001b[0m \u001b[39mreturn\u001b[39;00m index, columns\n",
      "File \u001b[1;32mc:\\Users\\achoudhary\\AppData\\Local\\anaconda3\\lib\\site-packages\\pandas\\core\\indexes\\base.py:7333\u001b[0m, in \u001b[0;36mensure_index\u001b[1;34m(index_like, copy)\u001b[0m\n\u001b[0;32m   7331\u001b[0m         \u001b[39mreturn\u001b[39;00m Index\u001b[39m.\u001b[39m_with_infer(index_like, copy\u001b[39m=\u001b[39mcopy, tupleize_cols\u001b[39m=\u001b[39m\u001b[39mFalse\u001b[39;00m)\n\u001b[0;32m   7332\u001b[0m \u001b[39melse\u001b[39;00m:\n\u001b[1;32m-> 7333\u001b[0m     \u001b[39mreturn\u001b[39;00m Index\u001b[39m.\u001b[39;49m_with_infer(index_like, copy\u001b[39m=\u001b[39;49mcopy)\n",
      "File \u001b[1;32mc:\\Users\\achoudhary\\AppData\\Local\\anaconda3\\lib\\site-packages\\pandas\\core\\indexes\\base.py:716\u001b[0m, in \u001b[0;36mIndex._with_infer\u001b[1;34m(cls, *args, **kwargs)\u001b[0m\n\u001b[0;32m    714\u001b[0m \u001b[39mwith\u001b[39;00m warnings\u001b[39m.\u001b[39mcatch_warnings():\n\u001b[0;32m    715\u001b[0m     warnings\u001b[39m.\u001b[39mfilterwarnings(\u001b[39m\"\u001b[39m\u001b[39mignore\u001b[39m\u001b[39m\"\u001b[39m, \u001b[39m\"\u001b[39m\u001b[39m.*the Index constructor\u001b[39m\u001b[39m\"\u001b[39m, \u001b[39mFutureWarning\u001b[39;00m)\n\u001b[1;32m--> 716\u001b[0m     result \u001b[39m=\u001b[39m \u001b[39mcls\u001b[39m(\u001b[39m*\u001b[39margs, \u001b[39m*\u001b[39m\u001b[39m*\u001b[39mkwargs)\n\u001b[0;32m    718\u001b[0m \u001b[39mif\u001b[39;00m result\u001b[39m.\u001b[39mdtype \u001b[39m==\u001b[39m _dtype_obj \u001b[39mand\u001b[39;00m \u001b[39mnot\u001b[39;00m result\u001b[39m.\u001b[39m_is_multi:\n\u001b[0;32m    719\u001b[0m     \u001b[39m# error: Argument 1 to \"maybe_convert_objects\" has incompatible type\u001b[39;00m\n\u001b[0;32m    720\u001b[0m     \u001b[39m# \"Union[ExtensionArray, ndarray[Any, Any]]\"; expected\u001b[39;00m\n\u001b[0;32m    721\u001b[0m     \u001b[39m# \"ndarray[Any, Any]\"\u001b[39;00m\n\u001b[0;32m    722\u001b[0m     values \u001b[39m=\u001b[39m lib\u001b[39m.\u001b[39mmaybe_convert_objects(result\u001b[39m.\u001b[39m_values)  \u001b[39m# type: ignore[arg-type]\u001b[39;00m\n",
      "File \u001b[1;32mc:\\Users\\achoudhary\\AppData\\Local\\anaconda3\\lib\\site-packages\\pandas\\core\\indexes\\base.py:565\u001b[0m, in \u001b[0;36mIndex.__new__\u001b[1;34m(cls, data, dtype, copy, name, tupleize_cols, **kwargs)\u001b[0m\n\u001b[0;32m    560\u001b[0m         \u001b[39mreturn\u001b[39;00m MultiIndex\u001b[39m.\u001b[39mfrom_tuples(\n\u001b[0;32m    561\u001b[0m             data, names\u001b[39m=\u001b[39mname \u001b[39mor\u001b[39;00m kwargs\u001b[39m.\u001b[39mget(\u001b[39m\"\u001b[39m\u001b[39mnames\u001b[39m\u001b[39m\"\u001b[39m)\n\u001b[0;32m    562\u001b[0m         )\n\u001b[0;32m    563\u001b[0m \u001b[39m# other iterable of some kind\u001b[39;00m\n\u001b[1;32m--> 565\u001b[0m subarr \u001b[39m=\u001b[39m com\u001b[39m.\u001b[39;49masarray_tuplesafe(data, dtype\u001b[39m=\u001b[39;49m_dtype_obj)\n\u001b[0;32m    566\u001b[0m \u001b[39mif\u001b[39;00m dtype \u001b[39mis\u001b[39;00m \u001b[39mNone\u001b[39;00m:\n\u001b[0;32m    567\u001b[0m     \u001b[39m# with e.g. a list [1, 2, 3] casting to numeric is _not_ deprecated\u001b[39;00m\n\u001b[0;32m    568\u001b[0m     subarr \u001b[39m=\u001b[39m _maybe_cast_data_without_dtype(\n\u001b[0;32m    569\u001b[0m         subarr, cast_numeric_deprecated\u001b[39m=\u001b[39m\u001b[39mFalse\u001b[39;00m\n\u001b[0;32m    570\u001b[0m     )\n",
      "File \u001b[1;32mc:\\Users\\achoudhary\\AppData\\Local\\anaconda3\\lib\\site-packages\\pandas\\core\\common.py:238\u001b[0m, in \u001b[0;36masarray_tuplesafe\u001b[1;34m(values, dtype)\u001b[0m\n\u001b[0;32m    235\u001b[0m \u001b[39mdef\u001b[39;00m \u001b[39masarray_tuplesafe\u001b[39m(values: Iterable, dtype: NpDtype \u001b[39m|\u001b[39m \u001b[39mNone\u001b[39;00m \u001b[39m=\u001b[39m \u001b[39mNone\u001b[39;00m) \u001b[39m-\u001b[39m\u001b[39m>\u001b[39m ArrayLike:\n\u001b[0;32m    237\u001b[0m     \u001b[39mif\u001b[39;00m \u001b[39mnot\u001b[39;00m (\u001b[39misinstance\u001b[39m(values, (\u001b[39mlist\u001b[39m, \u001b[39mtuple\u001b[39m)) \u001b[39mor\u001b[39;00m \u001b[39mhasattr\u001b[39m(values, \u001b[39m\"\u001b[39m\u001b[39m__array__\u001b[39m\u001b[39m\"\u001b[39m)):\n\u001b[1;32m--> 238\u001b[0m         values \u001b[39m=\u001b[39m \u001b[39mlist\u001b[39;49m(values)\n\u001b[0;32m    239\u001b[0m     \u001b[39melif\u001b[39;00m \u001b[39misinstance\u001b[39m(values, ABCIndex):\n\u001b[0;32m    240\u001b[0m         \u001b[39mreturn\u001b[39;00m values\u001b[39m.\u001b[39m_values\n",
      "\u001b[1;31mTypeError\u001b[0m: 'method' object is not iterable"
     ]
    }
   ],
   "source": [
    "# vectorized_array = x.toarray()\n",
    "# df = pd.DataFrame(data = vectorized_array ,columns = cv.get_feature_names_out)\n",
    "# print(df)"
   ]
  },
  {
   "cell_type": "code",
   "execution_count": 88,
   "metadata": {},
   "outputs": [],
   "source": [
    "count_vectorizer = CountVectorizer(decode_error=\"ignore\",min_df=25,max_df=0.75)\n",
    "count_words = count_vectorizer.fit_transform(df['Review_Text'])\n",
    "# count_vectorized_data = pd.DataFrame(data = count_words.toarray(),columns = count_vectorizer.get_feature_names_out)"
   ]
  },
  {
   "cell_type": "code",
   "execution_count": 90,
   "metadata": {},
   "outputs": [
    {
     "ename": "TypeError",
     "evalue": "'method' object is not iterable",
     "output_type": "error",
     "traceback": [
      "\u001b[1;31m---------------------------------------------------------------------------\u001b[0m",
      "\u001b[1;31mTypeError\u001b[0m                                 Traceback (most recent call last)",
      "Cell \u001b[1;32mIn[90], line 1\u001b[0m\n\u001b[1;32m----> 1\u001b[0m count_vectorized_data \u001b[39m=\u001b[39m pd\u001b[39m.\u001b[39;49mDataFrame(data \u001b[39m=\u001b[39;49m count_words\u001b[39m.\u001b[39;49mtoarray(),columns \u001b[39m=\u001b[39;49m count_vectorizer\u001b[39m.\u001b[39;49mget_feature_names_out)\n\u001b[0;32m      2\u001b[0m count_vectorized_data\u001b[39m.\u001b[39mshape\n",
      "File \u001b[1;32mc:\\Users\\achoudhary\\AppData\\Local\\anaconda3\\lib\\site-packages\\pandas\\core\\frame.py:722\u001b[0m, in \u001b[0;36mDataFrame.__init__\u001b[1;34m(self, data, index, columns, dtype, copy)\u001b[0m\n\u001b[0;32m    712\u001b[0m         mgr \u001b[39m=\u001b[39m dict_to_mgr(\n\u001b[0;32m    713\u001b[0m             \u001b[39m# error: Item \"ndarray\" of \"Union[ndarray, Series, Index]\" has no\u001b[39;00m\n\u001b[0;32m    714\u001b[0m             \u001b[39m# attribute \"name\"\u001b[39;00m\n\u001b[1;32m   (...)\u001b[0m\n\u001b[0;32m    719\u001b[0m             typ\u001b[39m=\u001b[39mmanager,\n\u001b[0;32m    720\u001b[0m         )\n\u001b[0;32m    721\u001b[0m     \u001b[39melse\u001b[39;00m:\n\u001b[1;32m--> 722\u001b[0m         mgr \u001b[39m=\u001b[39m ndarray_to_mgr(\n\u001b[0;32m    723\u001b[0m             data,\n\u001b[0;32m    724\u001b[0m             index,\n\u001b[0;32m    725\u001b[0m             columns,\n\u001b[0;32m    726\u001b[0m             dtype\u001b[39m=\u001b[39;49mdtype,\n\u001b[0;32m    727\u001b[0m             copy\u001b[39m=\u001b[39;49mcopy,\n\u001b[0;32m    728\u001b[0m             typ\u001b[39m=\u001b[39;49mmanager,\n\u001b[0;32m    729\u001b[0m         )\n\u001b[0;32m    731\u001b[0m \u001b[39m# For data is list-like, or Iterable (will consume into list)\u001b[39;00m\n\u001b[0;32m    732\u001b[0m \u001b[39melif\u001b[39;00m is_list_like(data):\n",
      "File \u001b[1;32mc:\\Users\\achoudhary\\AppData\\Local\\anaconda3\\lib\\site-packages\\pandas\\core\\internals\\construction.py:345\u001b[0m, in \u001b[0;36mndarray_to_mgr\u001b[1;34m(values, index, columns, dtype, copy, typ)\u001b[0m\n\u001b[0;32m    335\u001b[0m     values \u001b[39m=\u001b[39m sanitize_array(\n\u001b[0;32m    336\u001b[0m         values,\n\u001b[0;32m    337\u001b[0m         \u001b[39mNone\u001b[39;00m,\n\u001b[1;32m   (...)\u001b[0m\n\u001b[0;32m    341\u001b[0m         allow_2d\u001b[39m=\u001b[39m\u001b[39mTrue\u001b[39;00m,\n\u001b[0;32m    342\u001b[0m     )\n\u001b[0;32m    344\u001b[0m \u001b[39m# _prep_ndarraylike ensures that values.ndim == 2 at this point\u001b[39;00m\n\u001b[1;32m--> 345\u001b[0m index, columns \u001b[39m=\u001b[39m _get_axes(\n\u001b[0;32m    346\u001b[0m     values\u001b[39m.\u001b[39;49mshape[\u001b[39m0\u001b[39;49m], values\u001b[39m.\u001b[39;49mshape[\u001b[39m1\u001b[39;49m], index\u001b[39m=\u001b[39;49mindex, columns\u001b[39m=\u001b[39;49mcolumns\n\u001b[0;32m    347\u001b[0m )\n\u001b[0;32m    349\u001b[0m _check_values_indices_shape_match(values, index, columns)\n\u001b[0;32m    351\u001b[0m \u001b[39mif\u001b[39;00m typ \u001b[39m==\u001b[39m \u001b[39m\"\u001b[39m\u001b[39marray\u001b[39m\u001b[39m\"\u001b[39m:\n",
      "File \u001b[1;32mc:\\Users\\achoudhary\\AppData\\Local\\anaconda3\\lib\\site-packages\\pandas\\core\\internals\\construction.py:753\u001b[0m, in \u001b[0;36m_get_axes\u001b[1;34m(N, K, index, columns)\u001b[0m\n\u001b[0;32m    751\u001b[0m     columns \u001b[39m=\u001b[39m default_index(K)\n\u001b[0;32m    752\u001b[0m \u001b[39melse\u001b[39;00m:\n\u001b[1;32m--> 753\u001b[0m     columns \u001b[39m=\u001b[39m ensure_index(columns)\n\u001b[0;32m    754\u001b[0m \u001b[39mreturn\u001b[39;00m index, columns\n",
      "File \u001b[1;32mc:\\Users\\achoudhary\\AppData\\Local\\anaconda3\\lib\\site-packages\\pandas\\core\\indexes\\base.py:7333\u001b[0m, in \u001b[0;36mensure_index\u001b[1;34m(index_like, copy)\u001b[0m\n\u001b[0;32m   7331\u001b[0m         \u001b[39mreturn\u001b[39;00m Index\u001b[39m.\u001b[39m_with_infer(index_like, copy\u001b[39m=\u001b[39mcopy, tupleize_cols\u001b[39m=\u001b[39m\u001b[39mFalse\u001b[39;00m)\n\u001b[0;32m   7332\u001b[0m \u001b[39melse\u001b[39;00m:\n\u001b[1;32m-> 7333\u001b[0m     \u001b[39mreturn\u001b[39;00m Index\u001b[39m.\u001b[39;49m_with_infer(index_like, copy\u001b[39m=\u001b[39;49mcopy)\n",
      "File \u001b[1;32mc:\\Users\\achoudhary\\AppData\\Local\\anaconda3\\lib\\site-packages\\pandas\\core\\indexes\\base.py:716\u001b[0m, in \u001b[0;36mIndex._with_infer\u001b[1;34m(cls, *args, **kwargs)\u001b[0m\n\u001b[0;32m    714\u001b[0m \u001b[39mwith\u001b[39;00m warnings\u001b[39m.\u001b[39mcatch_warnings():\n\u001b[0;32m    715\u001b[0m     warnings\u001b[39m.\u001b[39mfilterwarnings(\u001b[39m\"\u001b[39m\u001b[39mignore\u001b[39m\u001b[39m\"\u001b[39m, \u001b[39m\"\u001b[39m\u001b[39m.*the Index constructor\u001b[39m\u001b[39m\"\u001b[39m, \u001b[39mFutureWarning\u001b[39;00m)\n\u001b[1;32m--> 716\u001b[0m     result \u001b[39m=\u001b[39m \u001b[39mcls\u001b[39m(\u001b[39m*\u001b[39margs, \u001b[39m*\u001b[39m\u001b[39m*\u001b[39mkwargs)\n\u001b[0;32m    718\u001b[0m \u001b[39mif\u001b[39;00m result\u001b[39m.\u001b[39mdtype \u001b[39m==\u001b[39m _dtype_obj \u001b[39mand\u001b[39;00m \u001b[39mnot\u001b[39;00m result\u001b[39m.\u001b[39m_is_multi:\n\u001b[0;32m    719\u001b[0m     \u001b[39m# error: Argument 1 to \"maybe_convert_objects\" has incompatible type\u001b[39;00m\n\u001b[0;32m    720\u001b[0m     \u001b[39m# \"Union[ExtensionArray, ndarray[Any, Any]]\"; expected\u001b[39;00m\n\u001b[0;32m    721\u001b[0m     \u001b[39m# \"ndarray[Any, Any]\"\u001b[39;00m\n\u001b[0;32m    722\u001b[0m     values \u001b[39m=\u001b[39m lib\u001b[39m.\u001b[39mmaybe_convert_objects(result\u001b[39m.\u001b[39m_values)  \u001b[39m# type: ignore[arg-type]\u001b[39;00m\n",
      "File \u001b[1;32mc:\\Users\\achoudhary\\AppData\\Local\\anaconda3\\lib\\site-packages\\pandas\\core\\indexes\\base.py:565\u001b[0m, in \u001b[0;36mIndex.__new__\u001b[1;34m(cls, data, dtype, copy, name, tupleize_cols, **kwargs)\u001b[0m\n\u001b[0;32m    560\u001b[0m         \u001b[39mreturn\u001b[39;00m MultiIndex\u001b[39m.\u001b[39mfrom_tuples(\n\u001b[0;32m    561\u001b[0m             data, names\u001b[39m=\u001b[39mname \u001b[39mor\u001b[39;00m kwargs\u001b[39m.\u001b[39mget(\u001b[39m\"\u001b[39m\u001b[39mnames\u001b[39m\u001b[39m\"\u001b[39m)\n\u001b[0;32m    562\u001b[0m         )\n\u001b[0;32m    563\u001b[0m \u001b[39m# other iterable of some kind\u001b[39;00m\n\u001b[1;32m--> 565\u001b[0m subarr \u001b[39m=\u001b[39m com\u001b[39m.\u001b[39;49masarray_tuplesafe(data, dtype\u001b[39m=\u001b[39;49m_dtype_obj)\n\u001b[0;32m    566\u001b[0m \u001b[39mif\u001b[39;00m dtype \u001b[39mis\u001b[39;00m \u001b[39mNone\u001b[39;00m:\n\u001b[0;32m    567\u001b[0m     \u001b[39m# with e.g. a list [1, 2, 3] casting to numeric is _not_ deprecated\u001b[39;00m\n\u001b[0;32m    568\u001b[0m     subarr \u001b[39m=\u001b[39m _maybe_cast_data_without_dtype(\n\u001b[0;32m    569\u001b[0m         subarr, cast_numeric_deprecated\u001b[39m=\u001b[39m\u001b[39mFalse\u001b[39;00m\n\u001b[0;32m    570\u001b[0m     )\n",
      "File \u001b[1;32mc:\\Users\\achoudhary\\AppData\\Local\\anaconda3\\lib\\site-packages\\pandas\\core\\common.py:238\u001b[0m, in \u001b[0;36masarray_tuplesafe\u001b[1;34m(values, dtype)\u001b[0m\n\u001b[0;32m    235\u001b[0m \u001b[39mdef\u001b[39;00m \u001b[39masarray_tuplesafe\u001b[39m(values: Iterable, dtype: NpDtype \u001b[39m|\u001b[39m \u001b[39mNone\u001b[39;00m \u001b[39m=\u001b[39m \u001b[39mNone\u001b[39;00m) \u001b[39m-\u001b[39m\u001b[39m>\u001b[39m ArrayLike:\n\u001b[0;32m    237\u001b[0m     \u001b[39mif\u001b[39;00m \u001b[39mnot\u001b[39;00m (\u001b[39misinstance\u001b[39m(values, (\u001b[39mlist\u001b[39m, \u001b[39mtuple\u001b[39m)) \u001b[39mor\u001b[39;00m \u001b[39mhasattr\u001b[39m(values, \u001b[39m\"\u001b[39m\u001b[39m__array__\u001b[39m\u001b[39m\"\u001b[39m)):\n\u001b[1;32m--> 238\u001b[0m         values \u001b[39m=\u001b[39m \u001b[39mlist\u001b[39;49m(values)\n\u001b[0;32m    239\u001b[0m     \u001b[39melif\u001b[39;00m \u001b[39misinstance\u001b[39m(values, ABCIndex):\n\u001b[0;32m    240\u001b[0m         \u001b[39mreturn\u001b[39;00m values\u001b[39m.\u001b[39m_values\n",
      "\u001b[1;31mTypeError\u001b[0m: 'method' object is not iterable"
     ]
    }
   ],
   "source": [
    "count_vectorized_data = pd.DataFrame(data = count_words.toarray(),columns = count_vectorizer.get_feature_names_out)\n",
    "count_vectorized_data.shape"
   ]
  },
  {
   "cell_type": "code",
   "execution_count": 85,
   "metadata": {},
   "outputs": [
    {
     "name": "stdout",
     "output_type": "stream",
     "text": [
      "<class 'numpy.ndarray'>\n"
     ]
    }
   ],
   "source": [
    "print(type(X))"
   ]
  },
  {
   "cell_type": "code",
   "execution_count": null,
   "metadata": {},
   "outputs": [],
   "source": []
  },
  {
   "cell_type": "code",
   "execution_count": 11,
   "metadata": {},
   "outputs": [],
   "source": [
    "X=x.toarray()\n",
    "y=df['sentiment']\n",
    "x_train,x_test,y_train,y_test=train_test_split(X,y,test_size=0.33,random_state=42)"
   ]
  },
  {
   "attachments": {},
   "cell_type": "markdown",
   "metadata": {},
   "source": [
    "Preparing x and y variables "
   ]
  },
  {
   "cell_type": "code",
   "execution_count": 9,
   "metadata": {},
   "outputs": [],
   "source": [
    "# from imblearn.over_sampling import SMOTE\n",
    "# sm=SMOTE(random_state=42)\n",
    "# x_train_sm,y_train_sm=sm.fit_resample(x_train,y_train)"
   ]
  },
  {
   "attachments": {},
   "cell_type": "markdown",
   "metadata": {},
   "source": [
    "You need to convert the dtype object to unicode string"
   ]
  },
  {
   "cell_type": "code",
   "execution_count": 10,
   "metadata": {},
   "outputs": [],
   "source": [
    "# unique,count = np.unique(y_train_sm,return_counts=True)\n",
    "# y_train_smote_value_count = {k:v for (k,v) in zip(unique,count)}\n",
    "# y_train_smote_value_count"
   ]
  },
  {
   "attachments": {},
   "cell_type": "markdown",
   "metadata": {},
   "source": [
    "Create a evaluation function to give all metrics after model training "
   ]
  },
  {
   "cell_type": "code",
   "execution_count": 63,
   "metadata": {},
   "outputs": [
    {
     "name": "stdout",
     "output_type": "stream",
     "text": [
      "RMSE value for k=  1 is: 0.48648648648648646\n",
      "RMSE value for k=  2 is: 0.4169526654200409\n",
      "RMSE value for k=  3 is: 0.3882245302056801\n",
      "RMSE value for k=  4 is: 0.37516735978112814\n",
      "RMSE value for k=  5 is: 0.3648948936591929\n",
      "RMSE value for k=  6 is: 0.3592607095782057\n",
      "RMSE value for k=  7 is: 0.3579506673443037\n",
      "RMSE value for k=  8 is: 0.35609454305544214\n",
      "RMSE value for k=  9 is: 0.35173614103117423\n",
      "RMSE value for k=  10 is: 0.35312442427731244\n",
      "RMSE value for k=  11 is: 0.35124824521061476\n",
      "RMSE value for k=  12 is: 0.3513730069556341\n",
      "RMSE value for k=  13 is: 0.3512098523028609\n",
      "RMSE value for k=  14 is: 0.35082590435108585\n",
      "RMSE value for k=  15 is: 0.34877316955993903\n",
      "RMSE value for k=  16 is: 0.346238461107845\n",
      "RMSE value for k=  17 is: 0.3461257773968182\n",
      "RMSE value for k=  18 is: 0.34564551519370956\n",
      "RMSE value for k=  19 is: 0.3448996164737347\n",
      "RMSE value for k=  20 is: 0.34355699641859505\n"
     ]
    }
   ],
   "source": [
    "from sklearn import neighbors\n",
    "from math import sqrt\n",
    "rmse_val = [] #to store rmse values for different k\n",
    "for K in range(20):\n",
    "    K = K+1\n",
    "    model = neighbors.KNeighborsRegressor(n_neighbors = K)\n",
    "\n",
    "    model.fit(x_train, y_train)  #fit the model\n",
    "    pred=model.predict(x_test) #make prediction on test set\n",
    "    error = sqrt(mean_squared_error(y_test,pred)) #calculate rmse\n",
    "    rmse_val.append(error) #store rmse values\n",
    "    print('RMSE value for k= ' , K , 'is:', error)"
   ]
  },
  {
   "cell_type": "code",
   "execution_count": 64,
   "metadata": {},
   "outputs": [
    {
     "data": {
      "text/plain": [
       "<Axes: >"
      ]
     },
     "execution_count": 64,
     "metadata": {},
     "output_type": "execute_result"
    },
    {
     "data": {
      "image/png": "[encoded data removed]",
      "text/plain": [
       "<Figure size 640x480 with 1 Axes>"
      ]
     },
     "metadata": {},
     "output_type": "display_data"
    }
   ],
   "source": [
    "curve = pd.DataFrame(rmse_val) #belbow curve \n",
    "curve.plot()"
   ]
  },
  {
   "cell_type": "code",
   "execution_count": 73,
   "metadata": {},
   "outputs": [
    {
     "name": "stdout",
     "output_type": "stream",
     "text": [
      "[[ 115   94]\n",
      " [  12 1148]]\n",
      "accuracy of random forest classifier is  0.9225712198685172\n",
      "              precision    recall  f1-score   support\n",
      "\n",
      "           0       0.91      0.55      0.68       209\n",
      "           1       0.92      0.99      0.96      1160\n",
      "\n",
      "    accuracy                           0.92      1369\n",
      "   macro avg       0.91      0.77      0.82      1369\n",
      "weighted avg       0.92      0.92      0.91      1369\n",
      "\n",
      "0.4\n",
      "accuracy of MultinomialNB is  0.870708546384222\n",
      "[[  42  167]\n",
      " [  10 1150]]\n",
      "0.0\n",
      "accuracy of KNeighborsClassifier is  0.7779401022644266\n",
      "[[146  63]\n",
      " [241 919]]\n",
      "-0.72\n",
      "accuracy of decision tree classifier is  0.9379108838568299\n",
      "[[ 161   48]\n",
      " [  37 1123]]\n",
      "0.52\n"
     ]
    }
   ],
   "source": [
    "rfc = RandomForestClassifier(n_estimators=100)\n",
    "clf=MultinomialNB()\n",
    "knn = KNeighborsClassifier(n_neighbors = 8)\n",
    "dsc = tree.DecisionTreeClassifier()\n",
    "\n",
    "rfc.fit(x_train,y_train)\n",
    "rfc_pred = rfc.predict(x_test)\n",
    "print(confusion_matrix(y_test,rfc_pred))\n",
    "accuracy=accuracy_score(y_test,rfc_pred)\n",
    "print(\"accuracy of random forest classifier is \",accuracy)\n",
    "print(classification_report(y_test,rfc_pred))\n",
    "print(round(r2_score(y_test,rfc_pred),2))\n",
    "\n",
    "clf.fit(x_train,y_train)\n",
    "clf_pred = clf.predict(x_test)\n",
    "accuracy=accuracy_score(y_test,clf_pred)\n",
    "print(\"accuracy of MultinomialNB is \",accuracy)\n",
    "print(confusion_matrix(y_test,clf_pred))\n",
    "print(round(r2_score(y_test,clf_pred),2))\n",
    "\n",
    "knn.fit(x_train,y_train)\n",
    "knn_pred = knn.predict(x_test)\n",
    "accuracy=accuracy_score(y_test,knn_pred)\n",
    "print(\"accuracy of KNeighborsClassifier is \",accuracy)\n",
    "print(confusion_matrix(y_test,knn_pred))\n",
    "print(round(r2_score(y_test,knn_pred),2))\n",
    "\n",
    "dsc.fit(x_train,y_train)\n",
    "dsc_pred = dsc.predict(x_test)\n",
    "accuracy=accuracy_score(y_test,dsc_pred)\n",
    "print(\"accuracy of decision tree classifier is \",accuracy)\n",
    "print(confusion_matrix(y_test,dsc_pred))\n",
    "print(round(r2_score(y_test,dsc_pred),2))\n",
    "\n",
    "\n",
    "\n"
   ]
  },
  {
   "cell_type": "code",
   "execution_count": 72,
   "metadata": {},
   "outputs": [
    {
     "data": {
      "text/plain": [
       "65"
      ]
     },
     "execution_count": 72,
     "metadata": {},
     "output_type": "execute_result"
    }
   ],
   "source": [
    "dsc.tree_.max_depth"
   ]
  },
  {
   "attachments": {},
   "cell_type": "markdown",
   "metadata": {},
   "source": [
    "good KNN performance usually requires preprocessing of data to make all variables similarly scaled and centered"
   ]
  }
 ],
 "metadata": {
  "kernelspec": {
   "display_name": "base",
   "language": "python",
   "name": "python3"
  },
  "language_info": {
   "codemirror_mode": {
    "name": "ipython",
    "version": 3
   },
   "file_extension": ".py",
   "mimetype": "text/x-python",
   "name": "python",
   "nbconvert_exporter": "python",
   "pygments_lexer": "ipython3",
   "version": "3.10.9"
  },
  "orig_nbformat": 4
 },
 "nbformat": 4,
 "nbformat_minor": 2
}
